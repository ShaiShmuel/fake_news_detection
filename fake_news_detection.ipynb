{
  "nbformat": 4,
  "nbformat_minor": 0,
  "metadata": {
    "colab": {
      "name": "fake news detection.ipynb",
      "provenance": [],
      "include_colab_link": true
    },
    "kernelspec": {
      "name": "python3",
      "display_name": "Python 3"
    }
  },
  "cells": [
    {
      "cell_type": "markdown",
      "metadata": {
        "id": "view-in-github",
        "colab_type": "text"
      },
      "source": [
        "<a href=\"https://colab.research.google.com/github/ShaiShmuel/fake_news_detection/blob/main/fake_news_detection.ipynb\" target=\"_parent\"><img src=\"https://colab.research.google.com/assets/colab-badge.svg\" alt=\"Open In Colab\"/></a>"
      ]
    },
    {
      "cell_type": "markdown",
      "metadata": {
        "id": "frcNkcQn8zxK"
      },
      "source": [
        "Fake news detaction by title | Uriel Bender & Shai Shmuel"
      ]
    },
    {
      "cell_type": "code",
      "metadata": {
        "id": "8xTvRviSADYt"
      },
      "source": [
        "import numpy as np\r\n",
        "import pandas as pd\r\n",
        "import plotly.graph_objects as go"
      ],
      "execution_count": null,
      "outputs": []
    },
    {
      "cell_type": "markdown",
      "metadata": {
        "id": "vlEAcg70AIBd"
      },
      "source": [
        "Reading the Data set"
      ]
    },
    {
      "cell_type": "code",
      "metadata": {
        "id": "cl54EZNjAEtR"
      },
      "source": [
        "Train_data = pd.read_csv(\"/content/fake-news/train.csv\")\r\n",
        "Train = Train_data.copy()"
      ],
      "execution_count": null,
      "outputs": []
    },
    {
      "cell_type": "code",
      "metadata": {
        "colab": {
          "base_uri": "https://localhost:8080/",
          "height": 769
        },
        "id": "cud5Kf7TAPqo",
        "outputId": "3ca5eba2-98e4-4d3e-f08c-458a1ee4b2d6"
      },
      "source": [
        "# here we are printing first 15 lines of our train dataset\r\n",
        "Train[0:15]"
      ],
      "execution_count": null,
      "outputs": [
        {
          "output_type": "execute_result",
          "data": {
            "text/html": [
              "<div>\n",
              "<style scoped>\n",
              "    .dataframe tbody tr th:only-of-type {\n",
              "        vertical-align: middle;\n",
              "    }\n",
              "\n",
              "    .dataframe tbody tr th {\n",
              "        vertical-align: top;\n",
              "    }\n",
              "\n",
              "    .dataframe thead th {\n",
              "        text-align: right;\n",
              "    }\n",
              "</style>\n",
              "<table border=\"1\" class=\"dataframe\">\n",
              "  <thead>\n",
              "    <tr style=\"text-align: right;\">\n",
              "      <th></th>\n",
              "      <th>id</th>\n",
              "      <th>title</th>\n",
              "      <th>author</th>\n",
              "      <th>text</th>\n",
              "      <th>label</th>\n",
              "    </tr>\n",
              "  </thead>\n",
              "  <tbody>\n",
              "    <tr>\n",
              "      <th>0</th>\n",
              "      <td>0</td>\n",
              "      <td>House Dem Aide: We Didn’t Even See Comey’s Let...</td>\n",
              "      <td>Darrell Lucus</td>\n",
              "      <td>House Dem Aide: We Didn’t Even See Comey’s Let...</td>\n",
              "      <td>1</td>\n",
              "    </tr>\n",
              "    <tr>\n",
              "      <th>1</th>\n",
              "      <td>1</td>\n",
              "      <td>FLYNN: Hillary Clinton, Big Woman on Campus - ...</td>\n",
              "      <td>Daniel J. Flynn</td>\n",
              "      <td>Ever get the feeling your life circles the rou...</td>\n",
              "      <td>0</td>\n",
              "    </tr>\n",
              "    <tr>\n",
              "      <th>2</th>\n",
              "      <td>2</td>\n",
              "      <td>Why the Truth Might Get You Fired</td>\n",
              "      <td>Consortiumnews.com</td>\n",
              "      <td>Why the Truth Might Get You Fired October 29, ...</td>\n",
              "      <td>1</td>\n",
              "    </tr>\n",
              "    <tr>\n",
              "      <th>3</th>\n",
              "      <td>3</td>\n",
              "      <td>15 Civilians Killed In Single US Airstrike Hav...</td>\n",
              "      <td>Jessica Purkiss</td>\n",
              "      <td>Videos 15 Civilians Killed In Single US Airstr...</td>\n",
              "      <td>1</td>\n",
              "    </tr>\n",
              "    <tr>\n",
              "      <th>4</th>\n",
              "      <td>4</td>\n",
              "      <td>Iranian woman jailed for fictional unpublished...</td>\n",
              "      <td>Howard Portnoy</td>\n",
              "      <td>Print \\nAn Iranian woman has been sentenced to...</td>\n",
              "      <td>1</td>\n",
              "    </tr>\n",
              "    <tr>\n",
              "      <th>5</th>\n",
              "      <td>5</td>\n",
              "      <td>Jackie Mason: Hollywood Would Love Trump if He...</td>\n",
              "      <td>Daniel Nussbaum</td>\n",
              "      <td>In these trying times, Jackie Mason is the Voi...</td>\n",
              "      <td>0</td>\n",
              "    </tr>\n",
              "    <tr>\n",
              "      <th>6</th>\n",
              "      <td>6</td>\n",
              "      <td>Life: Life Of Luxury: Elton John’s 6 Favorite ...</td>\n",
              "      <td>NaN</td>\n",
              "      <td>Ever wonder how Britain’s most iconic pop pian...</td>\n",
              "      <td>1</td>\n",
              "    </tr>\n",
              "    <tr>\n",
              "      <th>7</th>\n",
              "      <td>7</td>\n",
              "      <td>Benoît Hamon Wins French Socialist Party’s Pre...</td>\n",
              "      <td>Alissa J. Rubin</td>\n",
              "      <td>PARIS  —   France chose an idealistic, traditi...</td>\n",
              "      <td>0</td>\n",
              "    </tr>\n",
              "    <tr>\n",
              "      <th>8</th>\n",
              "      <td>8</td>\n",
              "      <td>Excerpts From a Draft Script for Donald Trump’...</td>\n",
              "      <td>NaN</td>\n",
              "      <td>Donald J. Trump is scheduled to make a highly ...</td>\n",
              "      <td>0</td>\n",
              "    </tr>\n",
              "    <tr>\n",
              "      <th>9</th>\n",
              "      <td>9</td>\n",
              "      <td>A Back-Channel Plan for Ukraine and Russia, Co...</td>\n",
              "      <td>Megan Twohey and Scott Shane</td>\n",
              "      <td>A week before Michael T. Flynn resigned as nat...</td>\n",
              "      <td>0</td>\n",
              "    </tr>\n",
              "    <tr>\n",
              "      <th>10</th>\n",
              "      <td>10</td>\n",
              "      <td>Obama’s Organizing for Action Partners with So...</td>\n",
              "      <td>Aaron Klein</td>\n",
              "      <td>Organizing for Action, the activist group that...</td>\n",
              "      <td>0</td>\n",
              "    </tr>\n",
              "    <tr>\n",
              "      <th>11</th>\n",
              "      <td>11</td>\n",
              "      <td>BBC Comedy Sketch \"Real Housewives of ISIS\" Ca...</td>\n",
              "      <td>Chris Tomlinson</td>\n",
              "      <td>The BBC produced spoof on the “Real Housewives...</td>\n",
              "      <td>0</td>\n",
              "    </tr>\n",
              "    <tr>\n",
              "      <th>12</th>\n",
              "      <td>12</td>\n",
              "      <td>Russian Researchers Discover Secret Nazi Milit...</td>\n",
              "      <td>Amando Flavio</td>\n",
              "      <td>The mystery surrounding The Third Reich and Na...</td>\n",
              "      <td>1</td>\n",
              "    </tr>\n",
              "    <tr>\n",
              "      <th>13</th>\n",
              "      <td>13</td>\n",
              "      <td>US Officials See No Link Between Trump and Russia</td>\n",
              "      <td>Jason Ditz</td>\n",
              "      <td>Clinton Campaign Demands FBI Affirm Trump's Ru...</td>\n",
              "      <td>1</td>\n",
              "    </tr>\n",
              "    <tr>\n",
              "      <th>14</th>\n",
              "      <td>14</td>\n",
              "      <td>Re: Yes, There Are Paid Government Trolls On S...</td>\n",
              "      <td>AnotherAnnie</td>\n",
              "      <td>Yes, There Are Paid Government Trolls On Socia...</td>\n",
              "      <td>1</td>\n",
              "    </tr>\n",
              "  </tbody>\n",
              "</table>\n",
              "</div>"
            ],
            "text/plain": [
              "    id  ... label\n",
              "0    0  ...     1\n",
              "1    1  ...     0\n",
              "2    2  ...     1\n",
              "3    3  ...     1\n",
              "4    4  ...     1\n",
              "5    5  ...     0\n",
              "6    6  ...     1\n",
              "7    7  ...     0\n",
              "8    8  ...     0\n",
              "9    9  ...     0\n",
              "10  10  ...     0\n",
              "11  11  ...     0\n",
              "12  12  ...     1\n",
              "13  13  ...     1\n",
              "14  14  ...     1\n",
              "\n",
              "[15 rows x 5 columns]"
            ]
          },
          "metadata": {
            "tags": []
          },
          "execution_count": 250
        }
      ]
    },
    {
      "cell_type": "code",
      "metadata": {
        "colab": {
          "base_uri": "https://localhost:8080/"
        },
        "id": "gpS4fcy9BbFa",
        "outputId": "f83c19b5-aef6-4db2-dde9-0ab1bca4ba24"
      },
      "source": [
        "Train.info()"
      ],
      "execution_count": null,
      "outputs": [
        {
          "output_type": "stream",
          "text": [
            "<class 'pandas.core.frame.DataFrame'>\n",
            "RangeIndex: 20800 entries, 0 to 20799\n",
            "Data columns (total 5 columns):\n",
            " #   Column  Non-Null Count  Dtype \n",
            "---  ------  --------------  ----- \n",
            " 0   id      20800 non-null  int64 \n",
            " 1   title   20242 non-null  object\n",
            " 2   author  18843 non-null  object\n",
            " 3   text    20761 non-null  object\n",
            " 4   label   20800 non-null  int64 \n",
            "dtypes: int64(2), object(3)\n",
            "memory usage: 812.6+ KB\n"
          ],
          "name": "stdout"
        }
      ]
    },
    {
      "cell_type": "code",
      "metadata": {
        "colab": {
          "base_uri": "https://localhost:8080/"
        },
        "id": "PWmQQhPNBeOn",
        "outputId": "da89ae69-ac97-4dc7-f858-da1792a56b87"
      },
      "source": [
        "Train.shape"
      ],
      "execution_count": null,
      "outputs": [
        {
          "output_type": "execute_result",
          "data": {
            "text/plain": [
              "(20800, 5)"
            ]
          },
          "metadata": {
            "tags": []
          },
          "execution_count": 252
        }
      ]
    },
    {
      "cell_type": "code",
      "metadata": {
        "colab": {
          "base_uri": "https://localhost:8080/"
        },
        "id": "ChlEKxDxBjSC",
        "outputId": "25a46040-2c99-4a4a-91f1-f83b4b42e7a2"
      },
      "source": [
        "# here we are checking if there is null values\r\n",
        "Train.isnull().sum()"
      ],
      "execution_count": null,
      "outputs": [
        {
          "output_type": "execute_result",
          "data": {
            "text/plain": [
              "id           0\n",
              "title      558\n",
              "author    1957\n",
              "text        39\n",
              "label        0\n",
              "dtype: int64"
            ]
          },
          "metadata": {
            "tags": []
          },
          "execution_count": 253
        }
      ]
    },
    {
      "cell_type": "code",
      "metadata": {
        "id": "fcjeR4WkB5o5"
      },
      "source": [
        "Train = Train.dropna()"
      ],
      "execution_count": null,
      "outputs": []
    },
    {
      "cell_type": "code",
      "metadata": {
        "colab": {
          "base_uri": "https://localhost:8080/"
        },
        "id": "TCJDZUzoCDZB",
        "outputId": "d5d0d510-ae9e-45e6-bf33-177794c40fea"
      },
      "source": [
        "Train.isnull().sum()"
      ],
      "execution_count": null,
      "outputs": [
        {
          "output_type": "execute_result",
          "data": {
            "text/plain": [
              "id        0\n",
              "title     0\n",
              "author    0\n",
              "text      0\n",
              "label     0\n",
              "dtype: int64"
            ]
          },
          "metadata": {
            "tags": []
          },
          "execution_count": 255
        }
      ]
    },
    {
      "cell_type": "code",
      "metadata": {
        "colab": {
          "base_uri": "https://localhost:8080/",
          "height": 529
        },
        "id": "_TM3K4QRCKPu",
        "outputId": "b0bf4a36-30f4-40b2-8e7e-661f06209555"
      },
      "source": [
        "Train[0:10]"
      ],
      "execution_count": null,
      "outputs": [
        {
          "output_type": "execute_result",
          "data": {
            "text/html": [
              "<div>\n",
              "<style scoped>\n",
              "    .dataframe tbody tr th:only-of-type {\n",
              "        vertical-align: middle;\n",
              "    }\n",
              "\n",
              "    .dataframe tbody tr th {\n",
              "        vertical-align: top;\n",
              "    }\n",
              "\n",
              "    .dataframe thead th {\n",
              "        text-align: right;\n",
              "    }\n",
              "</style>\n",
              "<table border=\"1\" class=\"dataframe\">\n",
              "  <thead>\n",
              "    <tr style=\"text-align: right;\">\n",
              "      <th></th>\n",
              "      <th>id</th>\n",
              "      <th>title</th>\n",
              "      <th>author</th>\n",
              "      <th>text</th>\n",
              "      <th>label</th>\n",
              "    </tr>\n",
              "  </thead>\n",
              "  <tbody>\n",
              "    <tr>\n",
              "      <th>0</th>\n",
              "      <td>0</td>\n",
              "      <td>House Dem Aide: We Didn’t Even See Comey’s Let...</td>\n",
              "      <td>Darrell Lucus</td>\n",
              "      <td>House Dem Aide: We Didn’t Even See Comey’s Let...</td>\n",
              "      <td>1</td>\n",
              "    </tr>\n",
              "    <tr>\n",
              "      <th>1</th>\n",
              "      <td>1</td>\n",
              "      <td>FLYNN: Hillary Clinton, Big Woman on Campus - ...</td>\n",
              "      <td>Daniel J. Flynn</td>\n",
              "      <td>Ever get the feeling your life circles the rou...</td>\n",
              "      <td>0</td>\n",
              "    </tr>\n",
              "    <tr>\n",
              "      <th>2</th>\n",
              "      <td>2</td>\n",
              "      <td>Why the Truth Might Get You Fired</td>\n",
              "      <td>Consortiumnews.com</td>\n",
              "      <td>Why the Truth Might Get You Fired October 29, ...</td>\n",
              "      <td>1</td>\n",
              "    </tr>\n",
              "    <tr>\n",
              "      <th>3</th>\n",
              "      <td>3</td>\n",
              "      <td>15 Civilians Killed In Single US Airstrike Hav...</td>\n",
              "      <td>Jessica Purkiss</td>\n",
              "      <td>Videos 15 Civilians Killed In Single US Airstr...</td>\n",
              "      <td>1</td>\n",
              "    </tr>\n",
              "    <tr>\n",
              "      <th>4</th>\n",
              "      <td>4</td>\n",
              "      <td>Iranian woman jailed for fictional unpublished...</td>\n",
              "      <td>Howard Portnoy</td>\n",
              "      <td>Print \\nAn Iranian woman has been sentenced to...</td>\n",
              "      <td>1</td>\n",
              "    </tr>\n",
              "    <tr>\n",
              "      <th>5</th>\n",
              "      <td>5</td>\n",
              "      <td>Jackie Mason: Hollywood Would Love Trump if He...</td>\n",
              "      <td>Daniel Nussbaum</td>\n",
              "      <td>In these trying times, Jackie Mason is the Voi...</td>\n",
              "      <td>0</td>\n",
              "    </tr>\n",
              "    <tr>\n",
              "      <th>7</th>\n",
              "      <td>7</td>\n",
              "      <td>Benoît Hamon Wins French Socialist Party’s Pre...</td>\n",
              "      <td>Alissa J. Rubin</td>\n",
              "      <td>PARIS  —   France chose an idealistic, traditi...</td>\n",
              "      <td>0</td>\n",
              "    </tr>\n",
              "    <tr>\n",
              "      <th>9</th>\n",
              "      <td>9</td>\n",
              "      <td>A Back-Channel Plan for Ukraine and Russia, Co...</td>\n",
              "      <td>Megan Twohey and Scott Shane</td>\n",
              "      <td>A week before Michael T. Flynn resigned as nat...</td>\n",
              "      <td>0</td>\n",
              "    </tr>\n",
              "    <tr>\n",
              "      <th>10</th>\n",
              "      <td>10</td>\n",
              "      <td>Obama’s Organizing for Action Partners with So...</td>\n",
              "      <td>Aaron Klein</td>\n",
              "      <td>Organizing for Action, the activist group that...</td>\n",
              "      <td>0</td>\n",
              "    </tr>\n",
              "    <tr>\n",
              "      <th>11</th>\n",
              "      <td>11</td>\n",
              "      <td>BBC Comedy Sketch \"Real Housewives of ISIS\" Ca...</td>\n",
              "      <td>Chris Tomlinson</td>\n",
              "      <td>The BBC produced spoof on the “Real Housewives...</td>\n",
              "      <td>0</td>\n",
              "    </tr>\n",
              "  </tbody>\n",
              "</table>\n",
              "</div>"
            ],
            "text/plain": [
              "    id  ... label\n",
              "0    0  ...     1\n",
              "1    1  ...     0\n",
              "2    2  ...     1\n",
              "3    3  ...     1\n",
              "4    4  ...     1\n",
              "5    5  ...     0\n",
              "7    7  ...     0\n",
              "9    9  ...     0\n",
              "10  10  ...     0\n",
              "11  11  ...     0\n",
              "\n",
              "[10 rows x 5 columns]"
            ]
          },
          "metadata": {
            "tags": []
          },
          "execution_count": 256
        }
      ]
    },
    {
      "cell_type": "markdown",
      "metadata": {
        "id": "JT_vkE10CYSe"
      },
      "source": [
        "We can see that we have missing values in our training set, id 6 and 8 are missing"
      ]
    },
    {
      "cell_type": "code",
      "metadata": {
        "colab": {
          "base_uri": "https://localhost:8080/",
          "height": 446
        },
        "id": "HJLuHMmnCk4L",
        "outputId": "54e04e88-5cff-4bc2-b42c-776302d8ea86"
      },
      "source": [
        "news_type = pd.crosstab(Train.label, Train.title)\r\n",
        "news_type"
      ],
      "execution_count": null,
      "outputs": [
        {
          "output_type": "execute_result",
          "data": {
            "text/html": [
              "<div>\n",
              "<style scoped>\n",
              "    .dataframe tbody tr th:only-of-type {\n",
              "        vertical-align: middle;\n",
              "    }\n",
              "\n",
              "    .dataframe tbody tr th {\n",
              "        vertical-align: top;\n",
              "    }\n",
              "\n",
              "    .dataframe thead th {\n",
              "        text-align: right;\n",
              "    }\n",
              "</style>\n",
              "<table border=\"1\" class=\"dataframe\">\n",
              "  <thead>\n",
              "    <tr style=\"text-align: right;\">\n",
              "      <th>title</th>\n",
              "      <th>\"Allahu Akbar, the Russians are here!\": Aleppo terrorists flee Russian airstrike (VIDEO)</th>\n",
              "      <th>\"Authoritarianism\": How the West demonizes strong, popular leaders</th>\n",
              "      <th>\"Donald, willst du mich heiraten?\": Clinton hat Kampf ums Weiße Haus noch nicht aufgegeben</th>\n",
              "      <th>\"Europe Has No Future\" Putin Slams Austria Migrant Child Rape Injustice</th>\n",
              "      <th>\"Fake News\" About Trump Continues Unabated</th>\n",
              "      <th>\"France First\" – Le Pen Hits Out At Islamism and Globalisation</th>\n",
              "      <th>\"Hamilton\" Actor Refuses To Apologize For Political Stunt</th>\n",
              "      <th>\"Just say it's the Russians\" - Joaquin Flores on RT [Video]</th>\n",
              "      <th>\"Top Five Clinton Donors Are Jewish\" - How Anti-Semitic Is This Fact?</th>\n",
              "      <th>\"Zu unseriös\": Auch Lothar Matthäus sagt HSV als Sportdirektor ab</th>\n",
              "      <th>#2816: Clinton Pride’s 8(a) Pig Farm Bridge – Serco Zulu Server Snuff –Soros's Patented Voter Key</th>\n",
              "      <th>#2817: Serco's Zulu Starnet Blackmail – Clinton 8(a) Pig Farm Bridge – Soros Patent Vote</th>\n",
              "      <th>#2820: Clinton 8(a) Pig Farm Servers – Boeing Bridge Of Pimps – Serco In-Flight Zulu Snuff</th>\n",
              "      <th>#BREAKING: SECOND Assassination Attempt On Trump In NV; Suspect Detained (LIVE BLOG)</th>\n",
              "      <th>#BREAKING: TRUMP USHERED OFF STAGE IN NV SUSPECT DETAINED</th>\n",
              "      <th>#BoycottComedian…ROBERT DENIRO Wanted “To Punch Trump In The Face”…Supports Anti-Trump Rioters…Now Wants Americans To Support His New Movie [VIDEO]</th>\n",
              "      <th>#DraftOurDaughters: Feminist Hillary Supporters Vow To Fight War With Russia For Us</th>\n",
              "      <th>#DraftOurDaughters: Pro-War Hillary Faces Backlash Over Female Draft</th>\n",
              "      <th>#GrammysSoWhite Came to Life. Will the Awards Face Its Race Problem? - The New York Times</th>\n",
              "      <th>#InNorthDakota ~~ PALESTINIANS STAND WITH THE SIOUX</th>\n",
              "      <th>#MayorsStand4All Day Touts Support for Illegal Immigrants</th>\n",
              "      <th>#MyUnintendedJoy: Americans Show Why They Choose Life Over Abortion - Breitbart</th>\n",
              "      <th>#NoDAPL Situation Critical</th>\n",
              "      <th>#NoDAPL Spills Over: Musicians Boycott Dakota Access Pipeline CEO’s Record Label &amp; Festival</th>\n",
              "      <th>#NoDAPL: Angry Man Fires 7 Shots Into Air Near Standing Rock Water Protectors</th>\n",
              "      <th>#Podesta21: Clinton’s ‘Twisted’ Behavior ‘Smacks of Acting Above the Law’</th>\n",
              "      <th>#PodestaEmails20: WikiLeaks releases another batch from Clinton campaign chair</th>\n",
              "      <th>#ProtestPP: Nationwide Protests Against Government Funding of Planned Parenthood Underway - Breitbart</th>\n",
              "      <th>#RESIST as Marketing: ’Fearless Girl’ Statue Taking Home Awards at Cannes - Breitbart</th>\n",
              "      <th>#TrumpProtest: Communists Mobilize To Disrupt President-Elect Trump’s Inauguration</th>\n",
              "      <th>$2,700 for Hillary Clinton at ‘Hamilton’? That Would Be Enough - The New York Times</th>\n",
              "      <th>$20 Billion in Tax Credits Fails to Increase College Attendance - The New York Times</th>\n",
              "      <th>$25 Million in Breakthrough Prizes Given in Science and Math - The New York Times</th>\n",
              "      <th>$50,000 Reward for Facebook Killer as Manhunt Goes ’National’ - Breitbart</th>\n",
              "      <th>$6 Million Later: North Dakota Police Can’t Afford The Pipeline Protest</th>\n",
              "      <th>$7 Million in Donations to Go Directly to Orlando Kin and Survivors - The New York Times</th>\n",
              "      <th>$70 Million Awarded to Woman with Ovarian Cancer Due to Baby Powder Usage</th>\n",
              "      <th>'All About Jesus' shirt sparks school uproar</th>\n",
              "      <th>'Alt-Right' Meeting Full Video Replay: People Give Hitler Salute For Donald Trump</th>\n",
              "      <th>'D**k-Waving Berlusconi Knockoff': Late-Night Host's Nasty Trump Attack Dismantled by Steven Crowder</th>\n",
              "      <th>...</th>\n",
              "      <th>“Man hat Angst, das Haus zu verlassen”</th>\n",
              "      <th>“Memoirs Of A Misogynist” Is A Brutal And Entertaining Look At Our Sexual Dystopia</th>\n",
              "      <th>“Mommy am I Going To Die?” Mom Calls 911 For Paramedic, Cop Shows Up, Shoots 4 Year Old Daughter</th>\n",
              "      <th>“Mr. Wonderful te hace pensar a saco”</th>\n",
              "      <th>“My Trampoline Addiction Hell” Buster The Boxer Tells All</th>\n",
              "      <th>“National Mood” Focus Group Reflects Angry, Divided America</th>\n",
              "      <th>“Not A ‘Real’ Union”: Emails Show Clinton Campaign Attacks On Nurses</th>\n",
              "      <th>“Nothing Good Can Come of This Election”–and That’s Good</th>\n",
              "      <th>“Organic” Food From China Found To Be Highly Contaminated</th>\n",
              "      <th>“People Power” Versus Manipulation of the Masses</th>\n",
              "      <th>“Regime Change”? South Africa Targeted by Western Destabilization Efforts? | Global Research</th>\n",
              "      <th>“Rigged To Deny Trump”: Are They Stealing These States to Block Electoral Path to 270?</th>\n",
              "      <th>“Rigged To Deny Trump”: Looks Like Elite Trying to Steal These States to Block Electoral Path to 270</th>\n",
              "      <th>“Scary Stories In 5 Words” are terrifying tales for people short on time</th>\n",
              "      <th>“Sex Shop Kierkegaard: punto de encuentro para amantes del placer intelectual”</th>\n",
              "      <th>“Shoot First Ask Questions Later” : What Happens To A UFO When Tracked on Military Radar</th>\n",
              "      <th>“Sometimes Bill And Hillary Have The Worst Judgment”: Wikileaks Releases Part 22 Of Podesta Files; 36,190 Emails Total</th>\n",
              "      <th>“Stop watching RT and other Russian-biased sources.” A Tale of Two Cities</th>\n",
              "      <th>“Syria is paying the price of its independence”, by Bashar al-Assad</th>\n",
              "      <th>“Tech” Malaise Pricks San Francisco Office Space Bubble</th>\n",
              "      <th>“The Fed Failed ….” And that Changes Everything</th>\n",
              "      <th>“The Newshour” anchors to dubsmash Arnab Goswami’s voice to combat sinking TRPs</th>\n",
              "      <th>“The Radical Left Seems Ready To Go To War” As Count Claims Hillary Won the Popular Vote</th>\n",
              "      <th>“The rejected petitions on the UK government website are amazing”</th>\n",
              "      <th>“There Will Be Life Altering Ramifications For Those Who Can’t Or Won’t Adapt To New Realities”</th>\n",
              "      <th>“They Are Trying To Get You To Stay Home”</th>\n",
              "      <th>“They Got In There And Totally Took It Over” – The Tea Party, Black Lives Matter and the 99% Protesters Have All Been Absorbed By The Establishment</th>\n",
              "      <th>“They Must Have Something Significant For the FBI to Reopen the Investigation”</th>\n",
              "      <th>“This Quickly Escalates Into Open Warfare” – Why The Government Is Preparing For Post-Election Chaos</th>\n",
              "      <th>“Violent Revolution If Trump Lets Them Down”: People Remain Poised for Angry Revolt – Roberts</th>\n",
              "      <th>“We Were Long Overdue A Presidential Assassination Anyway”</th>\n",
              "      <th>“Weinergate”</th>\n",
              "      <th>“When You Speak Up for the MOVE 9, You Speak Up for Yourself”</th>\n",
              "      <th>“White Boys”–The NYT Celebrates Neera Tanden,’s Slurs, Because Her Targets Are White</th>\n",
              "      <th>“Wikileaks is the Mossad, Stupid, Not the Russians, We are playing them like a fiddle…” Assange (sort of)</th>\n",
              "      <th>“You Ruined Your Own Communities, Don’t Ruin Ours”–Chicago Whites Demonstrate Against Black Lives Matter After Black Shot</th>\n",
              "      <th>“You’re Not Alone – We’re With You” – Video Aims To Help You Adjust To New Trump Reality</th>\n",
              "      <th>„The Duelist“: Martins Wuttkes neuer Tatort</th>\n",
              "      <th>俄罗斯总统观注</th>\n",
              "      <th>🚨Bill Clinton and Hillary Lolita Express Pedophilia Ring🚨</th>\n",
              "    </tr>\n",
              "    <tr>\n",
              "      <th>label</th>\n",
              "      <th></th>\n",
              "      <th></th>\n",
              "      <th></th>\n",
              "      <th></th>\n",
              "      <th></th>\n",
              "      <th></th>\n",
              "      <th></th>\n",
              "      <th></th>\n",
              "      <th></th>\n",
              "      <th></th>\n",
              "      <th></th>\n",
              "      <th></th>\n",
              "      <th></th>\n",
              "      <th></th>\n",
              "      <th></th>\n",
              "      <th></th>\n",
              "      <th></th>\n",
              "      <th></th>\n",
              "      <th></th>\n",
              "      <th></th>\n",
              "      <th></th>\n",
              "      <th></th>\n",
              "      <th></th>\n",
              "      <th></th>\n",
              "      <th></th>\n",
              "      <th></th>\n",
              "      <th></th>\n",
              "      <th></th>\n",
              "      <th></th>\n",
              "      <th></th>\n",
              "      <th></th>\n",
              "      <th></th>\n",
              "      <th></th>\n",
              "      <th></th>\n",
              "      <th></th>\n",
              "      <th></th>\n",
              "      <th></th>\n",
              "      <th></th>\n",
              "      <th></th>\n",
              "      <th></th>\n",
              "      <th></th>\n",
              "      <th></th>\n",
              "      <th></th>\n",
              "      <th></th>\n",
              "      <th></th>\n",
              "      <th></th>\n",
              "      <th></th>\n",
              "      <th></th>\n",
              "      <th></th>\n",
              "      <th></th>\n",
              "      <th></th>\n",
              "      <th></th>\n",
              "      <th></th>\n",
              "      <th></th>\n",
              "      <th></th>\n",
              "      <th></th>\n",
              "      <th></th>\n",
              "      <th></th>\n",
              "      <th></th>\n",
              "      <th></th>\n",
              "      <th></th>\n",
              "      <th></th>\n",
              "      <th></th>\n",
              "      <th></th>\n",
              "      <th></th>\n",
              "      <th></th>\n",
              "      <th></th>\n",
              "      <th></th>\n",
              "      <th></th>\n",
              "      <th></th>\n",
              "      <th></th>\n",
              "      <th></th>\n",
              "      <th></th>\n",
              "      <th></th>\n",
              "      <th></th>\n",
              "      <th></th>\n",
              "      <th></th>\n",
              "      <th></th>\n",
              "      <th></th>\n",
              "      <th></th>\n",
              "      <th></th>\n",
              "    </tr>\n",
              "  </thead>\n",
              "  <tbody>\n",
              "    <tr>\n",
              "      <th>0</th>\n",
              "      <td>0</td>\n",
              "      <td>0</td>\n",
              "      <td>0</td>\n",
              "      <td>0</td>\n",
              "      <td>0</td>\n",
              "      <td>1</td>\n",
              "      <td>0</td>\n",
              "      <td>0</td>\n",
              "      <td>0</td>\n",
              "      <td>0</td>\n",
              "      <td>0</td>\n",
              "      <td>0</td>\n",
              "      <td>0</td>\n",
              "      <td>0</td>\n",
              "      <td>0</td>\n",
              "      <td>0</td>\n",
              "      <td>0</td>\n",
              "      <td>0</td>\n",
              "      <td>1</td>\n",
              "      <td>0</td>\n",
              "      <td>1</td>\n",
              "      <td>1</td>\n",
              "      <td>0</td>\n",
              "      <td>0</td>\n",
              "      <td>0</td>\n",
              "      <td>0</td>\n",
              "      <td>0</td>\n",
              "      <td>1</td>\n",
              "      <td>1</td>\n",
              "      <td>0</td>\n",
              "      <td>1</td>\n",
              "      <td>1</td>\n",
              "      <td>1</td>\n",
              "      <td>1</td>\n",
              "      <td>0</td>\n",
              "      <td>1</td>\n",
              "      <td>0</td>\n",
              "      <td>0</td>\n",
              "      <td>0</td>\n",
              "      <td>0</td>\n",
              "      <td>...</td>\n",
              "      <td>0</td>\n",
              "      <td>0</td>\n",
              "      <td>0</td>\n",
              "      <td>0</td>\n",
              "      <td>0</td>\n",
              "      <td>0</td>\n",
              "      <td>0</td>\n",
              "      <td>0</td>\n",
              "      <td>0</td>\n",
              "      <td>0</td>\n",
              "      <td>0</td>\n",
              "      <td>0</td>\n",
              "      <td>0</td>\n",
              "      <td>0</td>\n",
              "      <td>0</td>\n",
              "      <td>0</td>\n",
              "      <td>0</td>\n",
              "      <td>0</td>\n",
              "      <td>0</td>\n",
              "      <td>0</td>\n",
              "      <td>0</td>\n",
              "      <td>0</td>\n",
              "      <td>0</td>\n",
              "      <td>0</td>\n",
              "      <td>0</td>\n",
              "      <td>0</td>\n",
              "      <td>0</td>\n",
              "      <td>0</td>\n",
              "      <td>0</td>\n",
              "      <td>0</td>\n",
              "      <td>0</td>\n",
              "      <td>0</td>\n",
              "      <td>0</td>\n",
              "      <td>0</td>\n",
              "      <td>0</td>\n",
              "      <td>0</td>\n",
              "      <td>0</td>\n",
              "      <td>0</td>\n",
              "      <td>0</td>\n",
              "      <td>0</td>\n",
              "    </tr>\n",
              "    <tr>\n",
              "      <th>1</th>\n",
              "      <td>1</td>\n",
              "      <td>1</td>\n",
              "      <td>1</td>\n",
              "      <td>1</td>\n",
              "      <td>1</td>\n",
              "      <td>0</td>\n",
              "      <td>1</td>\n",
              "      <td>1</td>\n",
              "      <td>1</td>\n",
              "      <td>1</td>\n",
              "      <td>1</td>\n",
              "      <td>1</td>\n",
              "      <td>1</td>\n",
              "      <td>1</td>\n",
              "      <td>1</td>\n",
              "      <td>1</td>\n",
              "      <td>1</td>\n",
              "      <td>1</td>\n",
              "      <td>0</td>\n",
              "      <td>1</td>\n",
              "      <td>0</td>\n",
              "      <td>0</td>\n",
              "      <td>1</td>\n",
              "      <td>1</td>\n",
              "      <td>1</td>\n",
              "      <td>1</td>\n",
              "      <td>1</td>\n",
              "      <td>0</td>\n",
              "      <td>0</td>\n",
              "      <td>1</td>\n",
              "      <td>0</td>\n",
              "      <td>0</td>\n",
              "      <td>0</td>\n",
              "      <td>0</td>\n",
              "      <td>1</td>\n",
              "      <td>0</td>\n",
              "      <td>1</td>\n",
              "      <td>1</td>\n",
              "      <td>1</td>\n",
              "      <td>1</td>\n",
              "      <td>...</td>\n",
              "      <td>1</td>\n",
              "      <td>1</td>\n",
              "      <td>1</td>\n",
              "      <td>1</td>\n",
              "      <td>1</td>\n",
              "      <td>1</td>\n",
              "      <td>1</td>\n",
              "      <td>2</td>\n",
              "      <td>1</td>\n",
              "      <td>1</td>\n",
              "      <td>1</td>\n",
              "      <td>2</td>\n",
              "      <td>1</td>\n",
              "      <td>1</td>\n",
              "      <td>1</td>\n",
              "      <td>1</td>\n",
              "      <td>1</td>\n",
              "      <td>1</td>\n",
              "      <td>1</td>\n",
              "      <td>1</td>\n",
              "      <td>1</td>\n",
              "      <td>1</td>\n",
              "      <td>1</td>\n",
              "      <td>1</td>\n",
              "      <td>1</td>\n",
              "      <td>1</td>\n",
              "      <td>2</td>\n",
              "      <td>1</td>\n",
              "      <td>1</td>\n",
              "      <td>1</td>\n",
              "      <td>1</td>\n",
              "      <td>1</td>\n",
              "      <td>2</td>\n",
              "      <td>1</td>\n",
              "      <td>1</td>\n",
              "      <td>1</td>\n",
              "      <td>1</td>\n",
              "      <td>1</td>\n",
              "      <td>1</td>\n",
              "      <td>1</td>\n",
              "    </tr>\n",
              "  </tbody>\n",
              "</table>\n",
              "<p>2 rows × 17931 columns</p>\n",
              "</div>"
            ],
            "text/plain": [
              "title  \"Allahu Akbar, the Russians are here!\": Aleppo terrorists flee Russian airstrike (VIDEO)  ...  🚨Bill Clinton and Hillary Lolita Express Pedophilia Ring🚨\n",
              "label                                                                                            ...                                                           \n",
              "0                                                      0                                         ...                                                  0        \n",
              "1                                                      1                                         ...                                                  1        \n",
              "\n",
              "[2 rows x 17931 columns]"
            ]
          },
          "metadata": {
            "tags": []
          },
          "execution_count": 257
        }
      ]
    },
    {
      "cell_type": "code",
      "metadata": {
        "colab": {
          "base_uri": "https://localhost:8080/",
          "height": 142
        },
        "id": "EF_j6zW6JF7H",
        "outputId": "0e4ae10e-7169-41e6-8231-ebf61c62b457"
      },
      "source": [
        "Train.groupby('label').count()"
      ],
      "execution_count": null,
      "outputs": [
        {
          "output_type": "execute_result",
          "data": {
            "text/html": [
              "<div>\n",
              "<style scoped>\n",
              "    .dataframe tbody tr th:only-of-type {\n",
              "        vertical-align: middle;\n",
              "    }\n",
              "\n",
              "    .dataframe tbody tr th {\n",
              "        vertical-align: top;\n",
              "    }\n",
              "\n",
              "    .dataframe thead th {\n",
              "        text-align: right;\n",
              "    }\n",
              "</style>\n",
              "<table border=\"1\" class=\"dataframe\">\n",
              "  <thead>\n",
              "    <tr style=\"text-align: right;\">\n",
              "      <th></th>\n",
              "      <th>id</th>\n",
              "      <th>title</th>\n",
              "      <th>author</th>\n",
              "      <th>text</th>\n",
              "    </tr>\n",
              "    <tr>\n",
              "      <th>label</th>\n",
              "      <th></th>\n",
              "      <th></th>\n",
              "      <th></th>\n",
              "      <th></th>\n",
              "    </tr>\n",
              "  </thead>\n",
              "  <tbody>\n",
              "    <tr>\n",
              "      <th>0</th>\n",
              "      <td>10361</td>\n",
              "      <td>10361</td>\n",
              "      <td>10361</td>\n",
              "      <td>10361</td>\n",
              "    </tr>\n",
              "    <tr>\n",
              "      <th>1</th>\n",
              "      <td>7924</td>\n",
              "      <td>7924</td>\n",
              "      <td>7924</td>\n",
              "      <td>7924</td>\n",
              "    </tr>\n",
              "  </tbody>\n",
              "</table>\n",
              "</div>"
            ],
            "text/plain": [
              "          id  title  author   text\n",
              "label                             \n",
              "0      10361  10361   10361  10361\n",
              "1       7924   7924    7924   7924"
            ]
          },
          "metadata": {
            "tags": []
          },
          "execution_count": 258
        }
      ]
    },
    {
      "cell_type": "markdown",
      "metadata": {
        "id": "VCkyKqXmMDAJ"
      },
      "source": [
        "We want to check if all of our data have a reasonable length"
      ]
    },
    {
      "cell_type": "code",
      "metadata": {
        "colab": {
          "base_uri": "https://localhost:8080/",
          "height": 306
        },
        "id": "irbWMZMdL0rP",
        "outputId": "a383257f-1945-43cf-b823-da9f885a50b4"
      },
      "source": [
        "length = []\r\n",
        "[length.append(len(str(text))) for text in Train['title']]\r\n",
        "Train['title-length'] = length\r\n",
        "Train.head()"
      ],
      "execution_count": null,
      "outputs": [
        {
          "output_type": "execute_result",
          "data": {
            "text/html": [
              "<div>\n",
              "<style scoped>\n",
              "    .dataframe tbody tr th:only-of-type {\n",
              "        vertical-align: middle;\n",
              "    }\n",
              "\n",
              "    .dataframe tbody tr th {\n",
              "        vertical-align: top;\n",
              "    }\n",
              "\n",
              "    .dataframe thead th {\n",
              "        text-align: right;\n",
              "    }\n",
              "</style>\n",
              "<table border=\"1\" class=\"dataframe\">\n",
              "  <thead>\n",
              "    <tr style=\"text-align: right;\">\n",
              "      <th></th>\n",
              "      <th>id</th>\n",
              "      <th>title</th>\n",
              "      <th>author</th>\n",
              "      <th>text</th>\n",
              "      <th>label</th>\n",
              "      <th>title-length</th>\n",
              "    </tr>\n",
              "  </thead>\n",
              "  <tbody>\n",
              "    <tr>\n",
              "      <th>0</th>\n",
              "      <td>0</td>\n",
              "      <td>House Dem Aide: We Didn’t Even See Comey’s Let...</td>\n",
              "      <td>Darrell Lucus</td>\n",
              "      <td>House Dem Aide: We Didn’t Even See Comey’s Let...</td>\n",
              "      <td>1</td>\n",
              "      <td>81</td>\n",
              "    </tr>\n",
              "    <tr>\n",
              "      <th>1</th>\n",
              "      <td>1</td>\n",
              "      <td>FLYNN: Hillary Clinton, Big Woman on Campus - ...</td>\n",
              "      <td>Daniel J. Flynn</td>\n",
              "      <td>Ever get the feeling your life circles the rou...</td>\n",
              "      <td>0</td>\n",
              "      <td>55</td>\n",
              "    </tr>\n",
              "    <tr>\n",
              "      <th>2</th>\n",
              "      <td>2</td>\n",
              "      <td>Why the Truth Might Get You Fired</td>\n",
              "      <td>Consortiumnews.com</td>\n",
              "      <td>Why the Truth Might Get You Fired October 29, ...</td>\n",
              "      <td>1</td>\n",
              "      <td>33</td>\n",
              "    </tr>\n",
              "    <tr>\n",
              "      <th>3</th>\n",
              "      <td>3</td>\n",
              "      <td>15 Civilians Killed In Single US Airstrike Hav...</td>\n",
              "      <td>Jessica Purkiss</td>\n",
              "      <td>Videos 15 Civilians Killed In Single US Airstr...</td>\n",
              "      <td>1</td>\n",
              "      <td>63</td>\n",
              "    </tr>\n",
              "    <tr>\n",
              "      <th>4</th>\n",
              "      <td>4</td>\n",
              "      <td>Iranian woman jailed for fictional unpublished...</td>\n",
              "      <td>Howard Portnoy</td>\n",
              "      <td>Print \\nAn Iranian woman has been sentenced to...</td>\n",
              "      <td>1</td>\n",
              "      <td>93</td>\n",
              "    </tr>\n",
              "  </tbody>\n",
              "</table>\n",
              "</div>"
            ],
            "text/plain": [
              "   id                                              title  ... label title-length\n",
              "0   0  House Dem Aide: We Didn’t Even See Comey’s Let...  ...     1           81\n",
              "1   1  FLYNN: Hillary Clinton, Big Woman on Campus - ...  ...     0           55\n",
              "2   2                  Why the Truth Might Get You Fired  ...     1           33\n",
              "3   3  15 Civilians Killed In Single US Airstrike Hav...  ...     1           63\n",
              "4   4  Iranian woman jailed for fictional unpublished...  ...     1           93\n",
              "\n",
              "[5 rows x 6 columns]"
            ]
          },
          "metadata": {
            "tags": []
          },
          "execution_count": 259
        }
      ]
    },
    {
      "cell_type": "code",
      "metadata": {
        "colab": {
          "base_uri": "https://localhost:8080/"
        },
        "id": "M_e93GHIMZQ9",
        "outputId": "0eab6198-1ffa-4d6f-807d-abdb107fba08"
      },
      "source": [
        "min(Train['title-length']), max(Train['title-length']), round(sum(Train['title-length'])/len(Train['title-length']))"
      ],
      "execution_count": null,
      "outputs": [
        {
          "output_type": "execute_result",
          "data": {
            "text/plain": [
              "(3, 456, 75)"
            ]
          },
          "metadata": {
            "tags": []
          },
          "execution_count": 260
        }
      ]
    },
    {
      "cell_type": "code",
      "metadata": {
        "id": "nydpGHHQNLim"
      },
      "source": [
        "def get_outliers(df, series):\r\n",
        "  q1 = series.quantile(0.25)\r\n",
        "  q3 = series.quantile(0.75)\r\n",
        "\r\n",
        "  if q1*q3 == 0:\r\n",
        "    iqr = abs(2*(q1+q3))\r\n",
        "    toprange = iqr\r\n",
        "    botrange = -toprange\r\n",
        "  else:\r\n",
        "    iqr = q3-q1\r\n",
        "    toprange = q3 + iqr * 1.5\r\n",
        "    botrange = q1 - iqr * 1.5\r\n",
        "\r\n",
        "  outliers_top=df[series > toprange]\r\n",
        "  outliers_bot= df[series < botrange]\r\n",
        "  outliers = pd.concat([outliers_bot, outliers_top], axis=0)\r\n",
        "\r\n",
        "  return (botrange, toprange, outliers)"
      ],
      "execution_count": null,
      "outputs": []
    },
    {
      "cell_type": "code",
      "metadata": {
        "colab": {
          "base_uri": "https://localhost:8080/",
          "height": 725
        },
        "id": "-f6eAhOTNO0R",
        "outputId": "188b08fa-fe02-4b9e-9187-5629b3bfde40"
      },
      "source": [
        "botrange, toprange, outliers = get_outliers(Train, Train['title-length'])\r\n",
        "print(toprange)\r\n",
        "print(botrange)\r\n",
        "outliers"
      ],
      "execution_count": null,
      "outputs": [
        {
          "output_type": "stream",
          "text": [
            "128.5\n",
            "20.5\n"
          ],
          "name": "stdout"
        },
        {
          "output_type": "execute_result",
          "data": {
            "text/html": [
              "<div>\n",
              "<style scoped>\n",
              "    .dataframe tbody tr th:only-of-type {\n",
              "        vertical-align: middle;\n",
              "    }\n",
              "\n",
              "    .dataframe tbody tr th {\n",
              "        vertical-align: top;\n",
              "    }\n",
              "\n",
              "    .dataframe thead th {\n",
              "        text-align: right;\n",
              "    }\n",
              "</style>\n",
              "<table border=\"1\" class=\"dataframe\">\n",
              "  <thead>\n",
              "    <tr style=\"text-align: right;\">\n",
              "      <th></th>\n",
              "      <th>id</th>\n",
              "      <th>title</th>\n",
              "      <th>author</th>\n",
              "      <th>text</th>\n",
              "      <th>label</th>\n",
              "      <th>title-length</th>\n",
              "    </tr>\n",
              "  </thead>\n",
              "  <tbody>\n",
              "    <tr>\n",
              "      <th>86</th>\n",
              "      <td>86</td>\n",
              "      <td>Poison</td>\n",
              "      <td>Heather Callaghan</td>\n",
              "      <td>By Dr. Mark Sircus Everyone knows that there a...</td>\n",
              "      <td>1</td>\n",
              "      <td>6</td>\n",
              "    </tr>\n",
              "    <tr>\n",
              "      <th>156</th>\n",
              "      <td>156</td>\n",
              "      <td>The Battle at UNESCO</td>\n",
              "      <td>Ari Lieberman</td>\n",
              "      <td>The Muslim Bloc may have won the battle, but d...</td>\n",
              "      <td>1</td>\n",
              "      <td>20</td>\n",
              "    </tr>\n",
              "    <tr>\n",
              "      <th>248</th>\n",
              "      <td>248</td>\n",
              "      <td>The Left’s Vision</td>\n",
              "      <td>Thomas Sowell</td>\n",
              "      <td>By Thomas Sowell November 1, 2016 \\nThe politi...</td>\n",
              "      <td>1</td>\n",
              "      <td>17</td>\n",
              "    </tr>\n",
              "    <tr>\n",
              "      <th>257</th>\n",
              "      <td>257</td>\n",
              "      <td>Newsticker (974)</td>\n",
              "      <td>noreply@blogger.com (Der Postillon)</td>\n",
              "      <td>+++ Hände weg vom Alkohol: Schreiner rührt nac...</td>\n",
              "      <td>1</td>\n",
              "      <td>16</td>\n",
              "    </tr>\n",
              "    <tr>\n",
              "      <th>347</th>\n",
              "      <td>347</td>\n",
              "      <td>LesserOfTwoEvilism</td>\n",
              "      <td>Anonymous</td>\n",
              "      <td>2016 presidential campaign by Matt Sedillo \\nH...</td>\n",
              "      <td>1</td>\n",
              "      <td>18</td>\n",
              "    </tr>\n",
              "    <tr>\n",
              "      <th>...</th>\n",
              "      <td>...</td>\n",
              "      <td>...</td>\n",
              "      <td>...</td>\n",
              "      <td>...</td>\n",
              "      <td>...</td>\n",
              "      <td>...</td>\n",
              "    </tr>\n",
              "    <tr>\n",
              "      <th>20223</th>\n",
              "      <td>20223</td>\n",
              "      <td>Comment on Understanding Misleading Food Label...</td>\n",
              "      <td>Understanding Misleading Food Labels: An Infog...</td>\n",
              "      <td>Share on Facebook Share on Twitter “Let food b...</td>\n",
              "      <td>1</td>\n",
              "      <td>277</td>\n",
              "    </tr>\n",
              "    <tr>\n",
              "      <th>20277</th>\n",
              "      <td>20277</td>\n",
              "      <td>Like a good little sharia-compliant female, Pr...</td>\n",
              "      <td>BareNakedIslam</td>\n",
              "      <td>BNI Store Nov 6 2016 Like a good little sharia...</td>\n",
              "      <td>1</td>\n",
              "      <td>165</td>\n",
              "    </tr>\n",
              "    <tr>\n",
              "      <th>20324</th>\n",
              "      <td>20324</td>\n",
              "      <td>THE END GAME closes in on the Clintons as the ...</td>\n",
              "      <td>Dave Hodges</td>\n",
              "      <td>THE END GAME closes in on the Clintons as the ...</td>\n",
              "      <td>1</td>\n",
              "      <td>188</td>\n",
              "    </tr>\n",
              "    <tr>\n",
              "      <th>20513</th>\n",
              "      <td>20513</td>\n",
              "      <td>SAID IN SPANISH: A Mexican Governor Meddles In...</td>\n",
              "      <td>Allan Wall</td>\n",
              "      <td></td>\n",
              "      <td>1</td>\n",
              "      <td>156</td>\n",
              "    </tr>\n",
              "    <tr>\n",
              "      <th>20658</th>\n",
              "      <td>20658</td>\n",
              "      <td>Comment on 5 Corporations Own The U.S. Media –...</td>\n",
              "      <td>You’re Being Fooled: The Problem With ‘Alterna...</td>\n",
              "      <td>From the day we are born into this world, we...</td>\n",
              "      <td>1</td>\n",
              "      <td>205</td>\n",
              "    </tr>\n",
              "  </tbody>\n",
              "</table>\n",
              "<p>401 rows × 6 columns</p>\n",
              "</div>"
            ],
            "text/plain": [
              "          id  ... title-length\n",
              "86        86  ...            6\n",
              "156      156  ...           20\n",
              "248      248  ...           17\n",
              "257      257  ...           16\n",
              "347      347  ...           18\n",
              "...      ...  ...          ...\n",
              "20223  20223  ...          277\n",
              "20277  20277  ...          165\n",
              "20324  20324  ...          188\n",
              "20513  20513  ...          156\n",
              "20658  20658  ...          205\n",
              "\n",
              "[401 rows x 6 columns]"
            ]
          },
          "metadata": {
            "tags": []
          },
          "execution_count": 262
        }
      ]
    },
    {
      "cell_type": "code",
      "metadata": {
        "colab": {
          "base_uri": "https://localhost:8080/",
          "height": 542
        },
        "id": "WxhJ9anHQOTu",
        "outputId": "a02b6e52-fe08-4e00-8f67-e45c37f41941"
      },
      "source": [
        "fig = go.Figure()\r\n",
        "fig.add_trace(go.Box(name='Title length', y=Train['title-length'], boxmean='sd'))\r\n",
        "\r\n",
        "fig.update_traces(\r\n",
        "    marker=dict(\r\n",
        "        color='rgb(8,81,156)',\r\n",
        "        outliercolor='rgba(219, 64, 82, 0.6)',\r\n",
        "        line=dict(\r\n",
        "            outliercolor='rgba(219, 64, 82, 0.6)',\r\n",
        "            outlierwidth=2)),\r\n",
        "    line_color='rgb(8,81,156)'\r\n",
        ")\r\n",
        "fig.show()"
      ],
      "execution_count": null,
      "outputs": [
        {
          "output_type": "display_data",
          "data": {
            "text/html": [
              "<html>\n",
              "<head><meta charset=\"utf-8\" /></head>\n",
              "<body>\n",
              "    <div>\n",
              "            <script src=\"https://cdnjs.cloudflare.com/ajax/libs/mathjax/2.7.5/MathJax.js?config=TeX-AMS-MML_SVG\"></script><script type=\"text/javascript\">if (window.MathJax) {MathJax.Hub.Config({SVG: {font: \"STIX-Web\"}});}</script>\n",
              "                <script type=\"text/javascript\">window.PlotlyConfig = {MathJaxConfig: 'local'};</script>\n",
              "        <script src=\"https://cdn.plot.ly/plotly-latest.min.js\"></script>    \n",
              "            <div id=\"471671e2-33a3-440c-ba38-726bf7d58ae5\" class=\"plotly-graph-div\" style=\"height:525px; width:100%;\"></div>\n",
              "            <script type=\"text/javascript\">\n",
              "                \n",
              "                    window.PLOTLYENV=window.PLOTLYENV || {};\n",
              "                    \n",
              "                if (document.getElementById(\"471671e2-33a3-440c-ba38-726bf7d58ae5\")) {\n",
              "                    Plotly.newPlot(\n",
              "                        '471671e2-33a3-440c-ba38-726bf7d58ae5',\n",
              "                        [{\"boxmean\": \"sd\", \"line\": {\"color\": \"rgb(8,81,156)\"}, \"marker\": {\"color\": \"rgb(8,81,156)\", \"line\": {\"outliercolor\": \"rgba(219, 64, 82, 0.6)\", \"outlierwidth\": 2}, \"outliercolor\": \"rgba(219, 64, 82, 0.6)\"}, \"name\": \"Title length\", \"type\": \"box\", \"y\": [81, 55, 33, 63, 93, 124, 87, 93, 96, 58, 95, 49, 85, 79, 58, 92, 25, 69, 67, 52, 88, 58, 111, 72, 97, 54, 70, 74, 87, 100, 75, 66, 39, 67, 84, 62, 45, 74, 82, 75, 76, 85, 106, 28, 90, 66, 86, 40, 89, 60, 75, 58, 91, 57, 84, 74, 87, 84, 60, 77, 39, 46, 61, 76, 79, 76, 64, 74, 84, 99, 78, 26, 63, 59, 81, 6, 80, 99, 55, 91, 107, 81, 133, 44, 68, 83, 79, 79, 71, 70, 89, 75, 55, 83, 103, 66, 92, 94, 77, 117, 87, 96, 89, 82, 77, 75, 89, 88, 82, 79, 86, 79, 81, 85, 76, 92, 58, 76, 84, 87, 67, 76, 90, 98, 84, 69, 105, 67, 62, 64, 91, 83, 74, 55, 87, 79, 20, 89, 96, 30, 103, 58, 78, 38, 61, 94, 82, 56, 63, 91, 82, 50, 77, 129, 103, 58, 118, 83, 76, 83, 96, 80, 48, 74, 68, 119, 92, 42, 89, 65, 33, 99, 84, 105, 77, 59, 106, 116, 65, 38, 78, 73, 80, 72, 66, 50, 80, 88, 75, 102, 75, 56, 92, 60, 83, 68, 77, 82, 78, 79, 89, 87, 61, 83, 63, 73, 76, 118, 80, 75, 66, 71, 77, 17, 91, 81, 85, 96, 88, 67, 16, 76, 63, 71, 83, 66, 100, 97, 73, 70, 35, 81, 79, 85, 112, 67, 72, 81, 65, 28, 92, 101, 84, 83, 78, 61, 101, 43, 90, 63, 82, 81, 63, 102, 74, 72, 88, 76, 41, 66, 62, 85, 64, 69, 74, 71, 62, 88, 55, 63, 82, 78, 81, 84, 59, 88, 77, 79, 70, 65, 35, 84, 102, 117, 77, 86, 101, 70, 57, 30, 64, 100, 51, 62, 37, 113, 54, 74, 65, 42, 68, 35, 71, 18, 74, 52, 67, 63, 60, 79, 93, 30, 62, 84, 88, 63, 109, 52, 78, 68, 46, 86, 70, 73, 67, 82, 73, 83, 55, 91, 74, 50, 78, 97, 38, 59, 81, 52, 101, 96, 80, 77, 85, 70, 86, 131, 64, 88, 71, 72, 103, 78, 86, 100, 87, 67, 64, 112, 108, 103, 56, 62, 136, 88, 101, 72, 63, 80, 75, 75, 60, 74, 73, 83, 105, 83, 80, 63, 57, 69, 66, 71, 86, 56, 68, 42, 62, 98, 90, 77, 54, 42, 65, 81, 64, 124, 91, 86, 46, 89, 34, 88, 84, 67, 68, 55, 20, 44, 82, 88, 98, 76, 80, 102, 18, 95, 109, 107, 74, 56, 52, 81, 28, 86, 87, 41, 48, 49, 73, 76, 66, 75, 76, 56, 48, 98, 62, 94, 93, 88, 65, 87, 59, 57, 65, 80, 51, 79, 61, 86, 49, 54, 76, 83, 65, 70, 67, 123, 64, 88, 48, 81, 100, 86, 59, 96, 71, 91, 66, 109, 105, 94, 64, 59, 66, 51, 71, 85, 72, 66, 66, 105, 90, 63, 79, 14, 90, 45, 42, 60, 239, 55, 58, 109, 84, 115, 54, 160, 30, 62, 81, 89, 87, 90, 67, 69, 87, 66, 61, 99, 71, 109, 71, 70, 97, 87, 76, 113, 40, 87, 96, 89, 107, 111, 71, 33, 121, 75, 91, 65, 74, 87, 80, 94, 69, 82, 99, 72, 60, 61, 86, 77, 112, 80, 76, 33, 91, 81, 93, 87, 77, 83, 46, 77, 96, 81, 76, 82, 82, 88, 68, 77, 70, 74, 99, 42, 82, 65, 68, 96, 83, 58, 46, 103, 70, 60, 97, 89, 68, 91, 116, 72, 106, 57, 108, 77, 70, 86, 18, 74, 49, 38, 88, 61, 83, 75, 36, 74, 62, 94, 80, 94, 89, 94, 110, 43, 110, 67, 60, 78, 65, 79, 76, 96, 34, 84, 79, 65, 100, 54, 49, 45, 66, 93, 161, 80, 83, 127, 134, 56, 68, 62, 109, 57, 62, 86, 66, 59, 93, 85, 79, 90, 53, 80, 75, 68, 70, 52, 39, 78, 77, 88, 84, 80, 78, 71, 45, 58, 99, 18, 30, 49, 100, 68, 62, 89, 80, 42, 72, 90, 73, 122, 120, 88, 46, 86, 79, 65, 79, 91, 79, 112, 38, 73, 94, 62, 64, 67, 105, 86, 72, 97, 71, 83, 95, 85, 77, 74, 86, 64, 87, 62, 30, 91, 58, 70, 125, 61, 103, 73, 76, 34, 64, 90, 87, 71, 67, 70, 109, 80, 84, 80, 84, 63, 73, 85, 90, 92, 86, 96, 76, 83, 61, 82, 56, 70, 90, 63, 89, 48, 59, 57, 95, 77, 102, 90, 48, 84, 50, 74, 63, 83, 68, 84, 85, 93, 75, 90, 57, 64, 84, 46, 87, 16, 66, 74, 84, 42, 88, 40, 67, 55, 87, 90, 88, 30, 50, 83, 106, 101, 78, 57, 16, 82, 62, 74, 70, 75, 72, 78, 91, 108, 75, 58, 80, 93, 84, 77, 36, 48, 68, 91, 90, 77, 99, 119, 82, 68, 45, 88, 93, 84, 58, 102, 55, 78, 82, 91, 91, 56, 27, 83, 89, 103, 86, 144, 93, 74, 70, 77, 98, 94, 102, 72, 80, 67, 66, 82, 45, 43, 41, 85, 92, 84, 63, 98, 62, 54, 49, 100, 78, 102, 73, 96, 71, 41, 74, 47, 86, 50, 111, 84, 45, 43, 63, 79, 59, 72, 63, 83, 52, 23, 64, 86, 70, 55, 50, 87, 56, 99, 66, 74, 45, 59, 40, 106, 88, 102, 77, 76, 52, 53, 59, 45, 67, 87, 71, 41, 112, 80, 96, 60, 92, 92, 75, 91, 93, 88, 41, 73, 94, 59, 131, 88, 58, 23, 92, 50, 77, 77, 53, 84, 104, 86, 55, 44, 74, 102, 71, 18, 84, 96, 78, 79, 41, 95, 44, 64, 86, 50, 91, 76, 55, 67, 77, 105, 80, 60, 76, 83, 40, 38, 64, 68, 87, 40, 32, 74, 56, 96, 33, 73, 70, 63, 67, 77, 80, 86, 83, 96, 89, 57, 71, 97, 43, 89, 69, 80, 88, 78, 91, 60, 92, 91, 84, 69, 42, 79, 79, 100, 72, 89, 107, 108, 91, 86, 57, 107, 83, 85, 90, 78, 27, 81, 80, 115, 52, 68, 55, 73, 86, 82, 90, 72, 40, 81, 88, 131, 75, 78, 456, 71, 72, 77, 52, 69, 25, 124, 69, 89, 83, 83, 61, 88, 74, 97, 87, 105, 88, 79, 67, 70, 43, 71, 16, 113, 76, 74, 49, 66, 61, 87, 74, 45, 88, 71, 85, 81, 87, 86, 103, 81, 79, 83, 64, 42, 74, 98, 85, 67, 60, 66, 56, 78, 81, 93, 26, 48, 90, 71, 94, 66, 47, 70, 94, 67, 86, 75, 98, 77, 70, 35, 46, 50, 62, 53, 88, 23, 90, 76, 81, 74, 66, 43, 75, 97, 90, 63, 75, 60, 79, 91, 42, 84, 49, 91, 46, 85, 104, 96, 84, 63, 90, 59, 88, 80, 71, 88, 76, 92, 42, 71, 47, 77, 91, 96, 50, 44, 88, 56, 95, 73, 90, 93, 86, 78, 64, 54, 93, 68, 60, 80, 89, 85, 57, 54, 65, 73, 64, 50, 60, 83, 59, 91, 95, 87, 83, 79, 51, 78, 104, 73, 63, 66, 83, 76, 102, 51, 84, 100, 57, 73, 74, 73, 72, 89, 70, 45, 73, 78, 92, 92, 81, 88, 70, 76, 68, 90, 45, 100, 95, 39, 48, 49, 84, 107, 82, 75, 29, 50, 77, 72, 63, 62, 64, 82, 71, 49, 54, 66, 12, 82, 66, 91, 71, 38, 82, 36, 92, 60, 46, 79, 72, 84, 48, 70, 78, 57, 28, 85, 83, 104, 69, 113, 28, 88, 101, 61, 91, 54, 93, 81, 105, 94, 21, 36, 42, 77, 122, 99, 84, 71, 91, 80, 50, 68, 77, 25, 72, 113, 72, 57, 54, 72, 80, 66, 101, 67, 56, 61, 92, 70, 78, 67, 40, 92, 64, 48, 78, 75, 84, 119, 81, 84, 88, 101, 156, 28, 94, 81, 87, 78, 83, 62, 82, 88, 122, 100, 101, 53, 88, 66, 47, 61, 74, 82, 84, 101, 63, 118, 63, 89, 90, 95, 63, 120, 82, 49, 86, 55, 95, 97, 100, 91, 108, 62, 86, 83, 44, 23, 94, 61, 31, 90, 53, 60, 56, 73, 93, 66, 49, 69, 133, 79, 118, 76, 92, 52, 94, 102, 95, 75, 99, 128, 73, 89, 75, 72, 93, 85, 74, 73, 26, 139, 30, 77, 76, 77, 42, 76, 35, 67, 68, 79, 138, 85, 109, 101, 58, 95, 27, 62, 74, 68, 47, 72, 88, 76, 65, 77, 76, 68, 90, 59, 77, 89, 86, 71, 41, 95, 69, 49, 60, 84, 66, 34, 99, 52, 65, 82, 80, 51, 84, 52, 53, 70, 91, 24, 56, 55, 83, 126, 73, 65, 85, 96, 31, 76, 88, 78, 108, 37, 86, 78, 77, 96, 65, 80, 77, 100, 49, 67, 73, 34, 72, 76, 68, 66, 80, 51, 100, 51, 52, 83, 35, 74, 70, 18, 83, 79, 94, 147, 83, 85, 114, 54, 86, 57, 96, 95, 56, 87, 18, 66, 64, 59, 66, 85, 73, 16, 72, 74, 102, 56, 84, 74, 109, 36, 77, 81, 48, 83, 59, 108, 84, 55, 60, 150, 60, 84, 89, 107, 104, 69, 95, 81, 62, 33, 89, 65, 79, 69, 79, 69, 73, 93, 81, 61, 82, 96, 82, 68, 90, 40, 90, 49, 100, 89, 53, 20, 61, 99, 66, 84, 71, 85, 58, 63, 84, 52, 86, 81, 45, 107, 89, 82, 92, 50, 48, 76, 66, 76, 72, 67, 68, 49, 63, 98, 55, 91, 50, 112, 45, 74, 55, 55, 70, 67, 44, 75, 76, 82, 55, 95, 97, 42, 54, 84, 76, 110, 67, 41, 71, 63, 67, 64, 89, 58, 30, 54, 78, 86, 72, 73, 97, 71, 83, 96, 75, 54, 74, 99, 39, 51, 77, 82, 91, 36, 120, 93, 55, 67, 110, 69, 88, 90, 69, 83, 47, 72, 82, 43, 92, 65, 48, 64, 60, 30, 96, 59, 74, 83, 61, 88, 79, 97, 69, 102, 83, 102, 76, 83, 83, 57, 42, 82, 39, 58, 94, 48, 77, 99, 64, 61, 50, 82, 85, 89, 112, 69, 103, 55, 26, 72, 112, 63, 88, 36, 28, 57, 60, 55, 92, 61, 77, 49, 63, 92, 86, 90, 97, 82, 79, 96, 75, 60, 37, 79, 95, 61, 65, 90, 42, 70, 68, 65, 89, 83, 32, 64, 91, 109, 95, 76, 73, 87, 68, 9, 66, 79, 92, 61, 59, 89, 76, 91, 75, 85, 82, 90, 73, 87, 38, 61, 81, 98, 80, 90, 71, 72, 32, 80, 77, 84, 65, 85, 40, 87, 80, 86, 97, 71, 51, 93, 111, 83, 66, 70, 31, 87, 40, 95, 97, 104, 50, 101, 55, 53, 68, 65, 42, 65, 55, 98, 103, 65, 82, 134, 64, 60, 88, 105, 55, 93, 37, 92, 80, 104, 33, 92, 61, 80, 68, 70, 85, 72, 84, 70, 52, 78, 45, 94, 107, 91, 85, 79, 81, 84, 75, 36, 76, 62, 83, 82, 88, 180, 79, 88, 69, 43, 95, 121, 86, 61, 78, 262, 39, 53, 77, 80, 93, 63, 64, 110, 128, 81, 113, 109, 99, 82, 28, 56, 67, 66, 86, 66, 70, 85, 59, 100, 55, 28, 118, 55, 96, 60, 80, 67, 97, 84, 82, 89, 66, 94, 91, 71, 89, 100, 61, 82, 100, 57, 69, 83, 79, 95, 64, 108, 78, 79, 39, 65, 79, 55, 101, 51, 88, 93, 94, 75, 47, 13, 65, 77, 54, 75, 65, 71, 91, 83, 71, 97, 72, 71, 139, 40, 84, 77, 84, 85, 105, 90, 38, 102, 67, 61, 64, 80, 92, 64, 64, 75, 70, 76, 59, 79, 95, 79, 60, 141, 67, 77, 78, 82, 64, 42, 76, 96, 61, 87, 89, 69, 64, 71, 82, 63, 95, 93, 62, 93, 68, 73, 59, 89, 52, 52, 74, 36, 57, 84, 21, 77, 66, 61, 51, 80, 39, 77, 59, 76, 99, 96, 91, 97, 34, 57, 68, 70, 93, 78, 62, 82, 36, 94, 49, 82, 82, 92, 77, 96, 17, 78, 61, 85, 69, 24, 91, 91, 35, 56, 54, 70, 51, 44, 69, 100, 87, 36, 93, 76, 73, 79, 78, 97, 72, 78, 70, 65, 78, 79, 82, 53, 91, 66, 62, 45, 60, 43, 92, 35, 86, 102, 54, 14, 65, 60, 70, 50, 51, 59, 81, 33, 45, 78, 49, 95, 69, 87, 99, 46, 80, 66, 94, 41, 89, 73, 49, 40, 83, 104, 109, 59, 106, 97, 96, 78, 73, 63, 89, 72, 58, 68, 67, 73, 18, 75, 92, 84, 58, 92, 81, 89, 97, 57, 90, 48, 58, 72, 60, 63, 80, 80, 72, 67, 116, 34, 64, 91, 85, 100, 82, 94, 87, 57, 96, 91, 67, 109, 84, 77, 71, 55, 85, 85, 77, 62, 62, 39, 100, 61, 45, 79, 101, 59, 59, 87, 55, 73, 92, 88, 74, 88, 52, 55, 87, 51, 66, 107, 78, 57, 70, 91, 97, 93, 79, 100, 79, 76, 101, 94, 106, 88, 88, 68, 86, 76, 56, 73, 64, 47, 82, 86, 43, 81, 64, 74, 79, 76, 69, 77, 84, 81, 67, 73, 60, 52, 86, 80, 94, 31, 44, 36, 22, 50, 64, 57, 83, 54, 83, 99, 77, 155, 76, 58, 77, 145, 83, 64, 71, 75, 36, 126, 55, 28, 57, 13, 65, 92, 22, 36, 62, 86, 78, 71, 40, 59, 52, 80, 85, 51, 100, 73, 79, 79, 77, 69, 72, 106, 71, 97, 96, 98, 85, 104, 4, 73, 76, 103, 91, 102, 71, 78, 102, 52, 64, 94, 51, 51, 99, 83, 84, 59, 129, 76, 94, 81, 39, 53, 116, 67, 54, 91, 42, 52, 119, 70, 66, 130, 61, 82, 82, 104, 62, 65, 98, 89, 81, 76, 37, 40, 80, 49, 48, 96, 91, 60, 61, 68, 63, 80, 91, 64, 96, 72, 70, 77, 78, 86, 70, 86, 109, 110, 20, 61, 60, 87, 91, 64, 97, 74, 25, 42, 92, 97, 36, 88, 45, 59, 115, 36, 93, 118, 88, 68, 87, 93, 74, 97, 91, 81, 77, 77, 80, 70, 87, 74, 79, 90, 74, 175, 76, 50, 62, 95, 68, 63, 75, 78, 71, 65, 65, 56, 83, 89, 77, 83, 85, 71, 68, 68, 76, 71, 69, 107, 31, 52, 65, 55, 98, 92, 82, 58, 46, 67, 67, 48, 88, 61, 71, 113, 61, 73, 83, 89, 63, 78, 69, 79, 63, 85, 79, 57, 75, 69, 83, 85, 65, 79, 82, 91, 46, 96, 103, 80, 88, 78, 63, 19, 58, 84, 65, 63, 84, 62, 94, 95, 86, 50, 54, 89, 96, 43, 87, 95, 60, 30, 84, 69, 48, 79, 58, 85, 86, 81, 75, 109, 71, 88, 53, 90, 112, 98, 109, 72, 74, 59, 99, 98, 85, 81, 61, 48, 109, 80, 100, 60, 75, 76, 84, 114, 87, 45, 98, 71, 86, 58, 107, 93, 77, 65, 88, 83, 57, 83, 82, 85, 91, 80, 52, 36, 85, 62, 96, 79, 88, 78, 66, 81, 76, 56, 82, 68, 100, 105, 77, 74, 101, 80, 66, 76, 67, 67, 88, 80, 76, 68, 84, 95, 81, 76, 90, 68, 88, 74, 45, 9, 89, 87, 72, 60, 49, 63, 55, 83, 65, 85, 87, 74, 83, 63, 49, 73, 64, 79, 73, 73, 53, 97, 67, 96, 71, 70, 45, 99, 81, 10, 52, 72, 40, 81, 11, 40, 65, 41, 77, 95, 82, 108, 96, 150, 63, 49, 70, 71, 74, 86, 74, 110, 84, 41, 87, 49, 85, 91, 91, 94, 89, 73, 92, 55, 64, 78, 85, 77, 73, 78, 50, 105, 87, 83, 82, 79, 71, 73, 80, 50, 66, 74, 58, 66, 103, 56, 90, 87, 94, 40, 103, 90, 73, 67, 65, 81, 76, 28, 96, 62, 82, 67, 81, 94, 49, 25, 85, 42, 81, 70, 67, 99, 84, 33, 49, 86, 74, 83, 101, 78, 90, 50, 53, 131, 51, 72, 51, 38, 112, 50, 50, 64, 95, 67, 78, 96, 61, 78, 73, 52, 65, 73, 63, 59, 52, 84, 85, 76, 64, 58, 31, 76, 73, 64, 74, 80, 69, 78, 69, 92, 86, 84, 108, 72, 62, 59, 68, 71, 75, 79, 103, 85, 50, 91, 37, 52, 48, 79, 111, 82, 82, 88, 87, 80, 69, 67, 42, 63, 35, 54, 83, 66, 81, 93, 87, 96, 179, 69, 123, 51, 79, 49, 82, 88, 79, 60, 81, 71, 36, 95, 68, 76, 66, 90, 79, 76, 97, 133, 94, 37, 122, 71, 89, 88, 99, 160, 103, 73, 73, 83, 73, 29, 71, 88, 68, 88, 61, 97, 81, 45, 82, 52, 52, 54, 90, 75, 81, 86, 77, 54, 66, 77, 14, 72, 77, 155, 82, 77, 74, 81, 22, 57, 76, 61, 72, 79, 70, 58, 22, 89, 61, 99, 53, 79, 82, 103, 71, 60, 72, 68, 51, 21, 26, 41, 84, 58, 74, 87, 104, 62, 57, 42, 68, 83, 76, 65, 75, 81, 86, 66, 84, 85, 98, 65, 60, 61, 82, 69, 85, 46, 76, 76, 82, 84, 78, 54, 90, 91, 80, 110, 94, 112, 44, 86, 72, 37, 79, 56, 61, 52, 78, 37, 82, 95, 62, 90, 96, 50, 39, 76, 35, 96, 67, 83, 89, 72, 74, 78, 55, 70, 38, 59, 74, 51, 106, 51, 99, 49, 92, 69, 77, 81, 89, 30, 99, 79, 32, 83, 96, 92, 66, 61, 206, 56, 88, 50, 94, 71, 119, 78, 77, 98, 80, 87, 69, 142, 50, 63, 117, 82, 105, 29, 35, 126, 63, 76, 127, 111, 86, 84, 75, 64, 93, 59, 109, 86, 75, 64, 110, 96, 79, 88, 30, 75, 80, 55, 94, 74, 74, 119, 84, 64, 39, 85, 51, 65, 105, 62, 81, 65, 83, 83, 93, 55, 88, 42, 90, 58, 89, 97, 88, 69, 81, 71, 276, 84, 77, 101, 70, 90, 32, 72, 85, 99, 69, 84, 74, 81, 79, 73, 89, 63, 82, 251, 71, 82, 71, 42, 61, 40, 52, 60, 76, 78, 54, 91, 57, 60, 79, 91, 81, 72, 41, 43, 48, 42, 59, 47, 76, 36, 82, 48, 98, 94, 107, 39, 82, 54, 32, 71, 104, 88, 70, 68, 87, 72, 57, 66, 61, 76, 72, 158, 35, 58, 104, 83, 62, 87, 89, 95, 83, 78, 85, 90, 66, 85, 66, 59, 93, 19, 96, 73, 73, 23, 80, 75, 44, 91, 69, 90, 79, 75, 39, 81, 54, 68, 78, 64, 78, 69, 64, 77, 96, 77, 74, 79, 112, 59, 83, 44, 95, 39, 100, 89, 72, 77, 76, 59, 60, 44, 69, 90, 123, 28, 92, 98, 86, 60, 68, 86, 88, 239, 92, 45, 52, 63, 86, 89, 78, 86, 82, 83, 73, 68, 81, 37, 61, 60, 90, 62, 55, 69, 66, 86, 92, 99, 66, 41, 111, 83, 108, 59, 78, 75, 88, 87, 79, 65, 107, 23, 91, 97, 93, 61, 81, 52, 119, 17, 90, 76, 67, 59, 78, 90, 65, 84, 85, 132, 65, 62, 74, 100, 76, 88, 55, 111, 136, 55, 84, 63, 52, 66, 79, 87, 49, 62, 96, 89, 60, 53, 65, 77, 99, 86, 43, 86, 134, 82, 67, 38, 72, 94, 76, 84, 82, 69, 115, 96, 82, 35, 31, 112, 78, 99, 90, 45, 29, 56, 71, 70, 88, 65, 43, 75, 80, 61, 62, 44, 67, 102, 41, 72, 72, 113, 77, 48, 67, 67, 79, 113, 49, 82, 76, 48, 48, 72, 62, 94, 83, 72, 85, 91, 87, 77, 86, 94, 81, 83, 62, 72, 40, 44, 81, 134, 75, 62, 87, 81, 143, 85, 79, 120, 68, 44, 47, 66, 54, 73, 72, 46, 63, 85, 72, 94, 101, 85, 75, 72, 65, 104, 82, 32, 42, 91, 24, 80, 74, 60, 58, 64, 88, 91, 74, 134, 69, 65, 79, 85, 79, 50, 52, 88, 56, 70, 66, 95, 52, 82, 51, 82, 60, 65, 45, 42, 74, 20, 98, 29, 21, 90, 87, 59, 66, 84, 86, 74, 93, 108, 59, 98, 75, 86, 35, 89, 99, 80, 42, 63, 71, 45, 93, 88, 78, 71, 35, 71, 84, 81, 46, 81, 94, 92, 57, 16, 103, 94, 76, 29, 61, 53, 74, 78, 70, 48, 57, 84, 86, 93, 88, 85, 71, 117, 91, 87, 84, 92, 83, 116, 90, 77, 82, 101, 79, 75, 87, 72, 62, 73, 84, 84, 96, 172, 48, 86, 64, 84, 91, 85, 86, 84, 79, 86, 76, 93, 84, 95, 117, 59, 99, 89, 49, 89, 72, 91, 57, 19, 59, 81, 90, 92, 85, 82, 72, 71, 76, 96, 81, 18, 38, 62, 38, 127, 78, 61, 42, 98, 51, 34, 86, 49, 45, 91, 58, 43, 38, 88, 55, 70, 57, 91, 76, 90, 71, 69, 71, 78, 53, 98, 33, 64, 52, 86, 96, 77, 82, 52, 58, 72, 52, 26, 74, 104, 85, 51, 100, 76, 98, 78, 46, 60, 119, 75, 95, 84, 79, 58, 97, 78, 102, 71, 68, 89, 52, 111, 71, 43, 85, 77, 39, 113, 55, 74, 100, 49, 73, 58, 107, 51, 57, 45, 79, 96, 58, 72, 44, 86, 61, 91, 72, 44, 84, 69, 93, 29, 84, 65, 84, 65, 69, 71, 92, 50, 77, 80, 53, 76, 58, 79, 89, 86, 75, 70, 87, 25, 85, 72, 55, 77, 103, 79, 42, 55, 74, 68, 143, 61, 47, 39, 58, 87, 67, 119, 70, 67, 17, 54, 89, 84, 165, 82, 89, 80, 30, 93, 70, 37, 78, 84, 53, 27, 99, 42, 78, 62, 65, 87, 45, 90, 79, 88, 72, 67, 94, 57, 78, 64, 80, 67, 19, 76, 58, 79, 89, 88, 27, 64, 73, 64, 106, 42, 55, 86, 92, 78, 79, 88, 101, 77, 59, 36, 106, 33, 97, 46, 89, 80, 106, 50, 64, 75, 97, 53, 89, 130, 75, 109, 82, 87, 77, 82, 68, 75, 29, 97, 59, 129, 231, 80, 40, 68, 55, 72, 77, 51, 71, 85, 84, 82, 73, 101, 111, 44, 85, 80, 74, 101, 101, 69, 114, 39, 81, 50, 98, 56, 80, 106, 84, 86, 40, 120, 83, 50, 95, 52, 83, 78, 72, 61, 89, 79, 89, 89, 94, 86, 78, 85, 77, 90, 68, 58, 80, 62, 66, 50, 84, 77, 60, 84, 64, 67, 96, 71, 75, 84, 61, 79, 42, 58, 81, 68, 105, 71, 55, 71, 70, 78, 95, 55, 74, 47, 86, 88, 68, 87, 93, 56, 25, 83, 89, 54, 55, 79, 26, 47, 57, 121, 60, 106, 75, 29, 81, 87, 105, 84, 126, 84, 81, 49, 105, 71, 91, 74, 93, 64, 96, 85, 57, 172, 78, 40, 22, 59, 111, 38, 71, 91, 73, 71, 65, 29, 90, 73, 126, 110, 86, 49, 95, 80, 41, 95, 35, 46, 83, 71, 85, 86, 114, 120, 82, 90, 94, 100, 99, 18, 17, 78, 55, 96, 69, 57, 103, 116, 77, 80, 52, 81, 84, 59, 45, 17, 68, 77, 89, 60, 51, 93, 47, 72, 106, 45, 71, 58, 65, 80, 93, 80, 88, 67, 55, 93, 71, 58, 77, 59, 68, 79, 78, 70, 101, 53, 199, 80, 69, 98, 95, 132, 109, 100, 69, 76, 127, 64, 69, 48, 73, 65, 78, 124, 132, 63, 67, 95, 59, 92, 97, 59, 93, 61, 43, 113, 49, 96, 62, 71, 87, 77, 67, 46, 91, 88, 56, 79, 74, 99, 82, 75, 92, 40, 43, 113, 70, 42, 111, 53, 95, 68, 81, 88, 47, 98, 48, 82, 60, 72, 78, 67, 63, 73, 76, 89, 13, 86, 81, 86, 95, 23, 63, 78, 82, 79, 64, 86, 91, 65, 74, 22, 90, 73, 75, 81, 19, 96, 87, 66, 84, 69, 94, 65, 51, 75, 101, 72, 86, 48, 98, 71, 76, 81, 133, 82, 103, 102, 104, 76, 50, 114, 51, 45, 86, 107, 91, 76, 56, 63, 77, 78, 47, 76, 68, 57, 58, 87, 89, 68, 16, 71, 73, 67, 82, 94, 69, 67, 57, 103, 92, 70, 104, 72, 87, 77, 93, 76, 74, 29, 94, 72, 51, 57, 89, 115, 90, 65, 99, 85, 89, 62, 84, 51, 100, 110, 84, 69, 45, 65, 79, 62, 105, 83, 50, 108, 77, 49, 76, 81, 91, 96, 98, 48, 94, 83, 50, 98, 84, 76, 79, 74, 77, 73, 92, 80, 43, 85, 47, 86, 116, 56, 107, 72, 123, 103, 65, 73, 124, 92, 90, 65, 48, 33, 55, 70, 74, 48, 69, 60, 44, 39, 86, 77, 80, 104, 79, 20, 75, 69, 68, 86, 81, 67, 62, 46, 74, 48, 109, 69, 116, 35, 80, 44, 42, 124, 71, 83, 125, 67, 64, 93, 71, 45, 85, 90, 60, 49, 78, 84, 59, 17, 58, 89, 82, 28, 76, 86, 93, 74, 70, 94, 70, 72, 97, 93, 61, 104, 92, 55, 66, 94, 95, 78, 71, 83, 90, 50, 58, 78, 74, 36, 71, 71, 86, 82, 55, 66, 79, 79, 67, 52, 58, 93, 75, 99, 89, 82, 75, 81, 46, 80, 54, 55, 51, 34, 77, 72, 57, 64, 84, 66, 57, 27, 80, 76, 75, 62, 97, 39, 106, 77, 73, 64, 77, 97, 69, 62, 61, 51, 64, 87, 90, 89, 71, 81, 101, 90, 90, 80, 54, 76, 87, 81, 69, 77, 74, 89, 88, 64, 73, 22, 88, 90, 66, 96, 76, 80, 96, 81, 100, 89, 91, 93, 64, 61, 42, 94, 82, 77, 74, 73, 73, 61, 53, 100, 83, 72, 46, 88, 83, 60, 72, 92, 77, 88, 78, 57, 55, 73, 77, 98, 63, 80, 60, 84, 99, 34, 94, 67, 56, 98, 90, 73, 71, 94, 57, 35, 89, 79, 79, 72, 18, 79, 12, 92, 77, 82, 62, 80, 36, 97, 86, 84, 86, 97, 55, 103, 57, 81, 61, 62, 72, 83, 56, 56, 100, 85, 93, 68, 72, 122, 94, 55, 85, 64, 103, 82, 115, 75, 59, 84, 84, 70, 97, 49, 102, 83, 71, 98, 69, 50, 87, 91, 40, 79, 96, 60, 95, 65, 84, 70, 19, 95, 91, 88, 79, 60, 125, 65, 106, 51, 75, 66, 122, 118, 67, 63, 90, 93, 78, 80, 90, 50, 96, 81, 95, 88, 58, 90, 45, 69, 50, 81, 78, 88, 81, 57, 63, 50, 88, 87, 93, 109, 64, 81, 64, 89, 91, 66, 71, 79, 58, 61, 86, 54, 56, 59, 83, 51, 76, 20, 69, 47, 86, 54, 73, 61, 90, 76, 93, 83, 143, 67, 84, 99, 57, 87, 73, 74, 72, 73, 103, 65, 83, 71, 62, 72, 82, 85, 84, 73, 79, 73, 76, 68, 83, 43, 54, 173, 87, 64, 86, 69, 70, 81, 82, 69, 74, 74, 79, 104, 76, 52, 49, 77, 66, 51, 105, 78, 87, 92, 100, 59, 93, 76, 86, 74, 60, 59, 55, 49, 65, 87, 103, 66, 72, 67, 81, 79, 65, 95, 64, 37, 48, 99, 105, 59, 53, 39, 79, 112, 76, 79, 126, 84, 107, 68, 76, 44, 46, 70, 67, 70, 80, 109, 105, 79, 30, 67, 37, 59, 26, 84, 74, 84, 68, 92, 51, 99, 96, 34, 83, 50, 86, 83, 84, 86, 76, 85, 107, 48, 84, 62, 84, 42, 74, 80, 62, 60, 73, 78, 99, 60, 88, 95, 66, 65, 71, 85, 53, 96, 79, 61, 68, 71, 58, 89, 76, 61, 61, 57, 91, 111, 108, 55, 79, 141, 85, 80, 88, 78, 72, 69, 112, 89, 78, 110, 73, 98, 74, 225, 71, 73, 86, 70, 81, 104, 91, 98, 50, 54, 95, 60, 91, 73, 104, 75, 72, 69, 30, 61, 57, 114, 71, 88, 74, 90, 65, 77, 98, 68, 62, 89, 84, 82, 90, 88, 86, 31, 74, 86, 64, 75, 91, 16, 207, 28, 79, 102, 83, 78, 48, 111, 92, 88, 37, 86, 83, 89, 49, 85, 155, 80, 84, 55, 98, 79, 88, 59, 91, 98, 82, 103, 101, 91, 84, 79, 57, 79, 74, 96, 86, 63, 98, 85, 68, 94, 45, 87, 88, 49, 55, 95, 96, 83, 80, 81, 80, 106, 73, 72, 76, 79, 81, 98, 85, 80, 44, 53, 64, 85, 50, 90, 36, 93, 34, 59, 81, 87, 88, 75, 59, 72, 89, 94, 76, 79, 84, 78, 53, 68, 101, 88, 64, 95, 88, 85, 86, 78, 135, 61, 61, 75, 48, 77, 95, 80, 75, 60, 80, 78, 68, 106, 67, 81, 50, 90, 33, 61, 84, 87, 50, 49, 80, 85, 88, 55, 105, 70, 89, 85, 78, 62, 20, 80, 49, 123, 91, 40, 66, 79, 88, 88, 90, 109, 95, 96, 64, 76, 84, 61, 60, 76, 34, 80, 43, 98, 85, 74, 92, 69, 42, 58, 92, 65, 60, 87, 102, 93, 50, 98, 130, 99, 92, 69, 57, 81, 86, 122, 86, 72, 74, 53, 89, 68, 100, 31, 98, 100, 62, 50, 118, 74, 87, 55, 86, 64, 79, 86, 105, 52, 17, 85, 96, 110, 58, 67, 80, 67, 46, 71, 145, 99, 89, 61, 58, 50, 41, 90, 67, 71, 42, 42, 76, 46, 85, 67, 67, 65, 72, 93, 70, 80, 39, 89, 32, 65, 90, 45, 79, 73, 83, 61, 71, 64, 68, 80, 85, 67, 50, 77, 35, 68, 20, 116, 72, 58, 69, 77, 105, 62, 97, 58, 116, 59, 83, 64, 75, 90, 106, 55, 63, 88, 88, 84, 57, 97, 54, 86, 67, 76, 78, 35, 93, 89, 65, 72, 92, 68, 86, 68, 93, 107, 82, 50, 71, 62, 163, 77, 97, 33, 90, 38, 94, 100, 94, 32, 84, 92, 67, 88, 82, 94, 90, 19, 54, 93, 102, 71, 14, 50, 115, 65, 105, 78, 82, 83, 83, 83, 74, 96, 111, 75, 78, 75, 86, 91, 66, 83, 133, 89, 67, 91, 86, 89, 59, 67, 83, 90, 94, 88, 103, 56, 46, 83, 84, 48, 75, 56, 75, 42, 77, 90, 82, 62, 61, 44, 78, 93, 61, 62, 91, 85, 8, 37, 67, 95, 34, 91, 112, 84, 62, 97, 69, 64, 122, 111, 29, 85, 90, 62, 86, 72, 75, 89, 90, 45, 58, 100, 101, 83, 96, 42, 104, 86, 61, 81, 117, 93, 98, 87, 52, 78, 51, 97, 44, 84, 118, 80, 75, 65, 43, 108, 65, 61, 96, 34, 81, 92, 75, 78, 85, 122, 68, 42, 72, 36, 67, 72, 30, 250, 58, 88, 83, 97, 48, 62, 83, 59, 103, 33, 81, 79, 29, 95, 72, 84, 62, 47, 69, 71, 75, 47, 109, 125, 20, 122, 70, 60, 71, 38, 97, 59, 95, 45, 80, 109, 97, 73, 104, 82, 68, 76, 73, 57, 86, 80, 75, 65, 21, 53, 81, 92, 72, 90, 87, 83, 62, 85, 64, 56, 89, 87, 107, 87, 71, 69, 81, 63, 66, 63, 102, 93, 37, 73, 62, 13, 60, 60, 44, 79, 39, 82, 66, 125, 62, 56, 119, 91, 91, 90, 34, 100, 22, 94, 61, 89, 64, 73, 85, 98, 91, 77, 83, 80, 24, 84, 74, 79, 83, 43, 87, 89, 92, 92, 47, 69, 80, 59, 93, 63, 118, 80, 82, 77, 77, 65, 73, 63, 94, 79, 45, 92, 33, 94, 94, 73, 76, 35, 35, 85, 182, 84, 59, 102, 80, 71, 77, 93, 62, 118, 63, 87, 97, 70, 52, 53, 189, 78, 89, 82, 71, 104, 75, 81, 40, 92, 62, 66, 26, 43, 101, 36, 74, 104, 81, 42, 84, 66, 44, 86, 50, 72, 80, 70, 46, 90, 81, 54, 71, 78, 20, 73, 61, 76, 77, 85, 94, 90, 80, 121, 10, 80, 37, 82, 93, 69, 77, 30, 79, 85, 103, 125, 65, 84, 95, 65, 77, 98, 88, 93, 84, 56, 65, 84, 81, 96, 117, 58, 77, 97, 18, 62, 70, 81, 85, 68, 48, 97, 90, 96, 100, 50, 62, 76, 101, 79, 95, 88, 117, 89, 102, 33, 92, 73, 72, 93, 58, 74, 83, 82, 77, 77, 82, 51, 86, 98, 69, 81, 90, 78, 79, 75, 92, 84, 97, 49, 97, 79, 50, 88, 65, 55, 61, 71, 97, 80, 63, 88, 90, 91, 69, 80, 140, 43, 81, 79, 73, 84, 104, 102, 98, 51, 81, 94, 44, 76, 71, 76, 61, 82, 83, 63, 87, 83, 57, 60, 70, 69, 47, 73, 90, 80, 49, 86, 55, 77, 77, 71, 70, 80, 49, 75, 85, 56, 87, 94, 86, 81, 108, 20, 90, 79, 72, 71, 63, 43, 58, 99, 74, 70, 35, 73, 26, 65, 81, 62, 26, 78, 104, 71, 69, 70, 80, 86, 129, 65, 68, 43, 73, 71, 105, 92, 81, 83, 83, 75, 72, 52, 69, 87, 69, 74, 86, 86, 55, 74, 71, 125, 53, 78, 68, 45, 93, 86, 99, 83, 85, 86, 48, 76, 97, 71, 76, 61, 46, 78, 95, 56, 43, 78, 87, 66, 72, 46, 91, 49, 69, 94, 62, 80, 88, 36, 34, 77, 95, 70, 67, 99, 84, 58, 113, 94, 82, 82, 89, 64, 91, 70, 93, 97, 65, 48, 87, 81, 35, 70, 49, 35, 36, 88, 67, 103, 81, 68, 74, 66, 89, 65, 97, 63, 97, 82, 78, 90, 37, 82, 57, 100, 11, 81, 95, 74, 88, 69, 22, 44, 66, 90, 78, 82, 61, 121, 57, 59, 103, 86, 74, 56, 62, 93, 82, 61, 34, 74, 59, 30, 74, 71, 112, 39, 53, 76, 42, 60, 41, 66, 81, 86, 46, 74, 75, 61, 78, 64, 92, 67, 81, 133, 23, 54, 93, 58, 89, 65, 90, 64, 71, 84, 85, 79, 80, 70, 54, 48, 59, 79, 72, 87, 62, 79, 111, 91, 81, 63, 96, 41, 98, 63, 214, 89, 95, 72, 116, 79, 100, 86, 66, 88, 103, 44, 70, 81, 106, 76, 28, 92, 54, 76, 33, 92, 72, 37, 37, 112, 83, 79, 83, 74, 61, 84, 72, 78, 79, 20, 50, 107, 65, 57, 84, 54, 38, 84, 84, 76, 76, 128, 77, 39, 57, 82, 52, 65, 78, 80, 72, 65, 69, 76, 19, 76, 64, 60, 54, 52, 87, 117, 72, 40, 51, 81, 69, 92, 79, 43, 90, 73, 83, 70, 96, 42, 96, 99, 87, 53, 70, 58, 104, 62, 51, 73, 87, 76, 85, 62, 112, 88, 94, 64, 44, 97, 68, 95, 108, 62, 85, 90, 93, 70, 82, 73, 62, 60, 79, 77, 95, 90, 80, 79, 71, 59, 33, 62, 83, 78, 90, 78, 41, 64, 53, 58, 39, 88, 54, 57, 81, 39, 74, 104, 101, 55, 79, 90, 56, 75, 82, 52, 92, 81, 81, 51, 110, 69, 115, 102, 48, 64, 80, 82, 86, 59, 79, 100, 87, 94, 92, 80, 71, 49, 75, 48, 47, 102, 74, 92, 33, 84, 70, 98, 70, 62, 70, 56, 59, 90, 96, 79, 45, 83, 66, 56, 84, 63, 53, 60, 84, 69, 118, 86, 95, 58, 54, 96, 13, 90, 76, 77, 85, 70, 48, 74, 54, 67, 84, 80, 58, 106, 40, 87, 94, 108, 65, 42, 12, 68, 82, 72, 51, 86, 68, 87, 116, 102, 49, 79, 62, 73, 76, 97, 65, 44, 108, 49, 39, 95, 69, 26, 89, 118, 79, 49, 58, 85, 77, 91, 88, 69, 54, 111, 93, 91, 89, 62, 43, 95, 58, 85, 86, 94, 60, 87, 96, 84, 46, 62, 79, 55, 84, 74, 95, 91, 80, 60, 94, 84, 70, 97, 63, 55, 75, 76, 81, 70, 86, 97, 82, 87, 82, 45, 82, 71, 81, 61, 77, 86, 103, 81, 45, 79, 81, 95, 96, 79, 107, 97, 99, 47, 99, 42, 78, 93, 82, 82, 40, 75, 68, 54, 52, 76, 60, 66, 77, 88, 58, 64, 40, 31, 91, 93, 74, 86, 79, 176, 83, 53, 65, 85, 42, 29, 81, 70, 59, 99, 59, 114, 27, 75, 95, 82, 85, 181, 84, 80, 90, 89, 96, 85, 62, 69, 81, 79, 96, 31, 80, 94, 48, 52, 87, 83, 88, 27, 118, 127, 99, 90, 87, 105, 36, 90, 62, 70, 55, 20, 81, 91, 66, 36, 41, 92, 72, 70, 64, 67, 24, 99, 60, 74, 57, 105, 94, 76, 44, 84, 75, 64, 100, 96, 78, 98, 61, 37, 64, 74, 88, 96, 75, 38, 81, 55, 36, 90, 92, 93, 49, 48, 42, 67, 93, 67, 71, 48, 104, 66, 70, 101, 78, 40, 78, 58, 51, 98, 54, 72, 75, 70, 51, 56, 82, 62, 90, 93, 79, 101, 125, 105, 96, 95, 65, 48, 66, 84, 112, 82, 66, 43, 16, 63, 67, 95, 71, 74, 83, 89, 80, 80, 85, 91, 59, 79, 90, 86, 62, 77, 79, 130, 41, 84, 87, 41, 106, 43, 70, 69, 81, 63, 89, 61, 97, 108, 75, 64, 33, 73, 63, 70, 64, 75, 58, 88, 40, 75, 50, 61, 73, 82, 65, 40, 34, 60, 55, 54, 50, 87, 69, 90, 89, 68, 52, 75, 72, 41, 42, 54, 78, 60, 47, 78, 61, 65, 82, 89, 68, 75, 63, 82, 83, 69, 95, 62, 81, 40, 73, 36, 74, 63, 73, 85, 97, 107, 66, 58, 42, 116, 60, 62, 90, 79, 81, 58, 55, 81, 84, 51, 98, 73, 87, 72, 103, 35, 96, 84, 52, 56, 50, 78, 72, 63, 65, 50, 87, 44, 100, 141, 48, 90, 68, 54, 92, 87, 84, 48, 70, 84, 87, 86, 69, 69, 72, 72, 50, 77, 93, 93, 81, 85, 60, 72, 81, 26, 38, 63, 93, 79, 92, 113, 93, 87, 71, 50, 94, 80, 59, 74, 56, 56, 85, 97, 48, 86, 74, 91, 67, 66, 81, 65, 77, 84, 68, 90, 85, 53, 80, 48, 110, 67, 73, 59, 87, 75, 69, 65, 62, 141, 91, 93, 72, 81, 80, 37, 39, 70, 87, 77, 79, 52, 80, 91, 77, 81, 94, 76, 59, 83, 89, 71, 56, 50, 90, 65, 75, 86, 73, 36, 38, 87, 57, 45, 43, 65, 91, 76, 33, 90, 67, 67, 61, 80, 68, 90, 53, 62, 50, 92, 81, 83, 28, 84, 73, 84, 100, 75, 80, 117, 98, 57, 96, 49, 98, 93, 59, 69, 62, 58, 84, 71, 81, 62, 88, 78, 100, 83, 78, 76, 52, 68, 85, 96, 26, 33, 109, 62, 82, 50, 127, 82, 48, 48, 40, 80, 55, 64, 72, 73, 82, 29, 86, 69, 65, 66, 71, 70, 83, 74, 121, 79, 85, 100, 30, 69, 67, 49, 85, 63, 64, 125, 60, 114, 93, 61, 69, 87, 81, 78, 36, 107, 69, 83, 81, 94, 77, 81, 66, 93, 98, 91, 65, 80, 87, 61, 92, 168, 100, 83, 62, 63, 61, 76, 54, 109, 92, 67, 78, 100, 87, 64, 69, 119, 74, 69, 115, 71, 96, 40, 82, 74, 85, 36, 78, 82, 100, 73, 141, 88, 59, 115, 80, 53, 50, 93, 49, 84, 97, 82, 95, 89, 79, 92, 68, 83, 96, 110, 93, 79, 59, 76, 81, 132, 40, 72, 68, 48, 62, 61, 56, 69, 86, 79, 45, 88, 63, 47, 113, 63, 65, 80, 118, 65, 93, 87, 79, 63, 51, 51, 81, 77, 120, 87, 79, 79, 53, 7, 62, 88, 151, 77, 80, 79, 95, 92, 34, 27, 83, 89, 92, 48, 74, 95, 47, 83, 65, 72, 90, 94, 41, 81, 76, 80, 66, 67, 74, 88, 79, 81, 79, 63, 107, 83, 85, 97, 110, 104, 66, 50, 64, 110, 114, 61, 56, 54, 91, 94, 39, 60, 80, 88, 86, 49, 86, 84, 54, 80, 91, 63, 67, 104, 75, 63, 64, 79, 83, 61, 76, 54, 82, 78, 111, 55, 46, 70, 117, 77, 107, 87, 100, 71, 69, 79, 88, 74, 87, 29, 43, 83, 77, 83, 86, 101, 77, 75, 54, 85, 92, 86, 77, 78, 73, 81, 69, 48, 90, 79, 87, 77, 71, 78, 79, 56, 69, 62, 87, 126, 88, 92, 75, 68, 77, 86, 54, 72, 57, 35, 62, 79, 71, 34, 85, 71, 104, 52, 80, 62, 92, 83, 60, 77, 83, 76, 45, 82, 77, 96, 24, 43, 58, 30, 86, 59, 59, 28, 73, 71, 78, 77, 60, 87, 55, 45, 87, 91, 23, 77, 60, 63, 74, 45, 90, 77, 100, 89, 72, 41, 63, 45, 84, 100, 21, 76, 85, 56, 147, 88, 95, 77, 75, 87, 62, 74, 50, 42, 51, 113, 59, 96, 41, 63, 34, 35, 70, 84, 90, 70, 77, 93, 49, 65, 65, 85, 59, 85, 26, 13, 110, 93, 80, 70, 96, 107, 63, 29, 86, 81, 75, 63, 98, 20, 34, 103, 75, 40, 38, 73, 68, 65, 98, 72, 112, 103, 53, 90, 28, 30, 66, 60, 91, 74, 81, 82, 84, 88, 81, 83, 53, 89, 67, 48, 73, 19, 77, 69, 90, 70, 84, 61, 105, 49, 65, 40, 48, 73, 90, 55, 82, 48, 82, 49, 84, 84, 84, 139, 59, 97, 99, 78, 37, 32, 91, 93, 49, 29, 57, 60, 54, 62, 70, 61, 52, 79, 79, 74, 73, 58, 91, 41, 98, 59, 97, 96, 45, 85, 52, 185, 55, 87, 87, 86, 39, 93, 90, 66, 80, 86, 76, 106, 45, 67, 126, 58, 79, 71, 62, 89, 74, 82, 83, 74, 70, 73, 162, 81, 96, 24, 86, 90, 76, 131, 72, 84, 108, 82, 72, 61, 53, 65, 46, 73, 96, 76, 86, 58, 62, 102, 85, 87, 103, 77, 78, 90, 91, 69, 72, 84, 85, 65, 126, 91, 94, 82, 82, 69, 82, 63, 81, 97, 53, 74, 89, 96, 87, 83, 65, 77, 26, 74, 73, 64, 76, 68, 79, 100, 68, 73, 85, 66, 39, 51, 105, 76, 90, 42, 93, 59, 75, 88, 37, 104, 90, 58, 88, 50, 73, 106, 56, 96, 65, 84, 63, 89, 77, 91, 71, 62, 61, 97, 49, 80, 49, 79, 98, 58, 82, 78, 85, 47, 88, 100, 106, 76, 86, 105, 91, 65, 82, 45, 63, 104, 35, 84, 59, 90, 84, 67, 76, 80, 88, 58, 73, 73, 63, 58, 82, 99, 64, 72, 90, 107, 54, 43, 87, 84, 77, 71, 110, 84, 116, 67, 64, 94, 85, 47, 69, 81, 61, 24, 47, 71, 102, 93, 79, 73, 96, 106, 86, 95, 81, 92, 89, 60, 88, 91, 59, 48, 61, 70, 82, 106, 93, 105, 121, 70, 80, 98, 54, 80, 92, 84, 72, 160, 41, 87, 11, 35, 74, 63, 58, 98, 80, 73, 44, 88, 89, 56, 67, 21, 80, 59, 63, 76, 52, 76, 42, 74, 92, 78, 42, 27, 84, 73, 82, 88, 63, 87, 89, 81, 72, 78, 82, 79, 84, 96, 60, 82, 60, 68, 56, 75, 71, 40, 48, 81, 63, 48, 61, 84, 108, 81, 99, 129, 57, 83, 79, 102, 62, 102, 64, 87, 101, 40, 72, 61, 59, 74, 66, 95, 54, 41, 63, 37, 54, 79, 65, 97, 88, 59, 111, 61, 68, 69, 75, 91, 108, 57, 47, 88, 36, 76, 84, 67, 87, 45, 34, 54, 51, 111, 71, 85, 32, 78, 60, 127, 77, 90, 69, 83, 85, 78, 74, 70, 29, 73, 86, 98, 95, 36, 29, 96, 83, 71, 53, 71, 83, 43, 62, 62, 64, 87, 75, 64, 116, 37, 91, 72, 94, 54, 82, 43, 84, 76, 87, 58, 72, 118, 90, 56, 90, 61, 103, 83, 72, 91, 61, 71, 88, 111, 94, 90, 95, 58, 121, 112, 72, 75, 70, 76, 99, 65, 80, 71, 55, 92, 64, 20, 82, 37, 59, 69, 42, 90, 70, 74, 51, 83, 38, 87, 107, 103, 92, 49, 106, 68, 63, 71, 57, 72, 80, 81, 74, 75, 74, 58, 87, 76, 100, 36, 79, 44, 84, 98, 77, 100, 62, 41, 90, 98, 76, 108, 96, 94, 79, 47, 70, 70, 80, 78, 68, 94, 80, 57, 46, 64, 57, 153, 73, 54, 74, 56, 49, 44, 76, 71, 112, 49, 65, 67, 47, 88, 66, 77, 66, 79, 31, 57, 71, 80, 83, 113, 108, 49, 62, 61, 97, 52, 55, 74, 67, 48, 77, 92, 111, 83, 83, 70, 63, 32, 82, 98, 91, 100, 89, 59, 79, 109, 25, 68, 37, 34, 65, 93, 102, 63, 94, 70, 93, 52, 66, 63, 46, 42, 84, 79, 81, 64, 85, 77, 88, 45, 88, 85, 78, 22, 63, 65, 70, 81, 78, 82, 75, 147, 74, 88, 79, 34, 95, 53, 78, 62, 48, 108, 89, 68, 82, 62, 43, 50, 78, 95, 76, 60, 70, 91, 82, 78, 81, 101, 88, 70, 65, 79, 98, 120, 68, 69, 116, 71, 86, 88, 90, 40, 49, 64, 80, 82, 104, 88, 74, 36, 76, 70, 56, 83, 70, 98, 100, 75, 65, 60, 76, 68, 84, 68, 83, 57, 64, 93, 81, 72, 76, 66, 91, 64, 55, 92, 40, 36, 72, 20, 85, 51, 38, 104, 56, 92, 62, 68, 67, 45, 102, 93, 75, 84, 54, 106, 98, 77, 77, 90, 61, 70, 84, 88, 87, 24, 59, 92, 91, 67, 84, 48, 86, 57, 115, 79, 76, 87, 88, 137, 86, 103, 114, 89, 125, 55, 69, 88, 67, 125, 55, 87, 57, 94, 82, 71, 106, 118, 76, 76, 77, 95, 66, 58, 82, 79, 72, 116, 103, 60, 64, 94, 94, 86, 92, 101, 68, 53, 127, 55, 35, 60, 74, 111, 41, 67, 64, 102, 77, 88, 70, 63, 64, 76, 37, 40, 63, 78, 90, 83, 37, 54, 81, 71, 94, 84, 55, 93, 92, 130, 93, 82, 90, 31, 101, 80, 77, 53, 80, 84, 45, 94, 78, 46, 65, 87, 92, 92, 93, 81, 78, 88, 81, 74, 64, 54, 90, 84, 69, 71, 84, 143, 60, 80, 79, 65, 77, 80, 84, 71, 79, 85, 79, 71, 81, 78, 58, 87, 93, 94, 70, 73, 89, 90, 93, 75, 82, 64, 72, 91, 83, 78, 63, 89, 88, 66, 59, 72, 87, 98, 106, 43, 99, 61, 77, 71, 76, 79, 66, 218, 44, 89, 70, 64, 49, 80, 84, 54, 77, 86, 57, 54, 141, 47, 70, 66, 64, 96, 95, 16, 95, 54, 78, 52, 52, 28, 45, 83, 42, 83, 71, 21, 47, 58, 18, 48, 92, 112, 89, 80, 60, 50, 86, 70, 97, 87, 41, 76, 43, 98, 72, 63, 88, 90, 92, 68, 74, 84, 71, 10, 86, 81, 90, 38, 86, 75, 45, 49, 77, 53, 80, 118, 35, 61, 47, 61, 84, 37, 29, 55, 100, 121, 64, 78, 66, 94, 25, 46, 82, 60, 76, 82, 66, 50, 86, 102, 60, 81, 63, 82, 68, 21, 68, 54, 48, 37, 113, 70, 61, 40, 84, 81, 48, 77, 114, 82, 53, 86, 70, 36, 91, 69, 71, 73, 86, 90, 84, 63, 82, 56, 71, 86, 39, 44, 85, 63, 24, 49, 74, 66, 71, 79, 66, 76, 58, 119, 50, 62, 83, 34, 80, 67, 94, 38, 91, 55, 73, 85, 88, 69, 59, 84, 58, 88, 115, 91, 62, 64, 82, 52, 84, 76, 74, 81, 50, 59, 63, 84, 69, 118, 99, 83, 81, 70, 71, 70, 74, 85, 46, 93, 13, 88, 89, 71, 85, 70, 83, 83, 86, 62, 70, 109, 103, 103, 102, 67, 59, 96, 16, 73, 50, 67, 75, 59, 70, 123, 85, 82, 96, 64, 42, 80, 101, 32, 88, 82, 62, 45, 87, 71, 81, 96, 162, 64, 102, 100, 36, 68, 62, 104, 56, 84, 59, 247, 63, 82, 39, 72, 66, 119, 44, 98, 95, 60, 67, 41, 78, 88, 83, 68, 78, 65, 49, 92, 68, 93, 84, 93, 89, 38, 81, 93, 79, 88, 54, 60, 26, 59, 89, 18, 128, 65, 52, 89, 80, 133, 64, 77, 64, 65, 32, 83, 71, 88, 85, 65, 80, 86, 43, 67, 80, 66, 55, 71, 73, 52, 78, 81, 73, 36, 82, 75, 56, 99, 59, 86, 102, 48, 86, 49, 73, 88, 67, 78, 129, 106, 69, 68, 89, 49, 59, 77, 42, 73, 54, 91, 93, 39, 110, 66, 55, 63, 83, 61, 92, 83, 63, 74, 99, 59, 63, 75, 62, 93, 17, 92, 139, 80, 99, 110, 64, 92, 97, 60, 91, 97, 42, 25, 52, 85, 91, 93, 57, 40, 95, 64, 56, 81, 80, 64, 55, 51, 86, 102, 47, 94, 75, 62, 89, 77, 88, 33, 77, 70, 85, 90, 88, 91, 56, 68, 93, 90, 42, 66, 89, 81, 85, 86, 66, 79, 75, 96, 29, 64, 89, 48, 42, 49, 84, 85, 74, 71, 87, 63, 83, 92, 87, 104, 71, 122, 83, 34, 32, 89, 62, 84, 84, 43, 51, 65, 58, 66, 80, 86, 95, 109, 74, 87, 84, 66, 107, 86, 85, 68, 105, 87, 94, 66, 98, 98, 70, 85, 27, 46, 73, 65, 25, 80, 81, 84, 33, 72, 76, 83, 64, 89, 88, 75, 90, 83, 69, 88, 69, 50, 94, 83, 74, 90, 69, 74, 83, 73, 45, 84, 94, 69, 86, 115, 90, 67, 47, 98, 63, 104, 94, 80, 81, 118, 85, 101, 54, 73, 90, 80, 110, 55, 78, 63, 71, 72, 92, 108, 73, 49, 67, 90, 86, 92, 35, 90, 52, 78, 53, 85, 45, 78, 89, 77, 101, 66, 80, 86, 76, 73, 71, 90, 88, 53, 40, 59, 80, 62, 83, 91, 109, 78, 11, 71, 86, 74, 92, 81, 61, 54, 70, 87, 83, 81, 76, 58, 45, 85, 65, 69, 96, 82, 51, 79, 78, 71, 91, 104, 55, 73, 72, 89, 70, 88, 75, 77, 42, 70, 52, 61, 80, 57, 68, 92, 71, 50, 65, 94, 57, 51, 78, 55, 88, 85, 77, 60, 75, 64, 91, 43, 43, 83, 87, 81, 60, 59, 98, 77, 79, 35, 56, 109, 86, 61, 58, 30, 141, 95, 16, 86, 55, 94, 121, 70, 77, 139, 55, 64, 93, 61, 69, 83, 90, 95, 53, 77, 82, 89, 123, 52, 87, 84, 83, 73, 90, 59, 70, 55, 72, 33, 54, 76, 95, 82, 35, 84, 49, 74, 68, 73, 75, 63, 48, 76, 78, 73, 81, 79, 33, 83, 83, 44, 55, 77, 109, 70, 73, 68, 75, 99, 58, 59, 94, 73, 114, 85, 33, 66, 84, 85, 49, 81, 74, 59, 100, 65, 48, 60, 66, 81, 76, 96, 95, 82, 76, 84, 91, 77, 66, 82, 73, 59, 105, 79, 75, 85, 78, 73, 81, 82, 67, 66, 88, 82, 91, 82, 94, 65, 92, 46, 98, 79, 57, 63, 82, 70, 99, 82, 93, 91, 57, 47, 23, 39, 102, 76, 89, 60, 75, 41, 60, 60, 14, 89, 53, 84, 80, 77, 99, 64, 69, 29, 68, 91, 194, 63, 26, 95, 83, 93, 119, 70, 80, 53, 56, 53, 96, 71, 90, 85, 101, 33, 82, 56, 70, 56, 74, 88, 53, 52, 111, 85, 100, 101, 60, 68, 31, 64, 64, 80, 60, 89, 86, 62, 80, 67, 86, 78, 84, 56, 78, 53, 106, 64, 71, 46, 87, 97, 120, 86, 93, 87, 72, 104, 116, 80, 83, 37, 84, 99, 58, 135, 89, 57, 69, 74, 85, 86, 53, 27, 56, 61, 82, 87, 79, 76, 65, 76, 68, 95, 90, 50, 77, 74, 43, 64, 96, 24, 57, 83, 123, 82, 94, 94, 73, 101, 90, 58, 90, 91, 111, 87, 80, 144, 70, 47, 67, 55, 24, 104, 78, 72, 55, 26, 77, 73, 35, 83, 118, 70, 88, 139, 72, 74, 90, 85, 107, 110, 51, 57, 76, 63, 85, 88, 44, 83, 82, 70, 106, 83, 67, 56, 76, 84, 49, 67, 74, 78, 64, 45, 34, 67, 86, 23, 79, 72, 49, 84, 26, 79, 14, 85, 80, 77, 88, 72, 37, 96, 55, 41, 48, 71, 50, 28, 94, 82, 53, 63, 74, 67, 48, 60, 86, 71, 84, 71, 57, 95, 88, 61, 74, 99, 59, 61, 90, 61, 106, 68, 85, 83, 78, 46, 65, 18, 66, 90, 56, 21, 29, 84, 54, 94, 89, 70, 57, 85, 115, 92, 72, 87, 94, 58, 68, 58, 88, 96, 215, 85, 79, 53, 72, 42, 79, 88, 93, 131, 82, 92, 81, 106, 92, 96, 83, 75, 75, 74, 64, 71, 95, 39, 29, 65, 69, 57, 82, 95, 85, 79, 69, 53, 68, 70, 64, 90, 80, 68, 57, 82, 80, 57, 54, 65, 71, 69, 88, 31, 84, 62, 139, 106, 70, 78, 65, 93, 63, 100, 61, 83, 102, 87, 81, 81, 82, 95, 76, 71, 97, 87, 117, 69, 78, 64, 86, 53, 114, 63, 33, 69, 86, 40, 85, 79, 84, 90, 77, 95, 90, 83, 50, 97, 101, 71, 82, 75, 60, 29, 46, 73, 151, 94, 92, 80, 149, 37, 15, 106, 77, 95, 21, 77, 97, 75, 47, 82, 43, 84, 75, 44, 51, 73, 68, 36, 88, 38, 94, 67, 55, 78, 53, 67, 87, 60, 81, 60, 89, 71, 72, 71, 67, 86, 54, 88, 49, 47, 119, 45, 79, 25, 70, 72, 54, 81, 91, 48, 56, 57, 70, 111, 92, 41, 69, 76, 49, 96, 101, 56, 94, 113, 92, 90, 88, 74, 62, 49, 135, 43, 64, 93, 65, 58, 80, 59, 61, 65, 79, 76, 76, 90, 52, 76, 104, 89, 40, 98, 92, 116, 79, 59, 61, 93, 76, 81, 46, 86, 86, 74, 95, 64, 86, 92, 86, 52, 85, 80, 85, 24, 35, 52, 94, 81, 110, 80, 95, 24, 96, 23, 71, 103, 91, 81, 83, 75, 72, 47, 70, 41, 60, 72, 96, 86, 89, 98, 89, 77, 58, 106, 129, 53, 82, 67, 95, 14, 101, 88, 68, 75, 74, 93, 56, 87, 94, 92, 93, 94, 86, 77, 72, 103, 98, 29, 84, 64, 43, 63, 73, 81, 101, 18, 86, 46, 66, 94, 87, 83, 60, 87, 73, 69, 66, 79, 101, 53, 71, 83, 108, 24, 35, 85, 73, 83, 68, 85, 68, 80, 99, 74, 100, 76, 87, 64, 120, 74, 85, 78, 77, 84, 77, 85, 88, 85, 84, 70, 74, 81, 80, 81, 72, 82, 65, 85, 61, 88, 72, 41, 66, 42, 84, 66, 90, 48, 86, 57, 81, 66, 78, 80, 86, 75, 35, 95, 43, 69, 60, 48, 120, 72, 73, 83, 82, 95, 74, 79, 46, 77, 82, 59, 90, 90, 51, 15, 92, 38, 54, 83, 83, 49, 63, 88, 83, 73, 91, 101, 67, 71, 52, 134, 86, 82, 82, 68, 66, 80, 75, 75, 39, 61, 85, 90, 81, 127, 72, 83, 62, 55, 73, 71, 89, 62, 59, 109, 91, 92, 81, 90, 41, 82, 77, 84, 106, 81, 92, 100, 77, 75, 57, 74, 90, 80, 60, 83, 100, 90, 89, 58, 101, 57, 91, 81, 75, 83, 88, 70, 83, 91, 74, 125, 110, 65, 73, 91, 81, 70, 41, 51, 78, 73, 68, 52, 76, 95, 69, 74, 39, 70, 99, 49, 97, 94, 11, 73, 105, 50, 98, 75, 88, 79, 70, 74, 43, 67, 92, 80, 64, 96, 89, 82, 95, 71, 77, 62, 37, 75, 91, 62, 39, 58, 122, 89, 111, 42, 145, 92, 60, 89, 71, 53, 96, 203, 72, 92, 51, 67, 78, 64, 86, 73, 74, 50, 75, 52, 52, 50, 41, 73, 84, 77, 46, 86, 40, 60, 61, 53, 86, 64, 93, 97, 58, 141, 76, 91, 64, 111, 84, 60, 65, 84, 77, 96, 88, 88, 64, 80, 86, 18, 45, 71, 51, 84, 81, 82, 67, 30, 71, 42, 75, 53, 76, 70, 23, 43, 75, 86, 78, 70, 92, 81, 81, 87, 84, 81, 56, 29, 79, 86, 109, 68, 81, 87, 96, 94, 60, 91, 73, 57, 43, 68, 34, 94, 81, 201, 80, 66, 89, 111, 66, 75, 74, 81, 35, 201, 52, 119, 87, 73, 73, 104, 88, 89, 104, 61, 48, 59, 70, 93, 65, 79, 23, 57, 66, 87, 62, 76, 43, 64, 49, 71, 49, 9, 44, 49, 94, 85, 56, 83, 97, 83, 69, 64, 33, 55, 34, 100, 83, 53, 82, 46, 50, 105, 52, 45, 48, 66, 36, 77, 64, 57, 68, 80, 24, 45, 81, 76, 76, 93, 65, 92, 55, 57, 77, 84, 51, 80, 106, 33, 42, 63, 75, 50, 68, 70, 67, 52, 56, 95, 88, 76, 73, 84, 81, 64, 70, 58, 39, 95, 52, 77, 61, 83, 60, 78, 37, 51, 61, 84, 71, 107, 89, 90, 63, 40, 17, 158, 91, 47, 72, 121, 66, 56, 23, 93, 68, 78, 56, 47, 76, 86, 82, 102, 84, 71, 81, 100, 120, 80, 65, 78, 41, 92, 83, 78, 116, 70, 74, 72, 105, 50, 74, 48, 99, 77, 56, 62, 87, 75, 62, 95, 83, 74, 93, 65, 63, 82, 78, 44, 69, 34, 98, 55, 76, 93, 121, 59, 130, 81, 29, 89, 100, 61, 59, 85, 33, 42, 75, 87, 62, 96, 60, 72, 33, 59, 95, 102, 95, 91, 71, 83, 65, 64, 100, 84, 43, 79, 59, 84, 50, 101, 65, 87, 79, 69, 37, 71, 79, 92, 80, 70, 31, 46, 84, 49, 81, 37, 61, 95, 65, 80, 94, 58, 96, 65, 82, 99, 76, 59, 59, 42, 102, 70, 86, 83, 91, 96, 87, 70, 72, 92, 87, 76, 28, 86, 54, 56, 48, 44, 66, 81, 89, 112, 73, 95, 85, 94, 76, 85, 127, 92, 70, 48, 75, 90, 78, 55, 87, 104, 41, 93, 53, 51, 73, 85, 109, 84, 25, 87, 63, 68, 98, 60, 60, 73, 41, 35, 76, 66, 70, 58, 90, 80, 102, 89, 105, 103, 73, 113, 98, 60, 57, 76, 111, 120, 81, 95, 60, 55, 46, 91, 76, 92, 72, 66, 78, 53, 91, 94, 54, 83, 89, 45, 54, 71, 134, 94, 69, 67, 96, 31, 72, 47, 90, 80, 79, 82, 58, 95, 90, 69, 66, 65, 77, 50, 90, 94, 71, 26, 89, 47, 60, 85, 70, 71, 65, 80, 57, 82, 82, 82, 42, 37, 90, 35, 104, 97, 88, 87, 109, 63, 131, 57, 51, 80, 50, 115, 96, 86, 65, 55, 71, 59, 98, 75, 68, 72, 177, 55, 73, 44, 63, 97, 78, 101, 24, 73, 74, 32, 70, 141, 66, 23, 81, 58, 57, 74, 78, 72, 54, 80, 66, 87, 28, 73, 37, 66, 86, 71, 109, 81, 82, 73, 60, 78, 114, 89, 119, 87, 85, 92, 69, 74, 86, 69, 81, 64, 75, 67, 50, 73, 78, 67, 57, 42, 82, 84, 84, 70, 55, 107, 33, 97, 65, 81, 44, 88, 24, 42, 106, 41, 62, 56, 71, 68, 72, 118, 118, 95, 95, 84, 121, 56, 54, 45, 100, 73, 63, 67, 52, 75, 91, 34, 98, 86, 94, 73, 78, 41, 71, 103, 122, 73, 81, 89, 59, 84, 114, 100, 100, 59, 57, 63, 103, 89, 25, 68, 64, 98, 105, 98, 80, 93, 72, 83, 46, 80, 134, 62, 89, 65, 85, 69, 77, 131, 223, 42, 91, 86, 101, 56, 42, 56, 61, 62, 70, 48, 85, 84, 64, 78, 100, 102, 38, 85, 77, 66, 64, 66, 83, 70, 127, 98, 83, 49, 61, 64, 69, 57, 17, 57, 99, 86, 55, 82, 73, 68, 82, 61, 47, 91, 67, 47, 86, 73, 89, 86, 71, 70, 70, 52, 81, 47, 62, 75, 67, 95, 72, 80, 95, 98, 120, 81, 27, 42, 56, 76, 94, 76, 56, 13, 35, 44, 90, 35, 70, 66, 53, 99, 95, 30, 55, 124, 57, 69, 55, 53, 78, 104, 63, 83, 54, 100, 87, 63, 99, 74, 59, 21, 77, 109, 66, 90, 62, 83, 34, 66, 93, 67, 68, 50, 68, 92, 78, 52, 55, 79, 64, 80, 54, 51, 73, 33, 100, 91, 76, 64, 46, 63, 112, 40, 106, 91, 81, 67, 66, 54, 68, 66, 65, 93, 88, 127, 72, 90, 76, 42, 102, 58, 76, 65, 91, 36, 63, 51, 99, 80, 80, 58, 64, 88, 86, 79, 84, 76, 72, 68, 91, 94, 81, 57, 78, 133, 88, 78, 79, 80, 108, 75, 43, 54, 103, 85, 87, 74, 65, 65, 84, 84, 48, 62, 102, 62, 49, 40, 75, 69, 100, 84, 77, 67, 65, 63, 96, 52, 92, 85, 58, 95, 43, 65, 11, 42, 83, 69, 96, 89, 59, 94, 61, 81, 93, 69, 95, 98, 63, 42, 58, 58, 84, 98, 83, 76, 106, 67, 33, 35, 81, 86, 117, 88, 55, 44, 80, 75, 97, 67, 84, 57, 83, 103, 65, 59, 66, 82, 71, 124, 68, 45, 85, 61, 83, 90, 94, 76, 55, 92, 82, 80, 112, 85, 48, 111, 64, 59, 80, 106, 95, 59, 45, 92, 86, 75, 96, 92, 69, 95, 66, 38, 53, 87, 52, 33, 114, 100, 79, 38, 59, 64, 75, 68, 33, 80, 72, 92, 75, 113, 95, 92, 44, 83, 14, 51, 106, 97, 63, 55, 115, 87, 74, 76, 78, 86, 98, 71, 74, 87, 60, 39, 33, 94, 81, 56, 20, 56, 65, 95, 52, 100, 71, 76, 58, 63, 81, 41, 91, 84, 73, 60, 66, 78, 79, 42, 66, 93, 92, 85, 92, 64, 71, 57, 47, 90, 82, 70, 88, 101, 85, 88, 79, 75, 85, 77, 72, 93, 81, 76, 103, 55, 80, 92, 48, 76, 72, 83, 35, 62, 82, 85, 67, 47, 89, 95, 84, 61, 78, 59, 112, 69, 75, 81, 44, 71, 48, 70, 68, 117, 76, 57, 91, 78, 92, 75, 39, 75, 9, 72, 99, 86, 77, 83, 97, 70, 50, 115, 87, 61, 35, 62, 92, 40, 90, 89, 81, 64, 50, 70, 134, 75, 74, 55, 37, 102, 75, 64, 65, 94, 106, 68, 74, 74, 69, 76, 82, 81, 82, 77, 48, 91, 84, 83, 60, 94, 79, 56, 94, 69, 79, 47, 78, 80, 73, 70, 75, 91, 102, 73, 72, 25, 61, 62, 81, 73, 56, 128, 73, 69, 86, 223, 64, 70, 115, 55, 92, 76, 94, 38, 71, 71, 52, 83, 63, 73, 38, 85, 89, 121, 93, 76, 77, 61, 98, 80, 22, 75, 74, 88, 37, 72, 106, 76, 88, 59, 76, 77, 93, 52, 77, 72, 127, 48, 42, 97, 72, 86, 65, 95, 106, 122, 55, 87, 78, 51, 82, 59, 81, 70, 81, 84, 87, 72, 40, 71, 88, 88, 79, 73, 47, 67, 77, 86, 76, 90, 41, 48, 66, 63, 84, 120, 54, 93, 79, 85, 47, 66, 92, 84, 100, 84, 70, 85, 51, 95, 75, 80, 63, 77, 59, 72, 44, 74, 84, 78, 53, 62, 91, 52, 62, 97, 63, 55, 105, 72, 111, 54, 58, 85, 76, 58, 59, 35, 84, 59, 98, 94, 75, 81, 24, 86, 78, 82, 80, 89, 116, 67, 81, 73, 63, 74, 63, 82, 97, 86, 59, 99, 64, 79, 88, 82, 78, 85, 43, 101, 59, 115, 97, 47, 79, 70, 73, 79, 87, 95, 73, 87, 41, 67, 52, 87, 98, 59, 70, 113, 61, 89, 62, 64, 59, 68, 90, 115, 62, 95, 60, 92, 106, 80, 88, 65, 66, 74, 85, 66, 92, 23, 77, 43, 61, 98, 45, 58, 85, 65, 53, 74, 58, 88, 97, 63, 55, 35, 67, 80, 67, 40, 50, 42, 60, 84, 69, 20, 86, 47, 79, 99, 33, 108, 61, 88, 62, 128, 132, 75, 62, 89, 75, 55, 90, 67, 81, 75, 87, 130, 48, 57, 63, 75, 72, 80, 60, 70, 67, 78, 50, 63, 53, 91, 84, 63, 86, 98, 62, 53, 73, 47, 75, 60, 110, 60, 60, 75, 65, 59, 60, 125, 56, 75, 80, 43, 56, 112, 53, 42, 106, 63, 51, 84, 85, 80, 89, 103, 72, 64, 94, 36, 54, 55, 71, 90, 72, 68, 83, 46, 44, 49, 87, 41, 126, 70, 57, 38, 86, 107, 82, 66, 70, 48, 80, 83, 84, 111, 94, 86, 89, 97, 74, 91, 66, 54, 86, 89, 57, 67, 70, 76, 52, 102, 85, 84, 78, 83, 62, 52, 77, 69, 53, 70, 170, 72, 51, 65, 46, 86, 61, 92, 84, 45, 109, 98, 81, 45, 68, 81, 91, 52, 64, 101, 82, 103, 64, 85, 71, 55, 73, 65, 79, 81, 93, 113, 94, 80, 87, 56, 71, 117, 45, 71, 50, 79, 55, 69, 47, 72, 92, 86, 106, 96, 93, 96, 77, 37, 86, 93, 54, 97, 95, 74, 61, 51, 67, 158, 46, 90, 85, 115, 82, 48, 70, 91, 82, 109, 80, 56, 85, 75, 57, 86, 136, 54, 77, 70, 81, 91, 38, 53, 51, 19, 45, 60, 87, 79, 92, 97, 38, 85, 82, 83, 67, 121, 57, 100, 43, 99, 50, 81, 65, 72, 92, 63, 79, 125, 81, 75, 37, 52, 67, 101, 79, 98, 81, 63, 103, 109, 47, 65, 96, 49, 71, 45, 57, 93, 82, 57, 88, 54, 126, 115, 86, 104, 97, 85, 87, 84, 63, 59, 70, 123, 75, 63, 75, 88, 90, 70, 96, 75, 54, 89, 82, 90, 77, 65, 41, 97, 34, 97, 79, 62, 63, 128, 75, 63, 46, 79, 90, 73, 84, 80, 59, 93, 69, 105, 82, 91, 82, 80, 24, 50, 66, 91, 61, 79, 98, 84, 54, 99, 50, 52, 65, 77, 53, 80, 95, 90, 72, 74, 65, 102, 70, 78, 60, 57, 84, 61, 96, 105, 79, 71, 128, 93, 72, 113, 95, 74, 17, 70, 56, 84, 44, 85, 92, 50, 68, 88, 70, 68, 90, 74, 79, 80, 57, 65, 73, 132, 88, 97, 69, 81, 86, 73, 45, 77, 84, 77, 44, 20, 53, 126, 58, 74, 82, 84, 60, 46, 58, 36, 72, 83, 88, 89, 95, 53, 136, 82, 70, 54, 57, 77, 46, 41, 95, 102, 84, 71, 62, 115, 33, 78, 72, 61, 52, 32, 74, 129, 55, 39, 89, 83, 54, 61, 76, 97, 64, 65, 94, 76, 88, 85, 33, 73, 58, 94, 94, 78, 59, 93, 75, 52, 56, 79, 46, 71, 94, 81, 71, 78, 90, 95, 58, 86, 65, 96, 90, 18, 47, 72, 86, 60, 61, 99, 74, 58, 76, 68, 102, 78, 62, 85, 85, 48, 95, 113, 60, 61, 87, 79, 78, 46, 78, 48, 79, 44, 88, 79, 126, 108, 57, 75, 68, 81, 55, 95, 68, 83, 52, 44, 92, 57, 68, 100, 87, 52, 38, 84, 75, 95, 91, 78, 104, 98, 56, 92, 61, 69, 51, 17, 39, 102, 87, 87, 81, 46, 57, 62, 41, 81, 47, 98, 81, 107, 78, 102, 71, 82, 83, 86, 78, 74, 48, 105, 65, 91, 94, 92, 58, 72, 78, 30, 82, 85, 71, 81, 93, 73, 98, 82, 205, 83, 42, 77, 25, 82, 89, 59, 82, 75, 56, 80, 89, 93, 78, 98, 57, 128, 94, 86, 77, 120, 83, 79, 96, 87, 75, 81, 8, 118, 70, 52, 73, 88, 63, 85, 20, 98, 98, 47, 111, 68, 79, 93, 54, 81, 83, 76, 65, 100, 52, 80, 83, 74, 97, 80, 93, 54, 74, 48, 38, 185, 151, 63, 73, 89, 79, 90, 85, 80, 60, 77, 82, 93, 80, 58, 52, 74, 98, 77, 81, 90, 97, 56, 42, 90, 62, 91, 88, 83, 124, 42, 89, 75, 75, 88, 66, 57, 80, 80, 75, 85, 47, 59, 79, 72, 98, 24, 69, 77, 82, 53, 66, 33, 80, 52, 50, 108, 89, 85, 47, 80, 53, 39, 78, 97, 62, 86, 78, 81, 111, 40, 56, 78, 86, 56, 114, 52, 88, 51, 84, 100, 53, 56, 45, 49, 15, 58, 46, 56, 91, 51, 73, 27, 49, 59, 41, 76, 71, 93, 61, 76, 48, 74, 53, 80, 65, 89, 62, 128, 37, 94, 57, 49, 86, 92, 114, 117, 53, 45, 118, 38, 78, 30, 82, 84, 74, 61, 44, 84, 77, 51, 67, 83, 81, 72, 85, 62, 46, 74, 72, 65, 81, 87, 49, 91, 62, 79, 61, 85, 84, 89, 75, 69, 80, 91, 36, 42, 87, 56, 86, 36, 57, 52, 36, 75, 59, 67, 65, 39, 74, 91, 85, 79, 51, 70, 59, 85, 79, 74, 93, 77, 99, 78, 89, 87, 38, 86, 58, 91, 57, 71, 48, 56, 85, 39, 75, 66, 81, 60, 86, 77, 73, 87, 27, 72, 19, 138, 42, 91, 65, 90, 63, 63, 46, 77, 101, 56, 88, 46, 50, 96, 81, 49, 67, 96, 32, 88, 70, 93, 71, 62, 63, 95, 83, 52, 78, 52, 38, 108, 86, 95, 81, 66, 57, 63, 18, 86, 71, 102, 146, 82, 80, 100, 74, 92, 49, 84, 68, 96, 78, 67, 94, 82, 59, 76, 49, 87, 39, 91, 96, 93, 80, 87, 85, 64, 66, 90, 26, 47, 73, 85, 57, 65, 59, 35, 96, 56, 74, 81, 94, 75, 82, 96, 86, 86, 75, 44, 33, 69, 92, 77, 185, 106, 107, 77, 87, 92, 83, 29, 92, 54, 66, 39, 72, 99, 61, 82, 68, 80, 93, 88, 92, 82, 63, 68, 72, 49, 38, 56, 31, 82, 79, 52, 80, 76, 82, 79, 76, 84, 89, 62, 81, 85, 35, 97, 90, 127, 40, 92, 88, 64, 88, 59, 81, 78, 77, 51, 70, 64, 111, 71, 104, 28, 58, 71, 36, 78, 64, 92, 83, 51, 75, 112, 48, 97, 62, 84, 67, 77, 85, 81, 48, 86, 84, 64, 84, 65, 63, 84, 56, 77, 66, 100, 94, 78, 116, 77, 65, 58, 54, 75, 93, 114, 71, 82, 81, 72, 52, 73, 62, 117, 32, 108, 55, 91, 59, 78, 75, 62, 63, 58, 104, 72, 58, 70, 59, 87, 52, 125, 90, 100, 69, 48, 62, 22, 73, 68, 101, 94, 80, 90, 66, 68, 102, 65, 100, 108, 77, 80, 89, 83, 51, 73, 116, 60, 49, 70, 82, 65, 93, 77, 82, 84, 47, 98, 67, 96, 95, 43, 98, 80, 104, 68, 90, 127, 59, 60, 70, 51, 49, 76, 79, 89, 104, 59, 36, 43, 54, 92, 71, 70, 94, 56, 88, 82, 34, 88, 81, 70, 90, 36, 83, 40, 76, 108, 71, 77, 100, 79, 94, 60, 104, 120, 55, 65, 68, 71, 86, 60, 98, 84, 45, 91, 82, 36, 68, 20, 72, 84, 91, 91, 92, 89, 70, 48, 64, 79, 73, 83, 65, 54, 81, 93, 54, 64, 46, 79, 90, 73, 43, 81, 64, 99, 87, 59, 68, 12, 53, 90, 84, 116, 64, 87, 35, 80, 91, 89, 77, 70, 105, 88, 90, 74, 61, 92, 69, 71, 80, 89, 77, 81, 68, 99, 106, 44, 93, 50, 82, 65, 84, 99, 80, 59, 72, 77, 34, 73, 81, 90, 44, 71, 51, 83, 84, 42, 82, 95, 96, 63, 68, 93, 60, 59, 71, 87, 82, 78, 95, 102, 56, 86, 51, 104, 67, 69, 79, 70, 52, 77, 102, 90, 28, 83, 53, 58, 71, 78, 79, 81, 23, 79, 88, 89, 84, 107, 75, 36, 83, 36, 99, 70, 65, 86, 92, 31, 47, 87, 92, 42, 89, 74, 87, 88, 66, 83, 48, 66, 88, 87, 85, 73, 84, 62, 93, 84, 78, 59, 71, 61, 31, 95, 52, 73, 65, 32, 85, 59, 97, 70, 92, 63, 74, 30, 89, 97, 85, 83, 62, 93, 92, 96, 38, 115, 53, 94, 78, 57, 76, 92, 72, 64, 76, 95, 62, 74, 44, 102, 42, 53, 30, 81, 71, 44, 74, 80, 91, 77, 90, 91, 76, 82, 60, 70, 89, 95, 61, 72, 87, 84, 82, 71, 49, 101, 56, 33, 76, 49, 68, 94, 85, 83, 84, 51, 76, 80, 51, 84, 125, 86, 100, 51, 88, 99, 21, 37, 97, 57, 102, 75, 73, 70, 73, 82, 81, 81, 76, 47, 65, 54, 74, 61, 92, 75, 82, 54, 64, 59, 24, 79, 42, 68, 84, 107, 92, 60, 53, 98, 91, 98, 52, 65, 91, 87, 91, 104, 44, 97, 80, 62, 58, 71, 73, 70, 83, 77, 86, 82, 85, 108, 63, 24, 170, 62, 56, 104, 92, 74, 213, 74, 88, 101, 82, 69, 76, 81, 81, 60, 100, 75, 95, 74, 50, 81, 56, 66, 11, 88, 48, 71, 34, 141, 33, 76, 104, 71, 44, 76, 89, 95, 68, 36, 86, 39, 94, 65, 94, 70, 55, 59, 73, 90, 98, 72, 78, 60, 84, 112, 78, 85, 62, 187, 81, 68, 93, 72, 100, 74, 86, 89, 49, 41, 70, 51, 84, 76, 69, 74, 69, 65, 78, 56, 90, 59, 85, 75, 60, 75, 62, 62, 122, 56, 66, 107, 90, 40, 64, 108, 82, 92, 40, 55, 75, 56, 91, 112, 43, 80, 47, 72, 90, 61, 87, 78, 64, 47, 125, 88, 75, 79, 66, 66, 61, 77, 57, 41, 75, 45, 74, 57, 75, 75, 64, 112, 81, 37, 65, 42, 83, 59, 94, 99, 75, 94, 49, 82, 76, 93, 69, 88, 58, 68, 44, 61, 64, 92, 68, 53, 54, 57, 81, 40, 74, 86, 54, 89, 114, 49, 95, 79, 72, 91, 59, 75, 86, 86, 77, 74, 84, 97, 99, 82, 62, 91, 67, 77, 32, 65, 68, 69, 61, 80, 96, 60, 24, 61, 75, 65, 72, 85, 81, 86, 41, 56, 101, 81, 69, 81, 69, 77, 83, 81, 72, 37, 85, 97, 66, 63, 80, 63, 81, 87, 91, 63, 62, 81, 89, 75, 79, 75, 68, 39, 90, 90, 43, 64, 69, 101, 91, 96, 73, 94, 80, 93, 95, 50, 63, 68, 60, 82, 70, 94, 71, 94, 40, 70, 76, 83, 58, 136, 97, 97, 78, 53, 72, 81, 88, 86, 79, 91, 63, 96, 103, 92, 96, 65, 81, 51, 90, 69, 72, 72, 83, 72, 98, 61, 48, 89, 76, 95, 81, 107, 95, 67, 140, 81, 75, 62, 116, 38, 97, 52, 85, 94, 68, 47, 105, 153, 84, 76, 115, 92, 79, 55, 73, 80, 88, 62, 82, 62, 85, 70, 88, 103, 51, 80, 55, 97, 46, 102, 69, 188, 79, 83, 88, 51, 59, 44, 105, 68, 64, 63, 54, 64, 79, 76, 71, 62, 88, 79, 84, 55, 36, 37, 81, 64, 82, 76, 78, 43, 85, 89, 64, 17, 74, 78, 48, 68, 89, 103, 74, 15, 81, 56, 59, 65, 43, 90, 19, 17, 64, 99, 54, 60, 16, 112, 61, 58, 78, 71, 24, 89, 71, 37, 94, 80, 72, 74, 80, 101, 56, 62, 84, 59, 44, 94, 51, 84, 59, 101, 79, 72, 47, 50, 79, 120, 70, 59, 43, 97, 66, 38, 93, 58, 34, 82, 83, 98, 82, 95, 76, 71, 96, 82, 82, 69, 64, 81, 54, 35, 88, 81, 29, 99, 102, 90, 62, 67, 76, 70, 70, 58, 153, 27, 95, 52, 69, 110, 45, 76, 48, 74, 91, 61, 79, 66, 64, 68, 71, 86, 67, 77, 84, 35, 59, 96, 65, 74, 54, 56, 88, 92, 49, 83, 47, 84, 27, 65, 68, 66, 102, 75, 93, 105, 38, 73, 82, 60, 53, 52, 85, 79, 97, 108, 229, 101, 105, 72, 88, 107, 78, 61, 55, 64, 68, 80, 85, 74, 62, 74, 101, 47, 76, 87, 71, 88, 99, 71, 43, 79, 93, 86, 61, 30, 69, 46, 16, 57, 68, 81, 100, 70, 26, 82, 61, 67, 85, 83, 94, 67, 44, 96, 78, 51, 81, 77, 79, 62, 77, 78, 49, 71, 79, 75, 69, 91, 87, 80, 69, 20, 18, 59, 74, 79, 97, 97, 91, 82, 78, 72, 88, 79, 76, 57, 39, 89, 51, 64, 76, 53, 72, 76, 90, 62, 30, 93, 39, 69, 97, 122, 70, 73, 84, 30, 72, 64, 84, 87, 71, 71, 87, 92, 74, 80, 99, 132, 102, 86, 54, 80, 103, 79, 93, 35, 62, 149, 74, 92, 47, 78, 93, 96, 53, 74, 80, 93, 82, 96, 88, 78, 50, 68, 86, 85, 109, 46, 62, 66, 69, 68, 95, 54, 82, 70, 80, 65, 79, 64, 121, 34, 99, 80, 82, 60, 54, 81, 69, 82, 108, 172, 88, 83, 69, 101, 95, 96, 69, 86, 102, 72, 71, 27, 99, 68, 93, 96, 56, 92, 104, 81, 55, 68, 55, 64, 87, 76, 14, 89, 38, 37, 91, 97, 72, 101, 46, 57, 85, 73, 82, 71, 81, 86, 61, 78, 78, 61, 76, 101, 81, 66, 87, 96, 66, 69, 80, 75, 90, 99, 72, 97, 46, 106, 51, 26, 76, 89, 49, 71, 51, 32, 93, 79, 106, 89, 72, 38, 77, 79, 80, 65, 71, 93, 76, 57, 85, 96, 66, 57, 63, 66, 101, 92, 89, 91, 98, 81, 79, 86, 79, 82, 103, 77, 77, 80, 98, 80, 62, 100, 71, 63, 59, 81, 51, 69, 35, 59, 78, 58, 73, 47, 37, 64, 98, 101, 67, 63, 85, 62, 97, 85, 74, 47, 94, 67, 60, 65, 97, 82, 100, 95, 63, 45, 22, 94, 73, 80, 54, 49, 89, 70, 89, 90, 96, 64, 104, 83, 76, 72, 61, 67, 48, 67, 67, 76, 51, 85, 65, 95, 73, 59, 87, 36, 56, 57, 69, 78, 86, 89, 84, 75, 83, 83, 52, 87, 91, 86, 80, 66, 82, 95, 92, 51, 77, 94, 107, 67, 73, 57, 55, 86, 65, 87, 86, 105, 58, 75, 71, 93, 74, 122, 87, 57, 46, 82, 62, 81, 63, 81, 90, 56, 54, 61, 92, 42, 76, 82, 89, 55, 73, 116, 38, 44, 101, 72, 86, 62, 83, 88, 81, 72, 76, 73, 57, 78, 107, 85, 91, 48, 94, 100, 61, 63, 41, 82, 71, 83, 68, 59, 65, 89, 111, 86, 80, 82, 28, 59, 74, 61, 68, 50, 64, 69, 48, 99, 13, 60, 68, 108, 99, 76, 96, 71, 72, 53, 87, 52, 52, 41, 83, 95, 83, 33, 95, 55, 36, 76, 109, 105, 91, 59, 113, 83, 92, 34, 80, 71, 84, 66, 86, 20, 69, 100, 90, 64, 102, 88, 70, 39, 73, 89, 105, 65, 105, 57, 100, 70, 76, 59, 58, 104, 70, 85, 44, 126, 67, 85, 76, 79, 63, 46, 97, 73, 61, 24, 55, 92, 71, 86, 63, 64, 76, 69, 128, 61, 26, 50, 98, 19, 98, 91, 88, 127, 91, 73, 36, 76, 58, 28, 40, 50, 60, 35, 87, 63, 91, 131, 77, 10, 79, 77, 45, 65, 59, 66, 13, 56, 55, 100, 63, 73, 106, 87, 72, 55, 56, 67, 63, 97, 108, 76, 25, 90, 53, 84, 90, 87, 46, 94, 43, 80, 71, 76, 27, 92, 53, 56, 76, 85, 58, 90, 88, 55, 96, 83, 63, 65, 98, 106, 70, 61, 70, 98, 67, 99, 104, 91, 74, 105, 91, 85, 88, 84, 89, 90, 85, 84, 69, 122, 72, 134, 94, 83, 66, 84, 75, 80, 81, 72, 21, 77, 67, 91, 81, 69, 54, 53, 65, 69, 113, 97, 72, 74, 74, 86, 89, 95, 100, 105, 45, 68, 66, 86, 53, 72, 67, 58, 98, 77, 24, 89, 75, 69, 92, 74, 80, 89, 83, 41, 54, 90, 70, 83, 61, 118, 33, 75, 78, 89, 78, 62, 11, 49, 47, 36, 51, 74, 73, 34, 99, 20, 79, 100, 84, 87, 48, 96, 81, 104, 82, 111, 66, 89, 91, 41, 87, 88, 85, 70, 16, 76, 73, 68, 106, 83, 91, 95, 59, 100, 75, 119, 81, 66, 63, 96, 46, 86, 63, 73, 79, 88, 42, 92, 79, 64, 81, 45, 57, 82, 66, 92, 82, 70, 79, 36, 52, 73, 54, 65, 53, 99, 64, 91, 86, 67, 30, 70, 45, 96, 57, 98, 67, 81, 40, 83, 134, 69, 86, 97, 85, 97, 93, 86, 101, 55, 82, 91, 78, 48, 71, 73, 54, 84, 95, 118, 63, 68, 64, 61, 56, 74, 68, 86, 86, 78, 47, 25, 43, 41, 81, 48, 82, 70, 102, 30, 90, 73, 45, 77, 85, 72, 66, 79, 97, 77, 62, 68, 30, 50, 69, 103, 72, 95, 93, 54, 79, 83, 101, 121, 89, 90, 78, 64, 70, 74, 75, 64, 60, 88, 67, 31, 73, 69, 66, 93, 72, 71, 62, 58, 68, 45, 75, 83, 100, 82, 60, 68, 46, 83, 109, 80, 42, 54, 87, 60, 105, 60, 64, 45, 114, 80, 72, 39, 106, 79, 90, 108, 59, 46, 64, 77, 73, 88, 75, 69, 59, 57, 78, 86, 124, 66, 70, 86, 78, 72, 95, 59, 81, 38, 133, 39, 91, 74, 80, 70, 106, 25, 76, 60, 60, 86, 47, 60, 79, 60, 80, 81, 48, 97, 76, 73, 85, 67, 83, 84, 62, 104, 85, 70, 80, 117, 72, 70, 79, 98, 75, 83, 90, 90, 58, 86, 91, 41, 26, 78, 66, 38, 97, 63, 66, 51, 75, 53, 97, 44, 65, 88, 73, 90, 66, 57, 38, 73, 88, 88, 49, 77, 85, 87, 88, 79, 36, 62, 72, 91, 20, 116, 71, 71, 73, 96, 98, 71, 77, 30, 88, 87, 49, 73, 71, 89, 20, 93, 74, 51, 83, 70, 91, 13, 78, 81, 89, 111, 24, 86, 50, 58, 95, 112, 76, 135, 66, 102, 40, 81, 100, 65, 73, 86, 86, 106, 96, 87, 67, 93, 62, 77, 133, 64, 92, 78, 73, 85, 102, 82, 69, 87, 70, 59, 75, 81, 78, 63, 48, 131, 59, 100, 69, 53, 68, 79, 95, 60, 93, 131, 80, 58, 81, 69, 76, 69, 104, 47, 83, 82, 118, 88, 92, 91, 45, 85, 70, 78, 97, 60, 77, 57, 37, 103, 73, 82, 74, 111, 81, 58, 42, 43, 98, 61, 74, 91, 79, 88, 107, 90, 83, 85, 117, 74, 78, 95, 107, 91, 87, 105, 37, 74, 80, 76, 77, 60, 90, 115, 49, 89, 43, 63, 97, 72, 72, 52, 190, 92, 57, 45, 77, 31, 59, 61, 86, 66, 67, 68, 87, 70, 82, 71, 53, 66, 73, 79, 95, 85, 54, 90, 72, 94, 110, 78, 112, 50, 63, 20, 84, 54, 86, 87, 77, 80, 65, 52, 64, 85, 87, 94, 68, 105, 91, 112, 55, 86, 93, 38, 63, 57, 83, 110, 89, 33, 95, 52, 88, 61, 78, 84, 86, 95, 70, 39, 84, 75, 66, 89, 23, 73, 80, 71, 64, 75, 76, 78, 65, 60, 63, 121, 39, 76, 88, 91, 52, 52, 38, 88, 81, 95, 55, 84, 45, 57, 61, 70, 76, 82, 38, 81, 53, 103, 80, 87, 32, 35, 65, 95, 33, 77, 75, 53, 59, 107, 80, 78, 96, 32, 59, 73, 88, 27, 80, 41, 75, 56, 66, 59, 35, 71, 76, 88, 61, 89, 46, 22, 43, 90, 73, 84, 63, 55, 24, 90, 62, 71, 86, 126, 90, 68, 71, 94, 52, 87, 68, 52, 60, 118, 67, 102, 24, 81, 61, 68, 102, 85, 86, 78, 66, 108, 109, 65, 66, 46, 91, 87, 33, 88, 93, 114, 64, 119, 80, 102, 90, 97, 65, 73, 59, 89, 39, 71, 102, 72, 56, 41, 92, 85, 82, 65, 71, 92, 78, 50, 84, 72, 101, 82, 63, 83, 96, 85, 34, 78, 74, 78, 82, 35, 79, 46, 83, 58, 34, 69, 93, 71, 77, 110, 61, 54, 68, 114, 85, 71, 74, 42, 54, 99, 92, 3, 81, 63, 50, 71, 104, 41, 41, 92, 83, 33, 54, 60, 80, 69, 84, 88, 98, 66, 80, 65, 24, 85, 41, 51, 88, 91, 74, 97, 95, 80, 33, 48, 86, 57, 94, 93, 55, 64, 76, 47, 65, 46, 72, 85, 72, 88, 72, 86, 64, 81, 75, 80, 69, 77, 88, 63, 62, 79, 88, 68, 72, 94, 50, 70, 92, 56, 94, 64, 62, 80, 71, 95, 75, 71, 78, 100, 87, 120, 71, 91, 76, 97, 119, 112, 108, 73, 84, 39, 84, 81, 66, 83, 28, 84, 89, 42, 97, 52, 88, 73, 76, 82, 38, 14, 90, 66, 28, 62, 94, 94, 85, 113, 82, 48, 72, 97, 89, 73, 77, 83, 64, 85, 44, 66, 88, 45, 65, 88, 70, 63, 71, 79, 88, 36, 86, 81, 94, 72, 71, 80, 66, 65, 72, 72, 100, 77, 66, 58, 71, 76, 77, 51, 51, 67, 62, 55, 53, 66, 87, 84, 75, 63, 76, 90, 45, 80, 83, 32, 87, 68, 44, 58, 69, 49, 75, 55, 115, 64, 91, 114, 41, 97, 37, 32, 85, 88, 95, 55, 73, 52, 26, 52, 59, 69, 94, 110, 79, 83, 45, 65, 71, 59, 48, 115, 74, 95, 42, 69, 84, 83, 109, 46, 51, 51, 87, 57, 78, 93, 89, 112, 80, 78, 71, 94, 61, 53, 92, 92, 69, 80, 92, 53, 111, 43, 93, 68, 77, 33, 78, 72, 67, 78, 60, 54, 65, 85, 34, 54, 83, 95, 80, 81, 29, 27, 75, 56, 74, 71, 59, 95, 98, 73, 51, 77, 76, 93, 89, 68, 83, 87, 91, 95, 89, 78, 61, 91, 94, 49, 9, 84, 75, 54, 88, 68, 31, 103, 98, 68, 37, 60, 98, 69, 52, 57, 72, 103, 59, 45, 86, 58, 93, 96, 17, 112, 61, 71, 65, 106, 48, 60, 91, 72, 72, 74, 99, 73, 73, 34, 85, 41, 65, 63, 69, 55, 65, 76, 79, 86, 62, 62, 63, 66, 74, 76, 81, 44, 93, 99, 37, 104, 101, 92, 69, 94, 79, 62, 78, 82, 26, 82, 87, 84, 96, 54, 88, 90, 94, 68, 80, 74, 78, 91, 65, 127, 82, 69, 91, 46, 51, 93, 81, 98, 85, 34, 107, 72, 71, 72, 57, 75, 103, 65, 82, 86, 77, 88, 100, 69, 93, 52, 74, 128, 79, 69, 88, 64, 53, 61, 92, 78, 67, 46, 107, 82, 85, 94, 57, 109, 40, 85, 59, 104, 60, 76, 76, 71, 51, 98, 52, 93, 77, 79, 92, 81, 72, 82, 73, 11, 55, 91, 86, 74, 98, 76, 81, 396, 68, 43, 52, 81, 63, 19, 43, 75, 99, 65, 70, 56, 76, 87, 71, 82, 97, 78, 96, 68, 87, 65, 35, 81, 76, 89, 89, 94, 56, 77, 118, 95, 92, 79, 76, 85, 76, 69, 70, 92, 94, 94, 24, 72, 90, 57, 94, 54, 60, 67, 94, 94, 83, 56, 62, 86, 55, 26, 93, 62, 51, 79, 79, 64, 64, 71, 110, 76, 31, 72, 46, 100, 101, 82, 85, 74, 81, 68, 99, 87, 96, 72, 66, 90, 90, 74, 91, 67, 66, 89, 89, 92, 47, 72, 89, 83, 98, 83, 64, 52, 90, 52, 67, 91, 58, 69, 69, 24, 66, 39, 82, 64, 71, 28, 75, 70, 91, 85, 77, 76, 35, 69, 130, 96, 70, 102, 50, 66, 81, 66, 82, 68, 84, 85, 85, 93, 65, 83, 51, 130, 49, 74, 74, 102, 152, 97, 40, 86, 44, 87, 60, 70, 41, 83, 66, 75, 66, 61, 67, 75, 79, 73, 88, 53, 97, 51, 87, 68, 54, 44, 79, 95, 85, 110, 78, 73, 39, 67, 85, 107, 60, 91, 68, 63, 105, 56, 68, 88, 148, 78, 73, 74, 68, 51, 97, 57, 64, 75, 86, 67, 30, 79, 94, 74, 82, 90, 72, 85, 82, 70, 79, 84, 87, 63, 54, 49, 59, 110, 126, 87, 77, 16, 32, 51, 86, 90, 95, 98, 67, 61, 54, 93, 83, 85, 67, 60, 53, 85, 33, 70, 12, 73, 56, 75, 48, 102, 84, 61, 85, 27, 83, 72, 34, 86, 82, 68, 73, 89, 45, 87, 48, 85, 82, 61, 43, 83, 67, 64, 91, 84, 61, 84, 17, 59, 89, 44, 93, 74, 78, 87, 97, 68, 38, 82, 107, 126, 89, 36, 82, 96, 112, 55, 83, 78, 93, 56, 34, 67, 95, 94, 11, 55, 83, 104, 78, 68, 102, 83, 81, 55, 111, 42, 70, 81, 100, 52, 96, 47, 89, 79, 96, 86, 83, 58, 57, 51, 92, 81, 64, 81, 121, 65, 79, 62, 70, 86, 120, 67, 34, 85, 77, 77, 42, 72, 95, 79, 77, 45, 94, 53, 93, 21, 78, 89, 77, 61, 96, 99, 81, 55, 82, 96, 73, 79, 99, 89, 63, 94, 37, 80, 75, 64, 50, 69, 16, 70, 84, 13, 73, 93, 71, 82, 67, 67, 106, 77, 70, 74, 94, 124, 67, 104, 78, 73, 60, 96, 51, 105, 91, 62, 61, 61, 67, 70, 109, 94, 74, 71, 59, 86, 68, 82, 113, 54, 49, 70, 106, 76, 90, 71, 96, 59, 87, 64, 93, 135, 69, 86, 88, 42, 42, 47, 80, 71, 66, 87, 51, 34, 89, 80, 96, 133, 80, 92, 70, 67, 61, 64, 60, 104, 71, 55, 40, 62, 76, 76, 93, 79, 90, 80, 84, 89, 72, 53, 78, 100, 54, 88, 111, 88, 48, 96, 82, 94, 105, 82, 37, 82, 86, 98, 97, 81, 90, 79, 59, 72, 79, 71, 85, 93, 87, 157, 75, 82, 69, 44, 76, 76, 74, 82, 116, 57, 94, 75, 82, 89, 221, 97, 84, 84, 121, 48, 88, 45, 86, 72, 54, 71, 82, 71, 73, 48, 100, 66, 92, 54, 58, 77, 36, 100, 56, 63, 63, 34, 72, 55, 114, 73, 91, 94, 45, 99, 93, 73, 70, 80, 42, 72, 78, 77, 83, 73, 91, 65, 58, 85, 86, 32, 86, 90, 74, 99, 61, 87, 83, 81, 87, 78, 95, 86, 63, 43, 63, 99, 65, 70, 92, 88, 54, 49, 48, 138, 80, 80, 70, 81, 81, 56, 47, 84, 92, 175, 72, 91, 86, 75, 53, 113, 84, 38, 55, 86, 40, 87, 42, 61, 46, 83, 86, 83, 56, 72, 64, 76, 79, 65, 87, 110, 105, 90, 57, 61, 61, 69, 77, 54, 64, 78, 82, 112, 82, 120, 75, 58, 74, 42, 73, 78, 64, 81, 116, 63, 28, 58, 54, 92, 84, 130, 60, 125, 85, 45, 85, 88, 75, 118, 68, 61, 88, 78, 80, 70, 60, 82, 86, 89, 96, 94, 95, 147, 94, 90, 60, 80, 87, 73, 84, 86, 59, 31, 84, 100, 71, 65, 65, 83, 45, 61, 69, 54, 58, 102, 101, 53, 70, 102, 115, 78, 53, 64, 97, 65, 49, 85, 80, 80, 64, 58, 96, 98, 53, 64, 34, 83, 95, 108, 69, 88, 55, 82, 86, 32, 81, 98, 97, 80, 80, 90, 50, 78, 101, 65, 95, 100, 61, 36, 46, 43, 80, 51, 76, 36, 90, 79, 87, 94, 92, 76, 4, 114, 61, 101, 92, 84, 73, 39, 72, 41, 71, 82, 51, 80, 123, 84, 60, 56, 77, 64, 100, 55, 64, 61, 95, 61, 73, 59, 89, 84, 55, 91, 46, 14, 73, 72, 92, 91, 58, 63, 84, 66, 74, 80, 59, 83, 89, 62, 84, 76, 99, 110, 85, 62, 72, 99, 62, 89, 28, 47, 73, 66, 79, 51, 90, 59, 125, 74, 94, 68, 76, 66, 87, 34, 90, 89, 55, 79, 56, 81, 94, 116, 86, 57, 70, 70, 89, 62, 102, 58, 64, 57, 74, 42, 83, 92, 75, 42, 83, 107, 60, 77, 84, 45, 83, 76, 79, 95, 82, 90, 45, 88, 84, 81, 91, 95, 89, 73, 87, 61, 80, 31, 64, 73, 58, 110, 60, 54, 72, 30, 43, 60, 11, 115, 73, 103, 100, 93, 70, 93, 77, 66, 60, 64, 34, 149, 58, 88, 59, 82, 63, 49, 79, 91, 65, 56, 40, 42, 66, 78, 84, 102, 80, 100, 66, 80, 74, 46, 76, 81, 89, 89, 79, 78, 61, 81, 113, 66, 53, 95, 81, 83, 65, 88, 64, 92, 90, 82, 79, 83, 90, 61, 70, 100, 110, 42, 25, 72, 54, 80, 59, 76, 51, 82, 77, 45, 62, 99, 79, 28, 21, 71, 72, 53, 87, 61, 59, 14, 25, 79, 63, 82, 34, 110, 45, 33, 95, 71, 75, 85, 67, 85, 56, 93, 54, 84, 84, 89, 40, 95, 78, 106, 92, 81, 87, 67, 78, 56, 48, 84, 53, 40, 106, 50, 85, 55, 80, 79, 72, 99, 53, 72, 61, 101, 101, 61, 78, 110, 42, 28, 50, 81, 78, 69, 69, 80, 60, 81, 87, 87, 95, 72, 75, 85, 44, 101, 84, 51, 67, 64, 81, 92, 84, 58, 78, 81, 62, 66, 85, 74, 62, 79, 103, 59, 93, 65, 68, 109, 51, 75, 69, 90, 85, 85, 87, 92, 79, 25, 63, 75, 86, 53, 103, 75, 104, 52, 76, 79, 72, 77, 85, 93, 72, 57, 41, 110, 66, 80, 66, 48, 93, 98, 72, 96, 39, 23, 164, 103, 68, 24, 43, 86, 73, 84, 89, 83, 71, 86, 64, 67, 101, 67, 80, 61, 96, 74, 108, 81, 65, 23, 69, 76, 63, 167, 43, 53, 76, 55, 101, 85, 107, 102, 56, 90, 62, 84, 54, 72, 45, 91, 87, 82, 81, 97, 60, 44, 57, 89, 55, 82, 82, 83, 79, 77, 82, 24, 19, 109, 106, 87, 93, 64, 57, 88, 66, 138, 66, 68, 85, 75, 62, 69, 69, 78, 51, 44, 82, 40, 77, 46, 92, 69, 117, 89, 101, 87, 53, 49, 79, 80, 102, 71, 77, 48, 98, 57, 82, 80, 79, 97, 92, 62, 60, 87, 84, 69, 111, 78, 68, 40, 84, 69, 60, 78, 89, 79, 9, 72, 57, 94, 83, 105, 76, 103, 46, 73, 56, 24, 68, 25, 39, 72, 56, 66, 65, 59, 80, 71, 50, 54, 42, 97, 101, 77, 67, 62, 52, 49, 85, 121, 63, 79, 25, 83, 49, 114, 19, 75, 65, 69, 73, 65, 73, 75, 69, 58, 81, 70, 64, 48, 91, 82, 76, 68, 93, 91, 88, 111, 59, 89, 69, 147, 65, 80, 37, 74, 135, 66, 51, 109, 82, 74, 80, 93, 93, 17, 64, 90, 72, 63, 52, 55, 62, 83, 81, 88, 85, 94, 76, 42, 33, 76, 83, 31, 86, 78, 87, 87, 62, 52, 66, 75, 90, 87, 81, 75, 64, 84, 69, 83, 51, 69, 83, 60, 79, 103, 64, 75, 65, 92, 64, 115, 86, 75, 71, 83, 61, 72, 77, 66, 100, 83, 53, 78, 79, 104, 88, 66, 88, 46, 71, 35, 67, 84, 75, 71, 66, 83, 50, 74, 71, 54, 68, 42, 79, 87, 118, 60, 85, 96, 67, 74, 56, 91, 84, 96, 77, 73, 85, 93, 109, 88, 81, 95, 80, 94, 62, 58, 98, 74, 102, 74, 81, 83, 92, 67, 50, 77, 62, 84, 72, 59, 131, 59, 86, 90, 102, 30, 79, 33, 95, 96, 79, 63, 70, 78, 70, 41, 76, 65, 45, 85, 87, 87, 68, 68, 52, 93, 13, 61, 48, 115, 19, 56, 65, 84, 76, 84, 66, 74, 89, 56, 49, 97, 92, 57, 93, 119, 86, 39, 75, 89, 91, 84, 56, 60, 97, 88, 64, 41, 46, 72, 97, 91, 48, 72, 64, 67, 76, 86, 84, 65, 94, 90, 90, 80, 95, 98, 67, 85, 77, 80, 94, 86, 37, 76, 121, 64, 59, 56, 90, 91, 72, 73, 16, 9, 80, 89, 82, 63, 83, 74, 18, 83, 100, 66, 55, 99, 80, 27, 72, 67, 68, 55, 85, 85, 88, 53, 36, 79, 52, 25, 85, 70, 61, 87, 86, 56, 62, 58, 47, 54, 51, 53, 76, 74, 100, 79, 70, 92, 64, 30, 94, 90, 97, 41, 70, 10, 49, 90, 85, 91, 89, 83, 80, 85, 111, 65, 100, 21, 68, 69, 41, 55, 82, 81, 69, 78, 88, 80, 14, 68, 86, 93, 102, 74, 82, 77, 82, 95, 92, 61, 85, 67, 86, 53, 62, 123, 38, 255, 64, 84, 35, 95, 72, 64, 49, 52, 114, 59, 76, 96, 27, 46, 109, 111, 90, 90, 51, 72, 47, 70, 90, 77, 80, 94, 84, 96, 82, 96, 61, 83, 85, 69, 63, 28, 33, 79, 107, 87, 48, 32, 99, 59, 86, 96, 67, 72, 97, 106, 88, 65, 27, 76, 57, 92, 89, 74, 102, 69, 68, 98, 90, 53, 97, 63, 66, 87, 80, 55, 40, 65, 74, 48, 99, 84, 98, 115, 82, 72, 66, 72, 56, 81, 77, 33, 72, 93, 74, 84, 61, 58, 99, 78, 68, 72, 103, 57, 86, 49, 95, 70, 92, 80, 55, 77, 70, 49, 30, 60, 102, 54, 76, 34, 80, 56, 77, 78, 55, 76, 52, 65, 76, 90, 101, 45, 86, 84, 109, 91, 81, 54, 96, 52, 60, 57, 87, 61, 67, 23, 43, 65, 92, 52, 81, 84, 50, 80, 85, 71, 68, 104, 81, 96, 79, 52, 78, 127, 51, 97, 81, 82, 80, 82, 69, 55, 58, 60, 53, 57, 60, 78, 78, 79, 58, 90, 89, 124, 63, 71, 57, 73, 83, 71, 84, 58, 27, 65, 76, 71, 99, 59, 61, 68, 36, 109, 79, 42, 78, 81, 69, 124, 57, 57, 55, 82, 113, 80, 69, 91, 58, 229, 65, 37, 56, 63, 98, 80, 67, 104, 95, 77, 83, 92, 95, 38, 66, 60, 82, 16, 66, 67, 65, 86, 76, 120, 68, 79, 84, 44, 90, 55, 79, 27, 58, 69, 93, 92, 16, 75, 94, 56, 100, 51, 81, 77, 97, 25, 95, 102, 83, 38, 70, 91, 65, 67, 47, 62, 100, 58, 85, 80, 52, 63, 77, 73, 76, 66, 88, 54, 68, 31, 84, 88, 95, 106, 71, 52, 44, 73, 58, 70, 88, 64, 39, 69, 78, 68, 49, 87, 76, 56, 117, 45, 86, 79, 231, 71, 88, 94, 83, 56, 88, 83, 95, 94, 77, 61, 74, 30, 96, 50, 107, 81, 72, 55, 91, 35, 79, 119, 74, 87, 91, 89, 90, 76, 96, 64, 94, 60, 80, 66, 72, 86, 66, 109, 81, 72, 55, 49, 77, 80, 84, 82, 100, 82, 49, 91, 79, 153, 92, 80, 89, 20, 77, 74, 69, 74, 93, 40, 80, 113, 78, 72, 66, 147, 67, 75, 71, 121, 87, 79, 59, 83, 72, 76, 86, 33, 67, 107, 94, 78, 47, 76, 43, 241, 68, 125, 109, 63, 47, 74, 95, 83, 84, 70, 82, 47, 38, 106, 67, 89, 81, 70, 83, 77, 96, 84, 97, 43, 94, 70, 77, 69, 57, 66, 92, 95, 64, 74, 97, 87, 51, 80, 77, 70, 83, 73, 38, 68, 62, 70, 102, 92, 98, 41, 41, 37, 83, 84, 96, 76, 69, 63, 130, 75, 80, 66, 60, 82, 74, 79, 113, 79, 71, 65, 57, 88, 61, 102, 121, 121, 107, 85, 79, 81, 49, 67, 48, 25, 76, 27, 89, 69, 87, 69, 85, 84, 58, 85, 88, 82, 50, 78, 73, 82, 85, 108, 69, 120, 83, 60, 77, 85, 74, 119, 72, 62, 56, 39, 60, 116, 31, 89, 62, 56, 85, 54, 56, 104, 103, 103, 68, 78, 75, 51, 75, 60, 85, 82, 83, 49, 77, 91, 73, 91, 75, 107, 61, 17, 56, 91, 75, 90, 83, 79, 59, 81, 79, 57, 62, 58, 94, 72, 81, 132, 55, 47, 96, 82, 86, 72, 55, 96, 67, 73, 30, 23, 80, 85, 72, 80, 78, 206, 46, 86, 60, 51, 69, 105, 110, 48, 69, 84, 74, 84, 42, 87, 98, 82, 72, 75, 64, 65, 113, 97, 84, 88, 49, 27, 69, 93, 58, 59, 47, 73, 94, 56, 82, 62, 89, 70, 80, 44, 36, 67, 76, 104, 86, 93, 89, 75, 90, 45, 70, 71, 66, 74, 101, 76, 89, 61, 59, 70, 77, 89, 84, 81, 83, 67, 77, 51, 66, 85, 14, 73, 93, 53, 61, 93, 117, 84, 53, 96, 31, 71, 50, 62, 88, 88, 104, 83, 81, 70, 64, 99, 79, 71, 48, 65, 70, 34, 104, 85, 80, 52, 22, 89, 78, 92, 78, 95, 64, 86, 43, 61, 72, 51, 57, 97, 128, 74, 40, 83, 92, 35, 85, 80, 85, 93, 72, 74, 93, 57, 77, 74, 95, 63, 100, 133, 37, 33, 57, 29, 87, 90, 75, 79, 93, 83, 77, 65, 34, 101, 98, 81, 28, 58, 83, 39, 35, 89, 91, 47, 72, 77, 81, 43, 87, 74, 65, 76, 60, 69, 73, 39, 93, 65, 84, 44, 83, 46, 73, 69, 101, 117, 48, 61, 95, 75, 62, 89, 132, 74, 49, 80, 73, 35, 87, 14, 103, 74, 75, 35, 81, 78, 78, 93, 102, 69, 83, 59, 17, 63, 104, 68, 67, 49, 82, 54, 75, 99, 44, 70, 88, 85, 32, 114, 114, 82, 83, 35, 77, 90, 80, 74, 41, 86, 61, 141, 65, 83, 69, 29, 66, 53, 59, 67, 73, 55, 69, 84, 59, 57, 49, 119, 90, 68, 94, 65, 95, 52, 92, 101, 88, 80, 52, 107, 75, 55, 90, 83, 55, 75, 104, 47, 90, 89, 110, 77, 90, 94, 69, 82, 96, 99, 90, 75, 29, 59, 57, 84, 63, 73, 110, 105, 84, 86, 76, 102, 91, 67, 61, 71, 124, 38, 96, 75, 96, 73, 92, 71, 85, 65, 89, 103, 87, 106, 89, 78, 90, 25, 108, 60, 67, 87, 13, 37, 53, 81, 53, 85, 92, 70, 63, 72, 42, 101, 46, 75, 60, 56, 48, 80, 71, 65, 85, 86, 72, 82, 86, 78, 52, 139, 71, 105, 96, 88, 59, 71, 69, 68, 118, 90, 97, 76, 84, 49, 100, 69, 75, 77, 87, 77, 71, 84, 113, 65, 53, 73, 69, 94, 95, 94, 68, 89, 65, 68, 82, 68, 53, 83, 73, 70, 44, 96, 90, 99, 70, 90, 54, 98, 49, 69, 63, 68, 103, 65, 64, 69, 83, 69, 82, 100, 84, 77, 82, 60, 37, 82, 62, 85, 92, 45, 63, 75, 56, 64, 39, 51, 69, 86, 39, 70, 73, 51, 50, 59, 40, 78, 52, 43, 81, 102, 87, 95, 52, 32, 77, 44, 27, 55, 97, 96, 80, 47, 62, 58, 47, 89, 85, 82, 71, 73, 77, 97, 80, 100, 45, 93, 67, 79, 195, 81, 106, 75, 66, 82, 98, 30, 32, 55, 72, 27, 89, 66, 35, 61, 109, 52, 43, 61, 74, 78, 89, 67, 50, 44, 78, 53, 56, 71, 59, 70, 78, 64, 54, 71, 108, 75, 83, 80, 100, 100, 100, 57, 81, 63, 90, 69, 82, 63, 66, 32, 102, 68, 69, 74, 95, 63, 68, 80, 84, 86, 70, 65, 58, 84, 75, 107, 96, 82, 107, 77, 59, 45, 85, 79, 77, 97, 25, 85, 62, 90, 81, 82, 86, 63, 114, 57, 74, 72, 93, 31, 81, 58, 70, 91, 97, 40, 50, 34, 92, 85, 70, 61, 87, 14, 73, 45, 49, 86, 40, 88, 60, 100, 55, 85, 55, 89, 85, 50, 103, 85, 87, 87, 69, 67, 110, 87, 90, 62, 59, 84, 72, 105, 85, 67, 77, 97, 81, 74, 43, 75, 53, 44, 91, 106, 79, 54, 83, 68, 53, 83, 77, 46, 45, 64, 76, 96, 95, 92, 58, 98, 92, 83, 58, 87, 51, 70, 49, 71, 110, 60, 77, 100, 22, 88, 55, 106, 91, 85, 82, 110, 94, 103, 70, 75, 67, 88, 82, 86, 78, 101, 82, 98, 83, 119, 70, 72, 89, 77, 76, 56, 75, 90, 57, 70, 64, 51, 71, 83, 78, 51, 92, 81, 91, 43, 92, 78, 96, 66, 99, 88, 68, 56, 81, 71, 61, 83, 74, 67, 64, 96, 91, 87, 63, 83, 75, 67, 120, 64, 54, 83, 56, 98, 87, 91, 92, 66, 76, 52, 57, 79, 102, 42, 86, 37, 54, 98, 87, 94, 84, 57, 75, 91, 25, 118, 98, 94, 82, 80, 90, 92, 96, 58, 62, 72, 54, 57, 114, 70, 95, 93, 100, 82, 16, 98, 69, 119, 50, 90, 52, 73, 43, 63, 83, 58, 81, 96, 85, 84, 63, 93, 35, 74, 77, 93, 78, 82, 54, 86, 89, 67, 58, 89, 65, 90, 73, 79, 55, 108, 59, 89, 74, 90, 80, 89, 75, 46, 86, 43, 74, 45, 83, 31, 37, 23, 64, 61, 105, 82, 93, 65, 95, 62, 80, 90, 54, 52, 93, 47, 59, 49, 61, 74, 35, 79, 58, 106, 67, 89, 86, 84, 43, 71, 82, 62, 66, 97, 76, 88, 71, 47, 95, 58, 84, 52, 89, 95, 113, 99, 90, 84, 63, 77, 39, 61, 80, 111, 71, 133, 98, 70, 113, 95, 44, 79, 127, 84, 61, 59, 86, 75, 82, 95, 64, 79, 96, 71, 69, 81, 55, 68, 97, 81, 104, 55, 40, 93, 59, 51, 82, 85, 89, 67, 108, 52, 65, 94, 98, 66, 61, 85, 66, 31, 45, 63, 50, 132, 35, 25, 69, 51, 9, 76, 97, 88, 85, 70, 60, 99, 59, 80, 99, 83, 24, 90, 60, 68, 93, 68, 91, 73, 48, 89, 72, 57, 102, 81, 82, 84, 96, 42, 47, 54, 80, 82, 79, 76, 64, 37, 76, 96, 101, 70, 76, 95, 80, 56, 79, 86, 60, 50, 78, 60, 78, 43, 52, 47, 78, 112, 60, 61, 94, 86, 79, 84, 56, 101, 48, 71, 75, 90, 84, 42, 60, 75, 63, 79, 39, 83, 76, 80, 35, 102, 110, 76, 59, 96, 84, 59, 91, 67, 80, 81, 82, 65, 90, 91, 37, 76, 74, 87, 59, 49, 54, 78, 44, 27, 73, 86, 134, 60, 45, 80, 73, 70, 86, 102, 80, 80, 98, 85, 83, 55, 47, 93, 120, 43, 71, 91, 82, 67, 96, 29, 96, 46, 102, 72, 103, 81, 75, 92, 90, 50, 58, 89, 71, 89, 73, 69, 43, 51, 89, 28, 65, 91, 87, 100, 87, 77, 97, 56, 60, 92, 101, 88, 81, 119, 52, 62, 72, 88, 63, 65, 79, 56, 67, 87, 85, 222, 71, 90, 51, 23, 101, 13, 68, 34, 66, 88, 83, 55, 19, 77, 92, 82, 84, 85, 93, 80, 79, 98, 47, 127, 73, 59, 78, 79, 146, 53, 77, 70, 45, 97, 84, 81, 50, 68, 79, 33, 49, 84, 101, 58, 77, 116, 60, 37, 83, 81, 73, 104, 37, 55, 70, 83, 103, 65, 74, 55, 87, 85, 84, 76, 90, 84, 73, 58, 95, 85, 58, 43, 73, 78, 123, 60, 82, 65, 82, 69, 80, 71, 91, 74, 67, 59, 85, 51, 50, 59, 71, 48, 70, 60, 113, 67, 82, 79, 97, 95, 22, 77, 45, 52, 78, 41, 88, 87, 62, 116, 61, 97, 43, 69, 96, 93, 75, 41, 89, 76, 113, 79, 74, 90, 86, 88, 71, 98, 29, 70, 57, 86, 122, 65, 74, 99, 95, 80, 65, 61, 122, 82, 87, 58, 90, 67, 107, 85, 60, 81, 99, 14, 78, 92, 56, 77, 98, 66, 98, 71, 82, 76, 50, 87, 79, 93, 71, 102, 83, 51, 96, 63, 39, 78, 37, 91, 93, 81, 71, 88, 36, 93, 91, 63, 47, 112, 90, 86, 45, 99, 77, 77, 49, 80, 106, 80, 110, 53, 58, 47, 89, 51, 44, 72, 29, 54, 89, 35, 75, 49, 55, 86, 87, 76, 36, 103, 76, 86, 92, 95, 72, 62, 103, 42, 110, 47, 45, 73, 22, 90, 93, 98, 61, 68, 75, 50, 82, 96, 31, 59, 66, 78, 277, 45, 49, 69, 101, 68, 62, 82, 69, 86, 94, 77, 70, 73, 82, 94, 78, 63, 90, 100, 74, 52, 85, 82, 36, 78, 53, 70, 97, 88, 84, 34, 67, 85, 98, 64, 58, 73, 74, 101, 69, 88, 78, 61, 64, 55, 72, 87, 165, 45, 78, 70, 30, 55, 82, 95, 74, 89, 90, 81, 95, 119, 73, 93, 39, 84, 98, 42, 98, 89, 90, 75, 70, 38, 84, 50, 85, 93, 71, 95, 92, 96, 82, 87, 50, 89, 66, 96, 71, 65, 73, 81, 99, 88, 188, 46, 61, 54, 71, 68, 83, 16, 99, 71, 65, 93, 90, 58, 54, 68, 88, 62, 53, 63, 78, 89, 79, 78, 66, 59, 84, 102, 79, 95, 75, 70, 75, 86, 55, 64, 77, 68, 76, 71, 90, 82, 62, 81, 85, 69, 84, 84, 75, 112, 78, 77, 102, 91, 88, 68, 40, 79, 84, 66, 80, 103, 39, 68, 75, 63, 70, 90, 75, 48, 74, 56, 72, 85, 97, 77, 68, 67, 85, 77, 99, 91, 102, 82, 32, 51, 96, 59, 126, 85, 88, 52, 69, 47, 73, 69, 54, 74, 46, 11, 70, 92, 92, 64, 85, 66, 85, 91, 63, 83, 73, 78, 77, 69, 78, 71, 93, 93, 37, 88, 102, 73, 103, 76, 65, 51, 80, 86, 73, 77, 97, 98, 57, 50, 87, 99, 65, 90, 80, 85, 82, 41, 113, 77, 98, 81, 90, 23, 67, 105, 102, 26, 81, 78, 74, 87, 87, 73, 66, 74, 54, 69, 44, 83, 72, 46, 83, 55, 67, 84, 73, 77, 156, 89, 51, 90, 43, 98, 67, 98, 48, 5, 93, 80, 73, 58, 80, 114, 65, 79, 59, 94, 84, 71, 30, 72, 91, 63, 37, 84, 49, 43, 42, 90, 81, 112, 31, 58, 54, 25, 89, 64, 91, 79, 76, 45, 95, 36, 50, 78, 124, 75, 94, 82, 56, 105, 66, 58, 55, 82, 74, 102, 76, 100, 47, 99, 56, 83, 67, 81, 87, 72, 115, 75, 81, 51, 75, 93, 73, 73, 69, 97, 71, 77, 83, 88, 121, 64, 84, 53, 93, 73, 55, 97, 73, 73, 79, 72, 57, 92, 49, 56, 70, 10, 92, 97, 73, 77, 69, 50, 63, 71, 77, 94, 48, 73, 31, 56, 71, 17, 116, 56, 90, 40, 79, 106, 113, 72, 102, 205, 87, 65, 81, 74, 54, 25, 94, 21, 92, 68, 56, 90, 39, 92, 76, 63, 46, 78, 75, 66, 78, 76, 70, 71, 30, 92, 82, 71, 75, 34, 75, 95, 66, 74, 49, 70, 100, 62, 78, 91, 53, 76, 71, 86, 113, 77, 75, 60, 76, 61, 49, 47, 56, 47, 49, 71, 81, 81, 87, 80, 25, 81, 87, 58, 88, 82, 63, 83, 58, 37, 95, 66, 69, 60, 69, 47, 102, 76, 21, 87, 98, 29, 55, 37, 65, 83, 94, 30, 60, 52, 71, 74, 99, 76, 64, 78, 17, 60, 91, 100, 88, 44, 82, 97, 86, 79, 99, 81, 73, 55, 83, 61, 121, 79, 76, 75, 57, 94, 86, 93, 71, 68, 70, 75, 55, 65, 80, 50, 25]}],\n",
              "                        {\"template\": {\"data\": {\"bar\": [{\"error_x\": {\"color\": \"#2a3f5f\"}, \"error_y\": {\"color\": \"#2a3f5f\"}, \"marker\": {\"line\": {\"color\": \"#E5ECF6\", \"width\": 0.5}}, \"type\": \"bar\"}], \"barpolar\": [{\"marker\": {\"line\": {\"color\": \"#E5ECF6\", \"width\": 0.5}}, \"type\": \"barpolar\"}], \"carpet\": [{\"aaxis\": {\"endlinecolor\": \"#2a3f5f\", \"gridcolor\": \"white\", \"linecolor\": \"white\", \"minorgridcolor\": \"white\", \"startlinecolor\": \"#2a3f5f\"}, \"baxis\": {\"endlinecolor\": \"#2a3f5f\", \"gridcolor\": \"white\", \"linecolor\": \"white\", \"minorgridcolor\": \"white\", \"startlinecolor\": \"#2a3f5f\"}, \"type\": \"carpet\"}], \"choropleth\": [{\"colorbar\": {\"outlinewidth\": 0, \"ticks\": \"\"}, \"type\": \"choropleth\"}], \"contour\": [{\"colorbar\": {\"outlinewidth\": 0, \"ticks\": \"\"}, \"colorscale\": [[0.0, \"#0d0887\"], [0.1111111111111111, \"#46039f\"], [0.2222222222222222, \"#7201a8\"], [0.3333333333333333, \"#9c179e\"], [0.4444444444444444, \"#bd3786\"], [0.5555555555555556, \"#d8576b\"], [0.6666666666666666, \"#ed7953\"], [0.7777777777777778, \"#fb9f3a\"], [0.8888888888888888, \"#fdca26\"], [1.0, \"#f0f921\"]], \"type\": \"contour\"}], \"contourcarpet\": [{\"colorbar\": {\"outlinewidth\": 0, \"ticks\": \"\"}, \"type\": \"contourcarpet\"}], \"heatmap\": [{\"colorbar\": {\"outlinewidth\": 0, \"ticks\": \"\"}, \"colorscale\": [[0.0, \"#0d0887\"], [0.1111111111111111, \"#46039f\"], [0.2222222222222222, \"#7201a8\"], [0.3333333333333333, \"#9c179e\"], [0.4444444444444444, \"#bd3786\"], [0.5555555555555556, \"#d8576b\"], [0.6666666666666666, \"#ed7953\"], [0.7777777777777778, \"#fb9f3a\"], [0.8888888888888888, \"#fdca26\"], [1.0, \"#f0f921\"]], \"type\": \"heatmap\"}], \"heatmapgl\": [{\"colorbar\": {\"outlinewidth\": 0, \"ticks\": \"\"}, \"colorscale\": [[0.0, \"#0d0887\"], [0.1111111111111111, \"#46039f\"], [0.2222222222222222, \"#7201a8\"], [0.3333333333333333, \"#9c179e\"], [0.4444444444444444, \"#bd3786\"], [0.5555555555555556, \"#d8576b\"], [0.6666666666666666, \"#ed7953\"], [0.7777777777777778, \"#fb9f3a\"], [0.8888888888888888, \"#fdca26\"], [1.0, \"#f0f921\"]], \"type\": \"heatmapgl\"}], \"histogram\": [{\"marker\": {\"colorbar\": {\"outlinewidth\": 0, \"ticks\": \"\"}}, \"type\": \"histogram\"}], \"histogram2d\": [{\"colorbar\": {\"outlinewidth\": 0, \"ticks\": \"\"}, \"colorscale\": [[0.0, \"#0d0887\"], [0.1111111111111111, \"#46039f\"], [0.2222222222222222, \"#7201a8\"], [0.3333333333333333, \"#9c179e\"], [0.4444444444444444, \"#bd3786\"], [0.5555555555555556, \"#d8576b\"], [0.6666666666666666, \"#ed7953\"], [0.7777777777777778, \"#fb9f3a\"], [0.8888888888888888, \"#fdca26\"], [1.0, \"#f0f921\"]], \"type\": \"histogram2d\"}], \"histogram2dcontour\": [{\"colorbar\": {\"outlinewidth\": 0, \"ticks\": \"\"}, \"colorscale\": [[0.0, \"#0d0887\"], [0.1111111111111111, \"#46039f\"], [0.2222222222222222, \"#7201a8\"], [0.3333333333333333, \"#9c179e\"], [0.4444444444444444, \"#bd3786\"], [0.5555555555555556, \"#d8576b\"], [0.6666666666666666, \"#ed7953\"], [0.7777777777777778, \"#fb9f3a\"], [0.8888888888888888, \"#fdca26\"], [1.0, \"#f0f921\"]], \"type\": \"histogram2dcontour\"}], \"mesh3d\": [{\"colorbar\": {\"outlinewidth\": 0, \"ticks\": \"\"}, \"type\": \"mesh3d\"}], \"parcoords\": [{\"line\": {\"colorbar\": {\"outlinewidth\": 0, \"ticks\": \"\"}}, \"type\": \"parcoords\"}], \"pie\": [{\"automargin\": true, \"type\": \"pie\"}], \"scatter\": [{\"marker\": {\"colorbar\": {\"outlinewidth\": 0, \"ticks\": \"\"}}, \"type\": \"scatter\"}], \"scatter3d\": [{\"line\": {\"colorbar\": {\"outlinewidth\": 0, \"ticks\": \"\"}}, \"marker\": {\"colorbar\": {\"outlinewidth\": 0, \"ticks\": \"\"}}, \"type\": \"scatter3d\"}], \"scattercarpet\": [{\"marker\": {\"colorbar\": {\"outlinewidth\": 0, \"ticks\": \"\"}}, \"type\": \"scattercarpet\"}], \"scattergeo\": [{\"marker\": {\"colorbar\": {\"outlinewidth\": 0, \"ticks\": \"\"}}, \"type\": \"scattergeo\"}], \"scattergl\": [{\"marker\": {\"colorbar\": {\"outlinewidth\": 0, \"ticks\": \"\"}}, \"type\": \"scattergl\"}], \"scattermapbox\": [{\"marker\": {\"colorbar\": {\"outlinewidth\": 0, \"ticks\": \"\"}}, \"type\": \"scattermapbox\"}], \"scatterpolar\": [{\"marker\": {\"colorbar\": {\"outlinewidth\": 0, \"ticks\": \"\"}}, \"type\": \"scatterpolar\"}], \"scatterpolargl\": [{\"marker\": {\"colorbar\": {\"outlinewidth\": 0, \"ticks\": \"\"}}, \"type\": \"scatterpolargl\"}], \"scatterternary\": [{\"marker\": {\"colorbar\": {\"outlinewidth\": 0, \"ticks\": \"\"}}, \"type\": \"scatterternary\"}], \"surface\": [{\"colorbar\": {\"outlinewidth\": 0, \"ticks\": \"\"}, \"colorscale\": [[0.0, \"#0d0887\"], [0.1111111111111111, \"#46039f\"], [0.2222222222222222, \"#7201a8\"], [0.3333333333333333, \"#9c179e\"], [0.4444444444444444, \"#bd3786\"], [0.5555555555555556, \"#d8576b\"], [0.6666666666666666, \"#ed7953\"], [0.7777777777777778, \"#fb9f3a\"], [0.8888888888888888, \"#fdca26\"], [1.0, \"#f0f921\"]], \"type\": \"surface\"}], \"table\": [{\"cells\": {\"fill\": {\"color\": \"#EBF0F8\"}, \"line\": {\"color\": \"white\"}}, \"header\": {\"fill\": {\"color\": \"#C8D4E3\"}, \"line\": {\"color\": \"white\"}}, \"type\": \"table\"}]}, \"layout\": {\"annotationdefaults\": {\"arrowcolor\": \"#2a3f5f\", \"arrowhead\": 0, \"arrowwidth\": 1}, \"coloraxis\": {\"colorbar\": {\"outlinewidth\": 0, \"ticks\": \"\"}}, \"colorscale\": {\"diverging\": [[0, \"#8e0152\"], [0.1, \"#c51b7d\"], [0.2, \"#de77ae\"], [0.3, \"#f1b6da\"], [0.4, \"#fde0ef\"], [0.5, \"#f7f7f7\"], [0.6, \"#e6f5d0\"], [0.7, \"#b8e186\"], [0.8, \"#7fbc41\"], [0.9, \"#4d9221\"], [1, \"#276419\"]], \"sequential\": [[0.0, \"#0d0887\"], [0.1111111111111111, \"#46039f\"], [0.2222222222222222, \"#7201a8\"], [0.3333333333333333, \"#9c179e\"], [0.4444444444444444, \"#bd3786\"], [0.5555555555555556, \"#d8576b\"], [0.6666666666666666, \"#ed7953\"], [0.7777777777777778, \"#fb9f3a\"], [0.8888888888888888, \"#fdca26\"], [1.0, \"#f0f921\"]], \"sequentialminus\": [[0.0, \"#0d0887\"], [0.1111111111111111, \"#46039f\"], [0.2222222222222222, \"#7201a8\"], [0.3333333333333333, \"#9c179e\"], [0.4444444444444444, \"#bd3786\"], [0.5555555555555556, \"#d8576b\"], [0.6666666666666666, \"#ed7953\"], [0.7777777777777778, \"#fb9f3a\"], [0.8888888888888888, \"#fdca26\"], [1.0, \"#f0f921\"]]}, \"colorway\": [\"#636efa\", \"#EF553B\", \"#00cc96\", \"#ab63fa\", \"#FFA15A\", \"#19d3f3\", \"#FF6692\", \"#B6E880\", \"#FF97FF\", \"#FECB52\"], \"font\": {\"color\": \"#2a3f5f\"}, \"geo\": {\"bgcolor\": \"white\", \"lakecolor\": \"white\", \"landcolor\": \"#E5ECF6\", \"showlakes\": true, \"showland\": true, \"subunitcolor\": \"white\"}, \"hoverlabel\": {\"align\": \"left\"}, \"hovermode\": \"closest\", \"mapbox\": {\"style\": \"light\"}, \"paper_bgcolor\": \"white\", \"plot_bgcolor\": \"#E5ECF6\", \"polar\": {\"angularaxis\": {\"gridcolor\": \"white\", \"linecolor\": \"white\", \"ticks\": \"\"}, \"bgcolor\": \"#E5ECF6\", \"radialaxis\": {\"gridcolor\": \"white\", \"linecolor\": \"white\", \"ticks\": \"\"}}, \"scene\": {\"xaxis\": {\"backgroundcolor\": \"#E5ECF6\", \"gridcolor\": \"white\", \"gridwidth\": 2, \"linecolor\": \"white\", \"showbackground\": true, \"ticks\": \"\", \"zerolinecolor\": \"white\"}, \"yaxis\": {\"backgroundcolor\": \"#E5ECF6\", \"gridcolor\": \"white\", \"gridwidth\": 2, \"linecolor\": \"white\", \"showbackground\": true, \"ticks\": \"\", \"zerolinecolor\": \"white\"}, \"zaxis\": {\"backgroundcolor\": \"#E5ECF6\", \"gridcolor\": \"white\", \"gridwidth\": 2, \"linecolor\": \"white\", \"showbackground\": true, \"ticks\": \"\", \"zerolinecolor\": \"white\"}}, \"shapedefaults\": {\"line\": {\"color\": \"#2a3f5f\"}}, \"ternary\": {\"aaxis\": {\"gridcolor\": \"white\", \"linecolor\": \"white\", \"ticks\": \"\"}, \"baxis\": {\"gridcolor\": \"white\", \"linecolor\": \"white\", \"ticks\": \"\"}, \"bgcolor\": \"#E5ECF6\", \"caxis\": {\"gridcolor\": \"white\", \"linecolor\": \"white\", \"ticks\": \"\"}}, \"title\": {\"x\": 0.05}, \"xaxis\": {\"automargin\": true, \"gridcolor\": \"white\", \"linecolor\": \"white\", \"ticks\": \"\", \"title\": {\"standoff\": 15}, \"zerolinecolor\": \"white\", \"zerolinewidth\": 2}, \"yaxis\": {\"automargin\": true, \"gridcolor\": \"white\", \"linecolor\": \"white\", \"ticks\": \"\", \"title\": {\"standoff\": 15}, \"zerolinecolor\": \"white\", \"zerolinewidth\": 2}}}},\n",
              "                        {\"responsive\": true}\n",
              "                    ).then(function(){\n",
              "                            \n",
              "var gd = document.getElementById('471671e2-33a3-440c-ba38-726bf7d58ae5');\n",
              "var x = new MutationObserver(function (mutations, observer) {{\n",
              "        var display = window.getComputedStyle(gd).display;\n",
              "        if (!display || display === 'none') {{\n",
              "            console.log([gd, 'removed!']);\n",
              "            Plotly.purge(gd);\n",
              "            observer.disconnect();\n",
              "        }}\n",
              "}});\n",
              "\n",
              "// Listen for the removal of the full notebook cells\n",
              "var notebookContainer = gd.closest('#notebook-container');\n",
              "if (notebookContainer) {{\n",
              "    x.observe(notebookContainer, {childList: true});\n",
              "}}\n",
              "\n",
              "// Listen for the clearing of the current output cell\n",
              "var outputEl = gd.closest('.output');\n",
              "if (outputEl) {{\n",
              "    x.observe(outputEl, {childList: true});\n",
              "}}\n",
              "\n",
              "                        })\n",
              "                };\n",
              "                \n",
              "            </script>\n",
              "        </div>\n",
              "</body>\n",
              "</html>"
            ]
          },
          "metadata": {
            "tags": []
          }
        }
      ]
    },
    {
      "cell_type": "code",
      "metadata": {
        "colab": {
          "base_uri": "https://localhost:8080/"
        },
        "id": "9XDzJ_uOUEYb",
        "outputId": "813d08aa-9cfd-44e4-dbb8-43f1df005c83"
      },
      "source": [
        "Train.shape"
      ],
      "execution_count": null,
      "outputs": [
        {
          "output_type": "execute_result",
          "data": {
            "text/plain": [
              "(18285, 6)"
            ]
          },
          "metadata": {
            "tags": []
          },
          "execution_count": 264
        }
      ]
    },
    {
      "cell_type": "code",
      "metadata": {
        "colab": {
          "base_uri": "https://localhost:8080/"
        },
        "id": "YLDMXttSTUn2",
        "outputId": "1f31fd05-e7bc-4a07-abc7-5e89c4430dc2"
      },
      "source": [
        "len(Train[Train['title-length'] < 20])\r\n"
      ],
      "execution_count": null,
      "outputs": [
        {
          "output_type": "execute_result",
          "data": {
            "text/plain": [
              "158"
            ]
          },
          "metadata": {
            "tags": []
          },
          "execution_count": 265
        }
      ]
    },
    {
      "cell_type": "code",
      "metadata": {
        "colab": {
          "base_uri": "https://localhost:8080/"
        },
        "id": "zEJbe8fNTUqj",
        "outputId": "a26ac3ff-b84d-4901-e595-d4ac2fc01cd2"
      },
      "source": [
        "len(Train[Train['title-length'] > 128])\r\n"
      ],
      "execution_count": null,
      "outputs": [
        {
          "output_type": "execute_result",
          "data": {
            "text/plain": [
              "214"
            ]
          },
          "metadata": {
            "tags": []
          },
          "execution_count": 279
        }
      ]
    },
    {
      "cell_type": "markdown",
      "metadata": {
        "id": "ph_Y9CbHUglA"
      },
      "source": [
        "We would want to drop all of our outliers so we can get more accurate result"
      ]
    },
    {
      "cell_type": "code",
      "metadata": {
        "colab": {
          "base_uri": "https://localhost:8080/",
          "height": 35
        },
        "id": "rG4EnnAEUrM3",
        "outputId": "e0b1ca20-ad70-4658-85ac-b3141cc6d0c1"
      },
      "source": [
        "'''for title in Train['title-length']:\r\n",
        "  if(title > 128):\r\n",
        "   title = 0'''\r\n",
        "  "
      ],
      "execution_count": null,
      "outputs": [
        {
          "output_type": "execute_result",
          "data": {
            "application/vnd.google.colaboratory.intrinsic+json": {
              "type": "string"
            },
            "text/plain": [
              "\"for title in Train['title-length']:\\n  if(title > 128):\\n   title = 0\""
            ]
          },
          "metadata": {
            "tags": []
          },
          "execution_count": 267
        }
      ]
    },
    {
      "cell_type": "code",
      "metadata": {
        "colab": {
          "base_uri": "https://localhost:8080/"
        },
        "id": "u9Hs2NgLWfIA",
        "outputId": "7836872a-3e21-46a9-ae1d-6fbe41cf2f47"
      },
      "source": [
        "Train.shape"
      ],
      "execution_count": null,
      "outputs": [
        {
          "output_type": "execute_result",
          "data": {
            "text/plain": [
              "(18285, 6)"
            ]
          },
          "metadata": {
            "tags": []
          },
          "execution_count": 268
        }
      ]
    },
    {
      "cell_type": "code",
      "metadata": {
        "colab": {
          "base_uri": "https://localhost:8080/",
          "height": 52
        },
        "id": "lZxOhcyhZbrV",
        "outputId": "e90f6ba5-8ea8-44a9-af32-54d8a0f2cda1"
      },
      "source": [
        "'''# Get indexes where name column doesn't have value john\r\n",
        "length_0 = Train[(Train['title-length'] == 0)].index \r\n",
        "# Delete these row indexes from dataFrame\r\n",
        "Train.drop(length_0 , inplace=True)'''"
      ],
      "execution_count": null,
      "outputs": [
        {
          "output_type": "execute_result",
          "data": {
            "application/vnd.google.colaboratory.intrinsic+json": {
              "type": "string"
            },
            "text/plain": [
              "\"# Get indexes where name column doesn't have value john\\nlength_0 = Train[(Train['title-length'] == 0)].index \\n# Delete these row indexes from dataFrame\\nTrain.drop(length_0 , inplace=True)\""
            ]
          },
          "metadata": {
            "tags": []
          },
          "execution_count": 269
        }
      ]
    },
    {
      "cell_type": "code",
      "metadata": {
        "id": "_qtwvU0Fau3o"
      },
      "source": [
        "Train.drop(Train[Train['title-length'] > 128].index, inplace = True)\r\n",
        "Train.drop(Train[Train['title-length'] < 20].index, inplace = True)"
      ],
      "execution_count": null,
      "outputs": []
    },
    {
      "cell_type": "code",
      "metadata": {
        "colab": {
          "base_uri": "https://localhost:8080/"
        },
        "id": "OXIxhEhQZ3Rl",
        "outputId": "c69eeaf7-2c52-446e-92ff-08038efc0b39"
      },
      "source": [
        "Train.shape"
      ],
      "execution_count": null,
      "outputs": [
        {
          "output_type": "execute_result",
          "data": {
            "text/plain": [
              "(17913, 6)"
            ]
          },
          "metadata": {
            "tags": []
          },
          "execution_count": 296
        }
      ]
    }
  ]
}